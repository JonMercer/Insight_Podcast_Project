{
 "cells": [
  {
   "cell_type": "code",
   "execution_count": 36,
   "metadata": {
    "collapsed": true
   },
   "outputs": [],
   "source": [
    "import pycurl, json, sys\n",
    "import re\n",
    "import pandas as pd\n",
    "from common_func import check_url"
   ]
  },
  {
   "cell_type": "code",
   "execution_count": 38,
   "metadata": {
    "collapsed": false
   },
   "outputs": [],
   "source": [
    "\n",
    "url = 'https://itunes.apple.com/WebObjects/DZR.woa/wa/viewPodcast?cc=us&id=158004641'\n",
    "check_url(url, 1, 1)"
   ]
  },
  {
   "cell_type": "code",
   "execution_count": 3,
   "metadata": {
    "collapsed": true
   },
   "outputs": [],
   "source": [
    "class Test:\n",
    "   def __init__(self):\n",
    "       self.contents = ''\n",
    "\n",
    "   def body_callback(self, buf):\n",
    "       self.contents = self.contents + buf"
   ]
  },
  {
   "cell_type": "code",
   "execution_count": 21,
   "metadata": {
    "collapsed": false
   },
   "outputs": [],
   "source": [
    "t = Test()\n",
    "\n",
    "c = pycurl.Curl()\n",
    "c.setopt(pycurl.URL, url)\n",
    "c.setopt(pycurl.HTTPHEADER, ['X-Apple-Store-Front: 143444,5', 'X-Apple-Tz: 3600'])\n",
    "c.setopt(pycurl.USERAGENT, 'iTunes/9.2.1 (Macintosh; Intel Mac OS X 10.5.8) AppleWebKit/533.16')\n",
    "c.setopt(pycurl.SSL_VERIFYHOST, 0)\n",
    "c.setopt(pycurl.SSL_VERIFYPEER, 0)\n",
    "c.setopt(pycurl.WRITEFUNCTION, t.body_callback)\n",
    "c.perform()\n",
    "\n",
    "#print t.contents"
   ]
  },
  {
   "cell_type": "code",
   "execution_count": 27,
   "metadata": {
    "collapsed": true
   },
   "outputs": [],
   "source": [
    "# load pickled data\n",
    "pkls = !ls pkl/itunes*.pkl\n",
    "pkl_dfs = [pd.DataFrame(pd.read_pickle(pkl)) for pkl in pkls]\n",
    "podcastDf = pd.concat(pkl_dfs)\n",
    "\n",
    "# remove duplicate rows\n",
    "podcastDf = podcastDf.drop_duplicates('name')\n",
    "podcastDf.shape\n",
    "\n",
    "# small sample for testing\n",
    "podcastTest = podcastDf.sample(n=20)"
   ]
  },
  {
   "cell_type": "code",
   "execution_count": 14,
   "metadata": {
    "collapsed": false
   },
   "outputs": [
    {
     "data": {
      "text/plain": [
       "['268213039',\n",
       " '73329771',\n",
       " '294055449',\n",
       " '73330715',\n",
       " '216713308',\n",
       " '155974141',\n",
       " '124960485',\n",
       " '258723953',\n",
       " '278974813',\n",
       " '98746009']"
      ]
     },
     "execution_count": 14,
     "metadata": {},
     "output_type": "execute_result"
    }
   ],
   "source": [
    "also_subcribed_ids = re.findall(r'adam-id=\"(\\d+)\" aria-label=', t.contents)"
   ]
  },
  {
   "cell_type": "code",
   "execution_count": 20,
   "metadata": {
    "collapsed": false
   },
   "outputs": [
    {
     "data": {
      "text/plain": [
       "False"
      ]
     },
     "execution_count": 20,
     "metadata": {},
     "output_type": "execute_result"
    }
   ],
   "source": [
    "date_thresh = pd.to_datetime('Dec 7 2015')\n",
    "release_dates = re.findall(r'release-date=\"([\\w\\s]+)\"', t.contents)\n",
    "latest_date = pd.to_datetime(release_dates[0])\n",
    "latest_date < date_thresh"
   ]
  },
  {
   "cell_type": "code",
   "execution_count": 35,
   "metadata": {
    "collapsed": false
   },
   "outputs": [
    {
     "data": {
      "text/plain": [
       "['Slate Magazine']"
      ]
     },
     "execution_count": 35,
     "metadata": {},
     "output_type": "execute_result"
    }
   ],
   "source": [
    "artist = re.findall(r'More from ([\\w ]+)', t.contents)\n",
    "artist = list(set(artist))"
   ]
  },
  {
   "cell_type": "code",
   "execution_count": null,
   "metadata": {
    "collapsed": true
   },
   "outputs": [],
   "source": [
    "# test for latest episode date \n",
    "# check that most recent episode within 45 days\n",
    "latestDate = pd.to_datetime(release_dates[0])\n",
    "dateThresh = pd.to_datetime('Dec 7 2015')\n",
    "if latestDate < dateThresh:\n",
    "    active_feed.append(False)\n",
    "    itunes_keywords.append(False)\n",
    "    itunes_categories.append(False)\n",
    "    itunes_description.append(False)\n",
    "    itunes_subtitles.append(False)\n",
    "    itunes_summaries.append(False)\n",
    "else:\n",
    "    active_feed.append(True)"
   ]
  }
 ],
 "metadata": {
  "kernelspec": {
   "display_name": "Python 2",
   "language": "python",
   "name": "python2"
  },
  "language_info": {
   "codemirror_mode": {
    "name": "ipython",
    "version": 2
   },
   "file_extension": ".py",
   "mimetype": "text/x-python",
   "name": "python",
   "nbconvert_exporter": "python",
   "pygments_lexer": "ipython2",
   "version": "2.7.10"
  }
 },
 "nbformat": 4,
 "nbformat_minor": 0
}
