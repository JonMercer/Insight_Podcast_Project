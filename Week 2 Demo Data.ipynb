{
 "cells": [
  {
   "cell_type": "code",
   "execution_count": 184,
   "metadata": {
    "collapsed": false
   },
   "outputs": [],
   "source": [
    "import psycopg2\n",
    "import pandas as pd\n",
    "from matplotlib.cbook import dedent\n",
    "from tqdm import tqdm\n",
    "from scipy import stats\n",
    "import matplotlib\n",
    "import matplotlib.pyplot as plt\n",
    "import numpy as np\n",
    "%matplotlib inline"
   ]
  },
  {
   "cell_type": "code",
   "execution_count": 2,
   "metadata": {
    "collapsed": true
   },
   "outputs": [],
   "source": [
    "dbname = 'podcast'\n",
    "username = 'lindsay'\n",
    "\n",
    "con = psycopg2.connect(database = dbname, user = username)\n",
    "cursor = con.cursor()"
   ]
  },
  {
   "cell_type": "code",
   "execution_count": 14,
   "metadata": {
    "collapsed": false
   },
   "outputs": [],
   "source": [
    "# select 25 random podcasts with at least 5 'also-subscribed'\n",
    "\n",
    "query = \"\"\"\n",
    "SELECT initial_podcast, count(subscribed_podcast) \n",
    "FROM also_subscribed \n",
    "GROUP BY initial_podcast \n",
    "HAVING count(subscribed_podcast) > 5 \n",
    "ORDER BY random() LIMIT 25;\n",
    "\"\"\"\n",
    "query = query.replace('\\n', ' ')\n",
    "cursor.execute(query)\n",
    "query_results = cursor.fetchall()\n"
   ]
  },
  {
   "cell_type": "code",
   "execution_count": 16,
   "metadata": {
    "collapsed": false
   },
   "outputs": [],
   "source": [
    "test_podcasts = pd.DataFrame({'id' : [x[0] for x in query_results]})"
   ]
  },
  {
   "cell_type": "code",
   "execution_count": 122,
   "metadata": {
    "collapsed": false
   },
   "outputs": [],
   "source": [
    "subscribed_query = \"\"\"\n",
    "SELECT initial_podcast, subscribed_podcast, similarity\n",
    "FROM also_subscribed\n",
    "INNER JOIN podcast_similarity ON also_subscribed.initial_podcast=podcast_similarity.search_id\n",
    "AND also_subscribed.subscribed_podcast=podcast_similarity.match_id\n",
    "WHERE initial_podcast=%s;\n",
    "\"\"\"\n",
    "subscribed_query = subscribed_query.replace('\\n', ' ')\n",
    "\n",
    "unsubscribed_begin = \"\"\"\n",
    "SELECT search_id, match_id, similarity\n",
    "FROM podcast\n",
    "INNER JOIN podcast_similarity\n",
    "ON podcast.id=podcast_similarity.search_id\n",
    "WHERE search_id=%s\n",
    "AND match_id NOT IN \n",
    "\"\"\"\n",
    "unsubscribed_end = \"\"\"\n",
    "ORDER BY random() LIMIT %s\n",
    "\"\"\"\n"
   ]
  },
  {
   "cell_type": "code",
   "execution_count": 151,
   "metadata": {
    "collapsed": false
   },
   "outputs": [
    {
     "name": "stderr",
     "output_type": "stream",
     "text": []
    }
   ],
   "source": [
    "also_subscribed_similarity_df = pd.DataFrame(columns=['search_id', 'match_id', 'subscribe_status', 'similarity'])\n",
    "num_unsubscribed = 25\n",
    "for ind, podcast in tqdm(test_podcasts.iterrows(), total=test_podcasts.shape[0]):\n",
    "    \n",
    "    # get subscribed podcasts\n",
    "    podcast_id = podcast['id']\n",
    "    data = (podcast_id, )\n",
    "    cursor.execute(subscribed_query, data)\n",
    "    query_results = cursor.fetchall()\n",
    "    subscribed = [x[1] for x in query_results]\n",
    "    sim_scores = [float(x[2]) for x in query_results]\n",
    "    this_result = pd.DataFrame({'search_id' : [podcast_id] * len(query_results),\n",
    "                                'match_id' : subscribed,\n",
    "                                'subscribe_status' : [True] * len(query_results),\n",
    "                                'similarity' : sim_scores})\n",
    "    also_subscribed_similarity_df = also_subscribed_similarity_df.append(this_result)\n",
    "    \n",
    "    #### get unsubscribed podcasts\n",
    "    \n",
    "    # build query\n",
    "    unsubscribed_middle = '('\n",
    "    for i in range(len(subscribed)):\n",
    "        if i != len(subscribed) - 1:\n",
    "            unsubscribed_middle = unsubscribed_middle + '%s::bigint, '\n",
    "        else:\n",
    "            unsubscribed_middle = unsubscribed_middle + '%s::bigint)'\n",
    "\n",
    "    unsubscribed_query = unsubscribed_begin + unsubscribed_middle + unsubscribed_end\n",
    "    unsubscribed_query = unsubscribed_query.replace('\\n', ' ')\n",
    "    \n",
    "    # build data\n",
    "    data = (podcast_id,)\n",
    "    for i in range(len(subscribed)):\n",
    "        data = data + (subscribed[i],)\n",
    "    data = data + (num_unsubscribed, )\n",
    "    \n",
    "    # execute\n",
    "    cursor.execute(unsubscribed_query, data)\n",
    "    query_results = cursor.fetchall()\n",
    "    sim_scores = [float(x[2]) for x in query_results]\n",
    "    unsubscribed = [x[1] for x in query_results]\n",
    "    this_result = pd.DataFrame({'search_id' : [podcast_id] * len(query_results),\n",
    "                                'match_id' : unsubscribed,\n",
    "                                'subscribe_status' : [False] * len(query_results),\n",
    "                                'similarity' : sim_scores})\n",
    "    also_subscribed_similarity_df = also_subscribed_similarity_df.append(this_result)"
   ]
  },
  {
   "cell_type": "code",
   "execution_count": 157,
   "metadata": {
    "collapsed": false
   },
   "outputs": [],
   "source": [
    "# get mean for each search_id/subscribe_status\n",
    "subscribe_means = also_subscribed_similarity_df['similarity'].groupby([also_subscribed_similarity_df['search_id'],also_subscribed_similarity_df['subscribe_status']]).mean().unstack()"
   ]
  },
  {
   "cell_type": "code",
   "execution_count": 163,
   "metadata": {
    "collapsed": false
   },
   "outputs": [],
   "source": [
    "subscribe_means.columns = ['not_subscribed', 'subscribed']"
   ]
  },
  {
   "cell_type": "code",
   "execution_count": 165,
   "metadata": {
    "collapsed": false
   },
   "outputs": [
    {
     "data": {
      "text/plain": [
       "(9.3763831924265713, 1.7024378698515744e-09)"
      ]
     },
     "execution_count": 165,
     "metadata": {},
     "output_type": "execute_result"
    }
   ],
   "source": [
    "stats.ttest_rel(subscribe_means['subscribed'], subscribe_means['not_subscribed'])"
   ]
  },
  {
   "cell_type": "code",
   "execution_count": 201,
   "metadata": {
    "collapsed": false
   },
   "outputs": [
    {
     "data": {
      "image/png": "[encoded data removed]",
      "text/plain": [
       "<matplotlib.figure.Figure at 0x10d870250>"
      ]
     },
     "metadata": {},
     "output_type": "display_data"
    }
   ],
   "source": [
    "# bar chart of subscribed vs not\n",
    "ax = subscribe_means.plot(kind='bar')\n",
    "ax.set_xlabel('Podcast', fontsize=24)\n",
    "ax.set_ylabel('Similarity', fontsize=24)\n",
    "ax.legend(fontsize=24)\n",
    "ax.tick_params(labelbottom='off', top='off')\n"
   ]
  },
  {
   "cell_type": "code",
   "execution_count": 187,
   "metadata": {
    "collapsed": true
   },
   "outputs": [],
   "source": [
    "# genre query\n",
    "query = \"\"\"\n",
    "SELECT genre.name, COUNT(genre.name)\n",
    "FROM genre\n",
    "INNER JOIN podcast_has_genre\n",
    "ON podcast_has_genre.genre_id=genre.id\n",
    "GROUP BY genre.name;\n",
    "\"\"\"\n",
    "query = query.replace('\\n', ' ')\n",
    "cursor.execute(query)\n",
    "query_results = cursor.fetchall()"
   ]
  },
  {
   "cell_type": "code",
   "execution_count": 189,
   "metadata": {
    "collapsed": false
   },
   "outputs": [],
   "source": [
    "genre_results = pd.DataFrame(columns=['genre', 'count'])\n",
    "genre_results['genre'] = [x[0] for x in query_results]\n",
    "genre_results['count'] = [x[1] for x in query_results]"
   ]
  },
  {
   "cell_type": "code",
   "execution_count": 190,
   "metadata": {
    "collapsed": false
   },
   "outputs": [
    {
     "data": {
      "text/plain": [
       "<matplotlib.axes._subplots.AxesSubplot at 0x10cfb0bd0>"
      ]
     },
     "execution_count": 190,
     "metadata": {},
     "output_type": "execute_result"
    },
    {
     "data": {
      "image/png": "[encoded data removed]",
      "text/plain": [
       "<matplotlib.figure.Figure at 0x10ce8dd50>"
      ]
     },
     "metadata": {},
     "output_type": "display_data"
    }
   ],
   "source": [
    "genre_results.plot(kind='barh')"
   ]
  },
  {
   "cell_type": "code",
   "execution_count": 192,
   "metadata": {
    "collapsed": false
   },
   "outputs": [],
   "source": [
    "genre_results = genre_results[genre_results['genre'] != 'Podcasts']"
   ]
  },
  {
   "cell_type": "code",
   "execution_count": 218,
   "metadata": {
    "collapsed": false
   },
   "outputs": [
    {
     "data": {
      "text/plain": [
       "<matplotlib.text.Text at 0x10eeaedd0>"
      ]
     },
     "execution_count": 218,
     "metadata": {},
     "output_type": "execute_result"
    },
    {
     "data": {
      "image/png": "[encoded data removed]",
      "text/plain": [
       "<matplotlib.figure.Figure at 0x10f4dd9d0>"
      ]
     },
     "metadata": {},
     "output_type": "display_data"
    }
   ],
   "source": [
    "plt.rcParams['figure.figsize'] = (20, 10)\n",
    "ax = genre_results.plot(kind='bar', legend=False)\n",
    "ax.tick_params(top='off')\n",
    "ax.set_ylabel('Count', fontsize=24)"
   ]
  },
  {
   "cell_type": "code",
   "execution_count": 217,
   "metadata": {
    "collapsed": false
   },
   "outputs": [
    {
     "name": "stderr",
     "output_type": "stream",
     "text": [
      "/anaconda/lib/python2.7/site-packages/ipykernel/__main__.py:1: FutureWarning: sort(columns=....) is deprecated, use sort_values(by=.....)\n",
      "  if __name__ == '__main__':\n"
     ]
    },
    {
     "data": {
      "text/html": [
       "<div>\n",
       "<table border=\"1\" class=\"dataframe\">\n",
       "  <thead>\n",
       "    <tr style=\"text-align: right;\">\n",
       "      <th></th>\n",
       "      <th>genre</th>\n",
       "      <th>count</th>\n",
       "    </tr>\n",
       "  </thead>\n",
       "  <tbody>\n",
       "    <tr>\n",
       "      <th>43</th>\n",
       "      <td>Hinduism</td>\n",
       "      <td>3</td>\n",
       "    </tr>\n",
       "    <tr>\n",
       "      <th>33</th>\n",
       "      <td>College &amp; High School</td>\n",
       "      <td>8</td>\n",
       "    </tr>\n",
       "    <tr>\n",
       "      <th>8</th>\n",
       "      <td>Islam</td>\n",
       "      <td>8</td>\n",
       "    </tr>\n",
       "    <tr>\n",
       "      <th>14</th>\n",
       "      <td>Local</td>\n",
       "      <td>8</td>\n",
       "    </tr>\n",
       "    <tr>\n",
       "      <th>12</th>\n",
       "      <td>Amateur</td>\n",
       "      <td>9</td>\n",
       "    </tr>\n",
       "    <tr>\n",
       "      <th>44</th>\n",
       "      <td>Regional</td>\n",
       "      <td>10</td>\n",
       "    </tr>\n",
       "    <tr>\n",
       "      <th>29</th>\n",
       "      <td>Shopping</td>\n",
       "      <td>11</td>\n",
       "    </tr>\n",
       "    <tr>\n",
       "      <th>64</th>\n",
       "      <td>Educational Technology</td>\n",
       "      <td>12</td>\n",
       "    </tr>\n",
       "    <tr>\n",
       "      <th>60</th>\n",
       "      <td>Fashion &amp; Beauty</td>\n",
       "      <td>13</td>\n",
       "    </tr>\n",
       "    <tr>\n",
       "      <th>7</th>\n",
       "      <td>Judaism</td>\n",
       "      <td>13</td>\n",
       "    </tr>\n",
       "    <tr>\n",
       "      <th>32</th>\n",
       "      <td>Aviation</td>\n",
       "      <td>13</td>\n",
       "    </tr>\n",
       "    <tr>\n",
       "      <th>46</th>\n",
       "      <td>Alternative Health</td>\n",
       "      <td>14</td>\n",
       "    </tr>\n",
       "    <tr>\n",
       "      <th>4</th>\n",
       "      <td>Medicine</td>\n",
       "      <td>15</td>\n",
       "    </tr>\n",
       "    <tr>\n",
       "      <th>67</th>\n",
       "      <td>Fitness &amp; Nutrition</td>\n",
       "      <td>18</td>\n",
       "    </tr>\n",
       "    <tr>\n",
       "      <th>55</th>\n",
       "      <td>National</td>\n",
       "      <td>19</td>\n",
       "    </tr>\n",
       "    <tr>\n",
       "      <th>13</th>\n",
       "      <td>Buddhism</td>\n",
       "      <td>20</td>\n",
       "    </tr>\n",
       "    <tr>\n",
       "      <th>65</th>\n",
       "      <td>Investing</td>\n",
       "      <td>23</td>\n",
       "    </tr>\n",
       "    <tr>\n",
       "      <th>38</th>\n",
       "      <td>Social Sciences</td>\n",
       "      <td>28</td>\n",
       "    </tr>\n",
       "    <tr>\n",
       "      <th>59</th>\n",
       "      <td>Automotive</td>\n",
       "      <td>29</td>\n",
       "    </tr>\n",
       "    <tr>\n",
       "      <th>24</th>\n",
       "      <td>K-12</td>\n",
       "      <td>29</td>\n",
       "    </tr>\n",
       "    <tr>\n",
       "      <th>48</th>\n",
       "      <td>Sexuality</td>\n",
       "      <td>33</td>\n",
       "    </tr>\n",
       "    <tr>\n",
       "      <th>27</th>\n",
       "      <td>Careers</td>\n",
       "      <td>35</td>\n",
       "    </tr>\n",
       "    <tr>\n",
       "      <th>1</th>\n",
       "      <td>Non-Profit</td>\n",
       "      <td>36</td>\n",
       "    </tr>\n",
       "    <tr>\n",
       "      <th>52</th>\n",
       "      <td>Outdoor</td>\n",
       "      <td>37</td>\n",
       "    </tr>\n",
       "    <tr>\n",
       "      <th>49</th>\n",
       "      <td>Natural Sciences</td>\n",
       "      <td>42</td>\n",
       "    </tr>\n",
       "    <tr>\n",
       "      <th>31</th>\n",
       "      <td>Other</td>\n",
       "      <td>44</td>\n",
       "    </tr>\n",
       "    <tr>\n",
       "      <th>26</th>\n",
       "      <td>Design</td>\n",
       "      <td>49</td>\n",
       "    </tr>\n",
       "    <tr>\n",
       "      <th>36</th>\n",
       "      <td>Business News</td>\n",
       "      <td>51</td>\n",
       "    </tr>\n",
       "    <tr>\n",
       "      <th>41</th>\n",
       "      <td>Language Courses</td>\n",
       "      <td>53</td>\n",
       "    </tr>\n",
       "    <tr>\n",
       "      <th>56</th>\n",
       "      <td>Professional</td>\n",
       "      <td>54</td>\n",
       "    </tr>\n",
       "    <tr>\n",
       "      <th>...</th>\n",
       "      <td>...</td>\n",
       "      <td>...</td>\n",
       "    </tr>\n",
       "    <tr>\n",
       "      <th>6</th>\n",
       "      <td>Spirituality</td>\n",
       "      <td>100</td>\n",
       "    </tr>\n",
       "    <tr>\n",
       "      <th>37</th>\n",
       "      <td>Other Games</td>\n",
       "      <td>116</td>\n",
       "    </tr>\n",
       "    <tr>\n",
       "      <th>57</th>\n",
       "      <td>Science &amp; Medicine</td>\n",
       "      <td>119</td>\n",
       "    </tr>\n",
       "    <tr>\n",
       "      <th>10</th>\n",
       "      <td>Gadgets</td>\n",
       "      <td>119</td>\n",
       "    </tr>\n",
       "    <tr>\n",
       "      <th>66</th>\n",
       "      <td>Kids &amp; Family</td>\n",
       "      <td>123</td>\n",
       "    </tr>\n",
       "    <tr>\n",
       "      <th>19</th>\n",
       "      <td>Sports &amp; Recreation</td>\n",
       "      <td>125</td>\n",
       "    </tr>\n",
       "    <tr>\n",
       "      <th>15</th>\n",
       "      <td>Podcasting</td>\n",
       "      <td>141</td>\n",
       "    </tr>\n",
       "    <tr>\n",
       "      <th>50</th>\n",
       "      <td>Visual Arts</td>\n",
       "      <td>141</td>\n",
       "    </tr>\n",
       "    <tr>\n",
       "      <th>9</th>\n",
       "      <td>History</td>\n",
       "      <td>165</td>\n",
       "    </tr>\n",
       "    <tr>\n",
       "      <th>62</th>\n",
       "      <td>Health</td>\n",
       "      <td>171</td>\n",
       "    </tr>\n",
       "    <tr>\n",
       "      <th>39</th>\n",
       "      <td>Hobbies</td>\n",
       "      <td>174</td>\n",
       "    </tr>\n",
       "    <tr>\n",
       "      <th>47</th>\n",
       "      <td>Philosophy</td>\n",
       "      <td>179</td>\n",
       "    </tr>\n",
       "    <tr>\n",
       "      <th>42</th>\n",
       "      <td>Business</td>\n",
       "      <td>200</td>\n",
       "    </tr>\n",
       "    <tr>\n",
       "      <th>20</th>\n",
       "      <td>Tech News</td>\n",
       "      <td>202</td>\n",
       "    </tr>\n",
       "    <tr>\n",
       "      <th>28</th>\n",
       "      <td>Literature</td>\n",
       "      <td>205</td>\n",
       "    </tr>\n",
       "    <tr>\n",
       "      <th>22</th>\n",
       "      <td>Performing Arts</td>\n",
       "      <td>207</td>\n",
       "    </tr>\n",
       "    <tr>\n",
       "      <th>63</th>\n",
       "      <td>Places &amp; Travel</td>\n",
       "      <td>207</td>\n",
       "    </tr>\n",
       "    <tr>\n",
       "      <th>17</th>\n",
       "      <td>Personal Journals</td>\n",
       "      <td>208</td>\n",
       "    </tr>\n",
       "    <tr>\n",
       "      <th>18</th>\n",
       "      <td>Video Games</td>\n",
       "      <td>365</td>\n",
       "    </tr>\n",
       "    <tr>\n",
       "      <th>25</th>\n",
       "      <td>Education</td>\n",
       "      <td>387</td>\n",
       "    </tr>\n",
       "    <tr>\n",
       "      <th>40</th>\n",
       "      <td>Technology</td>\n",
       "      <td>536</td>\n",
       "    </tr>\n",
       "    <tr>\n",
       "      <th>3</th>\n",
       "      <td>Games &amp; Hobbies</td>\n",
       "      <td>705</td>\n",
       "    </tr>\n",
       "    <tr>\n",
       "      <th>2</th>\n",
       "      <td>Christianity</td>\n",
       "      <td>716</td>\n",
       "    </tr>\n",
       "    <tr>\n",
       "      <th>35</th>\n",
       "      <td>Arts</td>\n",
       "      <td>786</td>\n",
       "    </tr>\n",
       "    <tr>\n",
       "      <th>5</th>\n",
       "      <td>TV &amp; Film</td>\n",
       "      <td>847</td>\n",
       "    </tr>\n",
       "    <tr>\n",
       "      <th>45</th>\n",
       "      <td>News &amp; Politics</td>\n",
       "      <td>849</td>\n",
       "    </tr>\n",
       "    <tr>\n",
       "      <th>53</th>\n",
       "      <td>Religion &amp; Spirituality</td>\n",
       "      <td>864</td>\n",
       "    </tr>\n",
       "    <tr>\n",
       "      <th>21</th>\n",
       "      <td>Music</td>\n",
       "      <td>933</td>\n",
       "    </tr>\n",
       "    <tr>\n",
       "      <th>51</th>\n",
       "      <td>Comedy</td>\n",
       "      <td>948</td>\n",
       "    </tr>\n",
       "    <tr>\n",
       "      <th>0</th>\n",
       "      <td>Society &amp; Culture</td>\n",
       "      <td>1166</td>\n",
       "    </tr>\n",
       "  </tbody>\n",
       "</table>\n",
       "<p>67 rows × 2 columns</p>\n",
       "</div>"
      ],
      "text/plain": [
       "                      genre  count\n",
       "43                 Hinduism      3\n",
       "33    College & High School      8\n",
       "8                     Islam      8\n",
       "14                    Local      8\n",
       "12                  Amateur      9\n",
       "44                 Regional     10\n",
       "29                 Shopping     11\n",
       "64   Educational Technology     12\n",
       "60         Fashion & Beauty     13\n",
       "7                   Judaism     13\n",
       "32                 Aviation     13\n",
       "46       Alternative Health     14\n",
       "4                  Medicine     15\n",
       "67      Fitness & Nutrition     18\n",
       "55                 National     19\n",
       "13                 Buddhism     20\n",
       "65                Investing     23\n",
       "38          Social Sciences     28\n",
       "59               Automotive     29\n",
       "24                     K-12     29\n",
       "48                Sexuality     33\n",
       "27                  Careers     35\n",
       "1                Non-Profit     36\n",
       "52                  Outdoor     37\n",
       "49         Natural Sciences     42\n",
       "31                    Other     44\n",
       "26                   Design     49\n",
       "36            Business News     51\n",
       "41         Language Courses     53\n",
       "56             Professional     54\n",
       "..                      ...    ...\n",
       "6              Spirituality    100\n",
       "37              Other Games    116\n",
       "57       Science & Medicine    119\n",
       "10                  Gadgets    119\n",
       "66            Kids & Family    123\n",
       "19      Sports & Recreation    125\n",
       "15               Podcasting    141\n",
       "50              Visual Arts    141\n",
       "9                   History    165\n",
       "62                   Health    171\n",
       "39                  Hobbies    174\n",
       "47               Philosophy    179\n",
       "42                 Business    200\n",
       "20                Tech News    202\n",
       "28               Literature    205\n",
       "22          Performing Arts    207\n",
       "63          Places & Travel    207\n",
       "17        Personal Journals    208\n",
       "18              Video Games    365\n",
       "25                Education    387\n",
       "40               Technology    536\n",
       "3           Games & Hobbies    705\n",
       "2              Christianity    716\n",
       "35                     Arts    786\n",
       "5                 TV & Film    847\n",
       "45          News & Politics    849\n",
       "53  Religion & Spirituality    864\n",
       "21                    Music    933\n",
       "51                   Comedy    948\n",
       "0         Society & Culture   1166\n",
       "\n",
       "[67 rows x 2 columns]"
      ]
     },
     "execution_count": 217,
     "metadata": {},
     "output_type": "execute_result"
    }
   ],
   "source": [
    "genre_results.sort(['count'])"
   ]
  },
  {
   "cell_type": "code",
   "execution_count": null,
   "metadata": {
    "collapsed": true
   },
   "outputs": [],
   "source": []
  }
 ],
 "metadata": {
  "kernelspec": {
   "display_name": "Python 2",
   "language": "python",
   "name": "python2"
  },
  "language_info": {
   "codemirror_mode": {
    "name": "ipython",
    "version": 2
   },
   "file_extension": ".py",
   "mimetype": "text/x-python",
   "name": "python",
   "nbconvert_exporter": "python",
   "pygments_lexer": "ipython2",
   "version": "2.7.10"
  }
 },
 "nbformat": 4,
 "nbformat_minor": 0
}
