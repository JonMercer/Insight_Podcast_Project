{
 "cells": [
  {
   "cell_type": "code",
   "execution_count": 121,
   "metadata": {
    "collapsed": true
   },
   "outputs": [],
   "source": [
    "import psycopg2\n",
    "import pandas as pd\n",
    "from matplotlib.cbook import dedent\n",
    "from tqdm import tqdm"
   ]
  },
  {
   "cell_type": "code",
   "execution_count": 2,
   "metadata": {
    "collapsed": true
   },
   "outputs": [],
   "source": [
    "dbname = 'podcast'\n",
    "username = 'lindsay'\n",
    "\n",
    "con = psycopg2.connect(database = dbname, user = username)\n",
    "cursor = con.cursor()"
   ]
  },
  {
   "cell_type": "code",
   "execution_count": 14,
   "metadata": {
    "collapsed": false
   },
   "outputs": [],
   "source": [
    "# select 25 random podcasts with at least 5 'also-subscribed'\n",
    "\n",
    "query = \"\"\"\n",
    "SELECT initial_podcast, count(subscribed_podcast) \n",
    "FROM also_subscribed \n",
    "GROUP BY initial_podcast \n",
    "HAVING count(subscribed_podcast) > 5 \n",
    "ORDER BY random() LIMIT 25;\n",
    "\"\"\"\n",
    "query = query.replace('\\n', ' ')\n",
    "cursor.execute(query)\n",
    "query_results = cursor.fetchall()\n"
   ]
  },
  {
   "cell_type": "code",
   "execution_count": 16,
   "metadata": {
    "collapsed": false
   },
   "outputs": [],
   "source": [
    "test_podcasts = pd.DataFrame({'id' : [x[0] for x in query_results]})"
   ]
  },
  {
   "cell_type": "code",
   "execution_count": 122,
   "metadata": {
    "collapsed": false
   },
   "outputs": [],
   "source": [
    "subscribed_query = \"\"\"\n",
    "SELECT initial_podcast, subscribed_podcast, similarity\n",
    "FROM also_subscribed\n",
    "INNER JOIN podcast_similarity ON also_subscribed.initial_podcast=podcast_similarity.search_id\n",
    "AND also_subscribed.subscribed_podcast=podcast_similarity.match_id\n",
    "WHERE initial_podcast=%s;\n",
    "\"\"\"\n",
    "subscribed_query = subscribed_query.replace('\\n', ' ')\n",
    "\n",
    "unsubscribed_begin = \"\"\"\n",
    "SELECT search_id, match_id, similarity\n",
    "FROM podcast\n",
    "INNER JOIN podcast_similarity\n",
    "ON podcast.id=podcast_similarity.search_id\n",
    "WHERE search_id=%s\n",
    "AND match_id NOT IN \n",
    "\"\"\"\n",
    "unsubscribed_end = \"\"\"\n",
    "ORDER BY random() LIMIT %s\n",
    "\"\"\"\n"
   ]
  },
  {
   "cell_type": "code",
   "execution_count": null,
   "metadata": {
    "collapsed": false
   },
   "outputs": [
    {
     "name": "stderr",
     "output_type": "stream",
     "text": [
      "  8%|▊         | 2/25 [00:28<05:33, 14.48s/it]"
     ]
    }
   ],
   "source": [
    "also_subscribed_similarity_df = pd.DataFrame(columns=['search_id', 'match_id', 'subscribe_status', 'similarity'])\n",
    "num_unsubscribed = 25\n",
    "for ind, podcast in tqdm(test_podcasts.iterrows(), total=test_podcasts.shape[0]):\n",
    "    \n",
    "    # get subscribed podcasts\n",
    "    podcast_id = podcast['id']\n",
    "    data = (test_podcasts.iloc[0]['id'], )\n",
    "    cursor.execute(subscribed_query, data)\n",
    "    query_results = cursor.fetchall()\n",
    "    subscribed = [x[1] for x in query_results]\n",
    "    sim_scores = [float(x[2]) for x in query_results]\n",
    "    this_result = pd.DataFrame({'search_id' : [podcast_id] * len(query_results),\n",
    "                                'match_id' : subscribed,\n",
    "                                'subscribe_status' : [True] * len(query_results),\n",
    "                                'similarity' : sim_scores})\n",
    "    also_subscribed_similarity_df.append(this_result)\n",
    "    \n",
    "    #### get unsubscribed podcasts\n",
    "    \n",
    "    # build query\n",
    "    unsubscribed_middle = '('\n",
    "    for i in range(len(subscribed)):\n",
    "        if i != len(subscribed) - 1:\n",
    "            unsubscribed_middle = unsubscribed_middle + '%s::bigint, '\n",
    "        else:\n",
    "            unsubscribed_middle = unsubscribed_middle + '%s::bigint)'\n",
    "\n",
    "    unsubscribed_query = unsubscribed_begin + unsubscribed_middle + unsubscribed_end\n",
    "    unsubscribed_query = unsubscribed_query.replace('\\n', ' ')\n",
    "    \n",
    "    # build data\n",
    "    data = (podcast_id,)\n",
    "    for i in range(len(subscribed)):\n",
    "        data = data + (subscribed[i],)\n",
    "    data = data + (num_unsubscribed, )\n",
    "    \n",
    "    # execute\n",
    "    cursor.execute(unsubscribed_query, data)\n",
    "    query_results = cursor.fetchall()\n",
    "    sim_scores = [float(x[2]) for x in query_results]\n",
    "    unsubscribed = [x[1] for x in query_results]\n",
    "    this_result = pd.DataFrame({'search_id' : [podcast_id] * len(query_results),\n",
    "                                'match_id' : unsubscribed_begin,\n",
    "                                'subscribe_status' : [False] * len(query_results),\n",
    "                                'similarity' : sim_scores})\n",
    "    also_subscribed_similarity_df.append(this_result)"
   ]
  },
  {
   "cell_type": "code",
   "execution_count": null,
   "metadata": {
    "collapsed": true
   },
   "outputs": [],
   "source": []
  }
 ],
 "metadata": {
  "kernelspec": {
   "display_name": "Python 2",
   "language": "python",
   "name": "python2"
  },
  "language_info": {
   "codemirror_mode": {
    "name": "ipython",
    "version": 2
   },
   "file_extension": ".py",
   "mimetype": "text/x-python",
   "name": "python",
   "nbconvert_exporter": "python",
   "pygments_lexer": "ipython2",
   "version": "2.7.10"
  }
 },
 "nbformat": 4,
 "nbformat_minor": 0
}
