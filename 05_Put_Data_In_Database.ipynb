{
 "cells": [
  {
   "cell_type": "code",
   "execution_count": 1,
   "metadata": {
    "collapsed": true
   },
   "outputs": [],
   "source": [
    "import psycopg2\n",
    "import pandas as pd"
   ]
  },
  {
   "cell_type": "code",
   "execution_count": 2,
   "metadata": {
    "collapsed": true
   },
   "outputs": [],
   "source": [
    "dbname = 'podcast'\n",
    "username = 'lindsay'"
   ]
  },
  {
   "cell_type": "code",
   "execution_count": 3,
   "metadata": {
    "collapsed": true
   },
   "outputs": [],
   "source": [
    "podcastDf = pd.read_pickle('pkl/clean_podcast_data.pkl')"
   ]
  },
  {
   "cell_type": "code",
   "execution_count": 4,
   "metadata": {
    "collapsed": true
   },
   "outputs": [],
   "source": [
    "con = psycopg2.connect(database = dbname, user = username)"
   ]
  },
  {
   "cell_type": "code",
   "execution_count": 6,
   "metadata": {
    "collapsed": false
   },
   "outputs": [],
   "source": [
    "cursor = con.cursor()"
   ]
  },
  {
   "cell_type": "code",
   "execution_count": 7,
   "metadata": {
    "collapsed": false
   },
   "outputs": [
    {
     "data": {
      "text/plain": [
       "artist_id                                                                  NaN\n",
       "artist_name                                     David Chen and Joanna Robinson\n",
       "artist_view_url                                                            NaN\n",
       "artwork_url100               http://is1.mzstatic.com/image/thumb/Music/v4/0...\n",
       "artwork_url30                http://is1.mzstatic.com/image/thumb/Music/v4/0...\n",
       "artwork_url60                http://is1.mzstatic.com/image/thumb/Music/v4/0...\n",
       "artwork_url600               http://is1.mzstatic.com/image/thumb/Music/v4/0...\n",
       "collection_censored_name           A Cast of Kings - A Game of Thrones Podcast\n",
       "collection_explicitness                                               explicit\n",
       "collection_hd_price                                                          0\n",
       "collection_id                                                        515836681\n",
       "collection_name                    A Cast of Kings - A Game of Thrones Podcast\n",
       "collection_price                                                             0\n",
       "collection_view_url          https://itunes.apple.com/us/podcast/cast-kings...\n",
       "content_advisory_rating                                               Explicit\n",
       "country                                                                    USA\n",
       "currency                                                                   USD\n",
       "feed_url                               http://feeds.feedburner.com/castofkings\n",
       "genre_ids                                                           [1309, 26]\n",
       "genres                                                   [TV & Film, Podcasts]\n",
       "id                                                                          12\n",
       "kind                                                                   podcast\n",
       "primary_genre_name                                                   TV & Film\n",
       "radio_station_url              https://itunes.apple.com/station/idra.515836681\n",
       "release_date                                              2015-12-10T08:34:00Z\n",
       "track_censored_name                A Cast of Kings - A Game of Thrones Podcast\n",
       "track_count                                                                 20\n",
       "track_explicitness                                                    explicit\n",
       "track_hd_price                                                               0\n",
       "track_hd_rental_price                                                        0\n",
       "track_id                                                           5.15837e+08\n",
       "track_name                         A Cast of Kings - A Game of Thrones Podcast\n",
       "track_price                                                                  0\n",
       "track_rental_price                                                           0\n",
       "track_view_url               https://itunes.apple.com/us/podcast/cast-kings...\n",
       "wrapper_type                                                             track\n",
       "also_subscribed              [508647267, 544599736, 435853369, 515824283, 2...\n",
       "podcast_summary              A quasiweekly discussion of the plots themes a...\n",
       "language                                                               English\n",
       "clean_episode_description    [In this episode of A Cast of Kings Joanna and...\n",
       "clean_episode_name           [A Cast of Kings  Fire and Blood,  A Cast of K...\n",
       "Name: 0, dtype: object"
      ]
     },
     "execution_count": 7,
     "metadata": {},
     "output_type": "execute_result"
    }
   ],
   "source": [
    "thisPod = podcastDf.iloc[0]\n",
    "thisPod"
   ]
  },
  {
   "cell_type": "code",
   "execution_count": 10,
   "metadata": {
    "collapsed": true
   },
   "outputs": [],
   "source": [
    "# insert podcast data into podcast table\n",
    "query = \"INSERT INTO podcast (artwork_url30, artwork_url60, artwork_url100, artwork_url600, explicit, name, view_url, summary) VALUES (%s, %s, %s, %s, %s, %s, %s, %s)\"\n",
    "\n",
    "for ind, thisPod in podcastDf.iterrows():\n",
    "    data = (thisPod['artwork_url30'], thisPod['artwork_url60'], thisPod['artwork_url100'], thisPod['artwork_url600'], thisPod['content_advisory_rating'], thisPod['collection_censored_name'], thisPod['collection_view_url'], thisPod['podcast_summary'])\n",
    "    cursor.execute(query, data)\n",
    "con.commit()"
   ]
  },
  {
   "cell_type": "code",
   "execution_count": 18,
   "metadata": {
    "collapsed": false
   },
   "outputs": [
    {
     "data": {
      "text/plain": [
       "(4863, 2)"
      ]
     },
     "execution_count": 18,
     "metadata": {},
     "output_type": "execute_result"
    }
   ],
   "source": [
    "# get unique artists\n",
    "artistDf = podcastDf[['artist_name', 'artist_view_url']]\n",
    "artistDf = artistDf.drop_duplicates()\n",
    "artistDf.shape"
   ]
  },
  {
   "cell_type": "code",
   "execution_count": 20,
   "metadata": {
    "collapsed": true
   },
   "outputs": [],
   "source": [
    "# insert artist data into artist table\n",
    "query = \"INSERT INTO artist (view_url, name) VALUES (%s, %s)\"\n",
    "\n",
    "for ind, row in artistDf.iterrows():\n",
    "    data = (row['artist_view_url'], row['artist_name'])\n",
    "    cursor.execute(query, data)\n",
    "con.commit()"
   ]
  },
  {
   "cell_type": "code",
   "execution_count": 48,
   "metadata": {
    "collapsed": true
   },
   "outputs": [],
   "source": [
    "# get unique genres\n",
    "genreDf = podcastDf['genres']\n",
    "genreList = []\n",
    "for row in genreDf:\n",
    "    for genre in row:\n",
    "        genreList.append(genre)\n",
    "genreList = list(set(genreList))"
   ]
  },
  {
   "cell_type": "code",
   "execution_count": 66,
   "metadata": {
    "collapsed": false
   },
   "outputs": [],
   "source": [
    "# insert genre data into genre table\n",
    "query = \"INSERT INTO genre (name) VALUES (%s);\"\n",
    "for item in genreList:\n",
    "    data = (item, )\n",
    "    cursor.execute(query, data)\n",
    "con.commit()"
   ]
  },
  {
   "cell_type": "code",
   "execution_count": null,
   "metadata": {
    "collapsed": true
   },
   "outputs": [],
   "source": []
  }
 ],
 "metadata": {
  "kernelspec": {
   "display_name": "Python 2",
   "language": "python",
   "name": "python2"
  },
  "language_info": {
   "codemirror_mode": {
    "name": "ipython",
    "version": 2
   },
   "file_extension": ".py",
   "mimetype": "text/x-python",
   "name": "python",
   "nbconvert_exporter": "python",
   "pygments_lexer": "ipython2",
   "version": "2.7.10"
  }
 },
 "nbformat": 4,
 "nbformat_minor": 0
}
