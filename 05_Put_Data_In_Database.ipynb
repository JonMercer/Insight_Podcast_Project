{
 "cells": [
  {
   "cell_type": "code",
   "execution_count": 23,
   "metadata": {
    "collapsed": true
   },
   "outputs": [],
   "source": [
    "import psycopg2\n",
    "import pandas as pd"
   ]
  },
  {
   "cell_type": "code",
   "execution_count": 24,
   "metadata": {
    "collapsed": true
   },
   "outputs": [],
   "source": [
    "dbname = 'podcast'\n",
    "username = 'lindsay'"
   ]
  },
  {
   "cell_type": "code",
   "execution_count": 25,
   "metadata": {
    "collapsed": true
   },
   "outputs": [],
   "source": [
    "podcastDf = pd.read_pickle('pkl/clean_podcast_data.pkl')"
   ]
  },
  {
   "cell_type": "code",
   "execution_count": 26,
   "metadata": {
    "collapsed": true
   },
   "outputs": [],
   "source": [
    "con = psycopg2.connect(database = dbname, user = username)"
   ]
  },
  {
   "cell_type": "code",
   "execution_count": 27,
   "metadata": {
    "collapsed": false
   },
   "outputs": [],
   "source": [
    "cursor = con.cursor()"
   ]
  },
  {
   "cell_type": "code",
   "execution_count": 28,
   "metadata": {
    "collapsed": true
   },
   "outputs": [],
   "source": [
    "del podcastDf['id']\n",
    "del podcastDf['artist_id']\n",
    "del podcastDf['genre_ids']"
   ]
  },
  {
   "cell_type": "code",
   "execution_count": 30,
   "metadata": {
    "collapsed": false
   },
   "outputs": [],
   "source": [
    "# insert podcast data into podcast table\n",
    "query = \"INSERT INTO podcast (artwork_url30, artwork_url60, artwork_url100, artwork_url600, explicit, name, view_url, summary, episode_descriptions, episode_names) VALUES (%s, %s, %s, %s, %s, %s, %s, %s, %s, %s) RETURNING id;\"\n",
    "podcast_id = []\n",
    "for ind, thisPod in podcastDf.iterrows():\n",
    "    data = (thisPod['artwork_url30'], thisPod['artwork_url60'], thisPod['artwork_url100'], thisPod['artwork_url600'], thisPod['content_advisory_rating'], thisPod['collection_censored_name'], thisPod['collection_view_url'], thisPod['podcast_summary'], thisPod['clean_episode_description'], thisPod['clean_episode_name'])\n",
    "    cursor.execute(query, data)\n",
    "    podcast_id.append(cursor.fetchone()[0])\n",
    "    \n",
    "con.commit()\n",
    "podcastDf['podcast_id'] = podcast_id"
   ]
  },
  {
   "cell_type": "code",
   "execution_count": 31,
   "metadata": {
    "collapsed": false
   },
   "outputs": [
    {
     "data": {
      "text/plain": [
       "(4863, 2)"
      ]
     },
     "execution_count": 31,
     "metadata": {},
     "output_type": "execute_result"
    }
   ],
   "source": [
    "# get unique artists\n",
    "artistDf = podcastDf[['artist_name', 'artist_view_url']]\n",
    "artistDf = artistDf.drop_duplicates()\n",
    "artistDf.shape"
   ]
  },
  {
   "cell_type": "code",
   "execution_count": 32,
   "metadata": {
    "collapsed": true
   },
   "outputs": [],
   "source": [
    "# insert artist data into artist table\n",
    "query = \"INSERT INTO artist (view_url, name) VALUES (%s, %s) RETURNING id;\"\n",
    "artist_id = []\n",
    "for ind, row in artistDf.iterrows():\n",
    "    data = (row['artist_view_url'], row['artist_name'])\n",
    "    cursor.execute(query, data)\n",
    "    artist_id.append(cursor.fetchone()[0])\n",
    "con.commit()\n",
    "artistDf['artist_id'] = artist_id"
   ]
  },
  {
   "cell_type": "code",
   "execution_count": 33,
   "metadata": {
    "collapsed": true
   },
   "outputs": [],
   "source": [
    "# get unique genres\n",
    "genreDf = podcastDf['genres']\n",
    "genreList = []\n",
    "for row in genreDf:\n",
    "    for genre in row:\n",
    "        genreList.append(genre)\n",
    "genreList = list(set(genreList))"
   ]
  },
  {
   "cell_type": "code",
   "execution_count": 34,
   "metadata": {
    "collapsed": false
   },
   "outputs": [],
   "source": [
    "# insert genre data into genre table\n",
    "query = \"INSERT INTO genre (name) VALUES (%s) RETURNING id;\"\n",
    "genre_id = []\n",
    "for item in genreList:\n",
    "    data = (item, )\n",
    "    cursor.execute(query, data)\n",
    "    genre_id.append(cursor.fetchone()[0])\n",
    "con.commit()\n",
    "genreDf = pd.DataFrame({'name' : genreList,\n",
    "                       'genre_id': genre_id})"
   ]
  },
  {
   "cell_type": "code",
   "execution_count": 35,
   "metadata": {
    "collapsed": false
   },
   "outputs": [],
   "source": [
    "podcast_artist = pd.merge(podcastDf, artistDf, how = 'inner', on = 'artist_name')"
   ]
  },
  {
   "cell_type": "code",
   "execution_count": 36,
   "metadata": {
    "collapsed": false
   },
   "outputs": [],
   "source": [
    "# insert artist id into podcast table\n",
    "query = \"UPDATE podcast SET artist_id=(%s) WHERE id = (%s);\"\n",
    "for ind, row in podcast_artist.iterrows():\n",
    "    data = (row['artist_id'], row['podcast_id'])\n",
    "    cursor.execute(query, data)\n",
    "    con.commit()"
   ]
  },
  {
   "cell_type": "code",
   "execution_count": 37,
   "metadata": {
    "collapsed": false
   },
   "outputs": [],
   "source": [
    "test = podcastDf[['podcast_id', 'genres']]"
   ]
  },
  {
   "cell_type": "code",
   "execution_count": 38,
   "metadata": {
    "collapsed": false
   },
   "outputs": [],
   "source": [
    "podcast_genre = pd.DataFrame(columns=['podcast_id', 'genre_name'])\n",
    "for ind, row in test.iterrows():\n",
    "    for genre in row['genres']:\n",
    "        \n",
    "        podcast_genre = podcast_genre.append(pd.DataFrame({'podcast_id' : [row['podcast_id']],\n",
    "                                            'genre_name' : [genre]}))"
   ]
  },
  {
   "cell_type": "code",
   "execution_count": 39,
   "metadata": {
    "collapsed": true
   },
   "outputs": [],
   "source": [
    "podcast_genre = pd.merge(podcast_genre, genreDf, how = 'inner', left_on='genre_name', right_on='name')"
   ]
  },
  {
   "cell_type": "code",
   "execution_count": 40,
   "metadata": {
    "collapsed": false
   },
   "outputs": [],
   "source": [
    "# insert podcast-genre mappings into podcast_has_genre table\n",
    "query = \"INSERT INTO podcast_has_genre (podcast_id, genre_id) VALUES (%s, %s);\"\n",
    "for ind, row in podcast_genre.iterrows():\n",
    "    data = (row['podcast_id'], row['genre_id'])\n",
    "    cursor.execute(query, data)\n",
    "con.commit()"
   ]
  },
  {
   "cell_type": "code",
   "execution_count": 41,
   "metadata": {
    "collapsed": true
   },
   "outputs": [],
   "source": [
    "tmp_also_subscribed = podcastDf[['podcast_id', 'also_subscribed']]\n",
    "also_subscribed = pd.DataFrame(columns = ['podcast_id', 'also_subscribed'])\n",
    "for ind, row in tmp_also_subscribed.iterrows():\n",
    "    for sub in row['also_subscribed']:\n",
    "        also_subscribed = also_subscribed.append(pd.DataFrame({'podcast_id' : [row['podcast_id']],\n",
    "                                                              'also_subscribed' : [sub]}))"
   ]
  },
  {
   "cell_type": "code",
   "execution_count": 42,
   "metadata": {
    "collapsed": false
   },
   "outputs": [],
   "source": [
    "also_subscribed.rename(columns = {'podcast_id':'initial_podcast_id'}, inplace=True)"
   ]
  },
  {
   "cell_type": "code",
   "execution_count": 43,
   "metadata": {
    "collapsed": false
   },
   "outputs": [
    {
     "data": {
      "text/html": [
       "<div>\n",
       "<table border=\"1\" class=\"dataframe\">\n",
       "  <thead>\n",
       "    <tr style=\"text-align: right;\">\n",
       "      <th></th>\n",
       "      <th>podcast_id</th>\n",
       "      <th>collection_id</th>\n",
       "    </tr>\n",
       "  </thead>\n",
       "  <tbody>\n",
       "    <tr>\n",
       "      <th>0</th>\n",
       "      <td>12349</td>\n",
       "      <td>515836681</td>\n",
       "    </tr>\n",
       "    <tr>\n",
       "      <th>1</th>\n",
       "      <td>12350</td>\n",
       "      <td>126723118</td>\n",
       "    </tr>\n",
       "    <tr>\n",
       "      <th>2</th>\n",
       "      <td>12351</td>\n",
       "      <td>699748055</td>\n",
       "    </tr>\n",
       "    <tr>\n",
       "      <th>3</th>\n",
       "      <td>12352</td>\n",
       "      <td>80693391</td>\n",
       "    </tr>\n",
       "    <tr>\n",
       "      <th>4</th>\n",
       "      <td>12353</td>\n",
       "      <td>579605641</td>\n",
       "    </tr>\n",
       "  </tbody>\n",
       "</table>\n",
       "</div>"
      ],
      "text/plain": [
       "   podcast_id  collection_id\n",
       "0       12349      515836681\n",
       "1       12350      126723118\n",
       "2       12351      699748055\n",
       "3       12352       80693391\n",
       "4       12353      579605641"
      ]
     },
     "execution_count": 43,
     "metadata": {},
     "output_type": "execute_result"
    }
   ],
   "source": [
    "podcastId = podcastDf[['podcast_id', 'collection_id']]\n",
    "podcastId.head()"
   ]
  },
  {
   "cell_type": "code",
   "execution_count": 44,
   "metadata": {
    "collapsed": false
   },
   "outputs": [],
   "source": [
    "also_subscribed = pd.merge(also_subscribed, podcastId, how = 'inner', left_on='also_subscribed', right_on='collection_id')"
   ]
  },
  {
   "cell_type": "code",
   "execution_count": 45,
   "metadata": {
    "collapsed": true
   },
   "outputs": [],
   "source": [
    "# insert also_subscribed data\n",
    "query = \"INSERT INTO also_subscribed (initial_podcast, subscribed_podcast) VALUES (%s, %s);\"\n",
    "for ind, row in also_subscribed.iterrows():\n",
    "    data = (row['initial_podcast_id'], row['podcast_id'])\n",
    "    cursor.execute(query, data)\n",
    "con.commit()"
   ]
  },
  {
   "cell_type": "code",
   "execution_count": null,
   "metadata": {
    "collapsed": true
   },
   "outputs": [],
   "source": []
  }
 ],
 "metadata": {
  "kernelspec": {
   "display_name": "Python 2",
   "language": "python",
   "name": "python2"
  },
  "language_info": {
   "codemirror_mode": {
    "name": "ipython",
    "version": 2
   },
   "file_extension": ".py",
   "mimetype": "text/x-python",
   "name": "python",
   "nbconvert_exporter": "python",
   "pygments_lexer": "ipython2",
   "version": "2.7.10"
  }
 },
 "nbformat": 4,
 "nbformat_minor": 0
}
