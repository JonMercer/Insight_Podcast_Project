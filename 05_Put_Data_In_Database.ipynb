{
 "cells": [
  {
   "cell_type": "code",
   "execution_count": 1,
   "metadata": {
    "collapsed": true
   },
   "outputs": [],
   "source": [
    "import psycopg2\n",
    "import pandas as pd"
   ]
  },
  {
   "cell_type": "code",
   "execution_count": 2,
   "metadata": {
    "collapsed": true
   },
   "outputs": [],
   "source": [
    "dbname = 'podcast'\n",
    "username = 'lindsay'"
   ]
  },
  {
   "cell_type": "code",
   "execution_count": 3,
   "metadata": {
    "collapsed": true
   },
   "outputs": [],
   "source": [
    "podcastDf = pd.read_pickle('pkl/clean_podcast_data.pkl')"
   ]
  },
  {
   "cell_type": "code",
   "execution_count": 4,
   "metadata": {
    "collapsed": true
   },
   "outputs": [],
   "source": [
    "con = psycopg2.connect(database = dbname, user = username)"
   ]
  },
  {
   "cell_type": "code",
   "execution_count": 6,
   "metadata": {
    "collapsed": false
   },
   "outputs": [],
   "source": [
    "cursor = con.cursor()"
   ]
  },
  {
   "cell_type": "code",
   "execution_count": 7,
   "metadata": {
    "collapsed": false
   },
   "outputs": [
    {
     "data": {
      "text/plain": [
       "artist_id                                                                  NaN\n",
       "artist_name                                     David Chen and Joanna Robinson\n",
       "artist_view_url                                                            NaN\n",
       "artwork_url100               http://is1.mzstatic.com/image/thumb/Music/v4/0...\n",
       "artwork_url30                http://is1.mzstatic.com/image/thumb/Music/v4/0...\n",
       "artwork_url60                http://is1.mzstatic.com/image/thumb/Music/v4/0...\n",
       "artwork_url600               http://is1.mzstatic.com/image/thumb/Music/v4/0...\n",
       "collection_censored_name           A Cast of Kings - A Game of Thrones Podcast\n",
       "collection_explicitness                                               explicit\n",
       "collection_hd_price                                                          0\n",
       "collection_id                                                        515836681\n",
       "collection_name                    A Cast of Kings - A Game of Thrones Podcast\n",
       "collection_price                                                             0\n",
       "collection_view_url          https://itunes.apple.com/us/podcast/cast-kings...\n",
       "content_advisory_rating                                               Explicit\n",
       "country                                                                    USA\n",
       "currency                                                                   USD\n",
       "feed_url                               http://feeds.feedburner.com/castofkings\n",
       "genre_ids                                                           [1309, 26]\n",
       "genres                                                   [TV & Film, Podcasts]\n",
       "id                                                                          12\n",
       "kind                                                                   podcast\n",
       "primary_genre_name                                                   TV & Film\n",
       "radio_station_url              https://itunes.apple.com/station/idra.515836681\n",
       "release_date                                              2015-12-10T08:34:00Z\n",
       "track_censored_name                A Cast of Kings - A Game of Thrones Podcast\n",
       "track_count                                                                 20\n",
       "track_explicitness                                                    explicit\n",
       "track_hd_price                                                               0\n",
       "track_hd_rental_price                                                        0\n",
       "track_id                                                           5.15837e+08\n",
       "track_name                         A Cast of Kings - A Game of Thrones Podcast\n",
       "track_price                                                                  0\n",
       "track_rental_price                                                           0\n",
       "track_view_url               https://itunes.apple.com/us/podcast/cast-kings...\n",
       "wrapper_type                                                             track\n",
       "also_subscribed              [508647267, 544599736, 435853369, 515824283, 2...\n",
       "podcast_summary              A quasiweekly discussion of the plots themes a...\n",
       "language                                                               English\n",
       "clean_episode_description    [In this episode of A Cast of Kings Joanna and...\n",
       "clean_episode_name           [A Cast of Kings  Fire and Blood,  A Cast of K...\n",
       "Name: 0, dtype: object"
      ]
     },
     "execution_count": 7,
     "metadata": {},
     "output_type": "execute_result"
    }
   ],
   "source": [
    "thisPod = podcastDf.iloc[0]\n",
    "thisPod"
   ]
  },
  {
   "cell_type": "code",
   "execution_count": 71,
   "metadata": {
    "collapsed": true
   },
   "outputs": [],
   "source": [
    "del podcastDf['id']\n",
    "del podcastDf['artist_id']\n",
    "del podcastDf['genre_ids']"
   ]
  },
  {
   "cell_type": "code",
   "execution_count": 73,
   "metadata": {
    "collapsed": false
   },
   "outputs": [],
   "source": [
    "# insert podcast data into podcast table\n",
    "query = \"INSERT INTO podcast (artwork_url30, artwork_url60, artwork_url100, artwork_url600, explicit, name, view_url, summary) VALUES (%s, %s, %s, %s, %s, %s, %s, %s) RETURNING id;\"\n",
    "podcast_id = []\n",
    "for ind, thisPod in podcastDf.iterrows():\n",
    "    data = (thisPod['artwork_url30'], thisPod['artwork_url60'], thisPod['artwork_url100'], thisPod['artwork_url600'], thisPod['content_advisory_rating'], thisPod['collection_censored_name'], thisPod['collection_view_url'], thisPod['podcast_summary'])\n",
    "    cursor.execute(query, data)\n",
    "    podcast_id.append(cursor.fetchone()[0])\n",
    "    \n",
    "con.commit()\n",
    "podcastDf['podcast_id'] = podcast_id"
   ]
  },
  {
   "cell_type": "code",
   "execution_count": 18,
   "metadata": {
    "collapsed": false
   },
   "outputs": [
    {
     "data": {
      "text/plain": [
       "(4863, 2)"
      ]
     },
     "execution_count": 18,
     "metadata": {},
     "output_type": "execute_result"
    }
   ],
   "source": [
    "# get unique artists\n",
    "artistDf = podcastDf[['artist_name', 'artist_view_url']]\n",
    "artistDf = artistDf.drop_duplicates()\n",
    "artistDf.shape"
   ]
  },
  {
   "cell_type": "code",
   "execution_count": 74,
   "metadata": {
    "collapsed": true
   },
   "outputs": [],
   "source": [
    "# insert artist data into artist table\n",
    "query = \"INSERT INTO artist (view_url, name) VALUES (%s, %s) RETURNING id;\"\n",
    "artist_id = []\n",
    "for ind, row in artistDf.iterrows():\n",
    "    data = (row['artist_view_url'], row['artist_name'])\n",
    "    cursor.execute(query, data)\n",
    "    artist_id.append(cursor.fetchone()[0])\n",
    "con.commit()\n",
    "artistDf['artist_id'] = artist_id"
   ]
  },
  {
   "cell_type": "code",
   "execution_count": 48,
   "metadata": {
    "collapsed": true
   },
   "outputs": [],
   "source": [
    "# get unique genres\n",
    "genreDf = podcastDf['genres']\n",
    "genreList = []\n",
    "for row in genreDf:\n",
    "    for genre in row:\n",
    "        genreList.append(genre)\n",
    "genreList = list(set(genreList))"
   ]
  },
  {
   "cell_type": "code",
   "execution_count": 76,
   "metadata": {
    "collapsed": false
   },
   "outputs": [],
   "source": [
    "# insert genre data into genre table\n",
    "query = \"INSERT INTO genre (name) VALUES (%s) RETURNING id;\"\n",
    "genre_id = []\n",
    "for item in genreList:\n",
    "    data = (item, )\n",
    "    cursor.execute(query, data)\n",
    "    genre_id.append(cursor.fetchone()[0])\n",
    "con.commit()\n",
    "genreDf = pd.DataFrame({'name' : genreList,\n",
    "                       'genre_id': genre_id})"
   ]
  },
  {
   "cell_type": "code",
   "execution_count": 87,
   "metadata": {
    "collapsed": false
   },
   "outputs": [],
   "source": [
    "podcast_artist = pd.merge(podcastDf, artistDf, how = 'inner', on = 'artist_name')"
   ]
  },
  {
   "cell_type": "code",
   "execution_count": 94,
   "metadata": {
    "collapsed": false
   },
   "outputs": [],
   "source": [
    "# insert artist id into podcast table\n",
    "query = \"UPDATE podcast SET artist_id=(%s) WHERE id = (%s);\"\n",
    "for ind, row in podcast_artist.iterrows():\n",
    "    data = (row['artist_id'], row['podcast_id'])\n",
    "    cursor.execute(query, data)\n",
    "    con.commit()"
   ]
  },
  {
   "cell_type": "code",
   "execution_count": 103,
   "metadata": {
    "collapsed": false
   },
   "outputs": [],
   "source": [
    "test = podcastDf[['podcast_id', 'genres']]"
   ]
  },
  {
   "cell_type": "code",
   "execution_count": 131,
   "metadata": {
    "collapsed": false
   },
   "outputs": [],
   "source": [
    "podcast_genre = pd.DataFrame(columns=['podcast_id', 'genre_name'])\n",
    "for ind, row in test.iterrows():\n",
    "    for genre in row['genres']:\n",
    "        \n",
    "        podcast_genre = podcast_genre.append(pd.DataFrame({'podcast_id' : [row['podcast_id']],\n",
    "                                            'genre_name' : [genre]}))"
   ]
  },
  {
   "cell_type": "code",
   "execution_count": 133,
   "metadata": {
    "collapsed": true
   },
   "outputs": [],
   "source": [
    "podcast_genre = pd.merge(podcast_genre, genreDf, how = 'inner', left_on='genre_name', right_on='name')"
   ]
  },
  {
   "cell_type": "code",
   "execution_count": 137,
   "metadata": {
    "collapsed": false
   },
   "outputs": [],
   "source": [
    "# insert podcast-genre mappings into podcast_has_genre table\n",
    "query = \"INSERT INTO podcast_has_genre (podcast_id, genre_id) VALUES (%s, %s);\"\n",
    "for ind, row in podcast_genre.iterrows():\n",
    "    data = (row['podcast_id'], row['genre_id'])\n",
    "    cursor.execute(query, data)\n",
    "con.commit()"
   ]
  },
  {
   "cell_type": "code",
   "execution_count": 139,
   "metadata": {
    "collapsed": true
   },
   "outputs": [],
   "source": [
    "tmp_also_subscribed = podcastDf[['podcast_id', 'also_subscribed']]\n",
    "also_subscribed = pd.DataFrame(columns = ['podcast_id', 'also_subscribed'])\n",
    "for ind, row in tmp_also_subscribed.iterrows():\n",
    "    for sub in row['also_subscribed']:\n",
    "        also_subscribed = also_subscribed.append(pd.DataFrame({'podcast_id' : [row['podcast_id']],\n",
    "                                                              'also_subscribed' : [sub]}))"
   ]
  },
  {
   "cell_type": "code",
   "execution_count": 141,
   "metadata": {
    "collapsed": false
   },
   "outputs": [],
   "source": [
    "also_subscribed.rename(columns = {'podcast_id':'initial_podcast_id'}, inplace=True)"
   ]
  },
  {
   "cell_type": "code",
   "execution_count": 146,
   "metadata": {
    "collapsed": false
   },
   "outputs": [
    {
     "data": {
      "text/html": [
       "<div>\n",
       "<table border=\"1\" class=\"dataframe\">\n",
       "  <thead>\n",
       "    <tr style=\"text-align: right;\">\n",
       "      <th></th>\n",
       "      <th>podcast_id</th>\n",
       "      <th>collection_id</th>\n",
       "    </tr>\n",
       "  </thead>\n",
       "  <tbody>\n",
       "    <tr>\n",
       "      <th>0</th>\n",
       "      <td>6177</td>\n",
       "      <td>515836681</td>\n",
       "    </tr>\n",
       "    <tr>\n",
       "      <th>1</th>\n",
       "      <td>6178</td>\n",
       "      <td>126723118</td>\n",
       "    </tr>\n",
       "    <tr>\n",
       "      <th>2</th>\n",
       "      <td>6179</td>\n",
       "      <td>699748055</td>\n",
       "    </tr>\n",
       "    <tr>\n",
       "      <th>3</th>\n",
       "      <td>6180</td>\n",
       "      <td>80693391</td>\n",
       "    </tr>\n",
       "    <tr>\n",
       "      <th>4</th>\n",
       "      <td>6181</td>\n",
       "      <td>579605641</td>\n",
       "    </tr>\n",
       "  </tbody>\n",
       "</table>\n",
       "</div>"
      ],
      "text/plain": [
       "   podcast_id  collection_id\n",
       "0        6177      515836681\n",
       "1        6178      126723118\n",
       "2        6179      699748055\n",
       "3        6180       80693391\n",
       "4        6181      579605641"
      ]
     },
     "execution_count": 146,
     "metadata": {},
     "output_type": "execute_result"
    }
   ],
   "source": [
    "podcastId = podcastDf[['podcast_id', 'collection_id']]\n",
    "podcastId.head()"
   ]
  },
  {
   "cell_type": "code",
   "execution_count": 147,
   "metadata": {
    "collapsed": false
   },
   "outputs": [],
   "source": [
    "also_subscribed = pd.merge(also_subscribed, podcastId, how = 'inner', left_on='also_subscribed', right_on='collection_id')"
   ]
  },
  {
   "cell_type": "code",
   "execution_count": 150,
   "metadata": {
    "collapsed": false
   },
   "outputs": [
    {
     "data": {
      "text/html": [
       "<div>\n",
       "<table border=\"1\" class=\"dataframe\">\n",
       "  <thead>\n",
       "    <tr style=\"text-align: right;\">\n",
       "      <th></th>\n",
       "      <th>also_subscribed</th>\n",
       "      <th>initial_podcast_id</th>\n",
       "      <th>podcast_id</th>\n",
       "      <th>collection_id</th>\n",
       "    </tr>\n",
       "  </thead>\n",
       "  <tbody>\n",
       "    <tr>\n",
       "      <th>0</th>\n",
       "      <td>850161954</td>\n",
       "      <td>6179</td>\n",
       "      <td>6652</td>\n",
       "      <td>850161954</td>\n",
       "    </tr>\n",
       "    <tr>\n",
       "      <th>1</th>\n",
       "      <td>850161954</td>\n",
       "      <td>9712</td>\n",
       "      <td>6652</td>\n",
       "      <td>850161954</td>\n",
       "    </tr>\n",
       "    <tr>\n",
       "      <th>2</th>\n",
       "      <td>850161954</td>\n",
       "      <td>10425</td>\n",
       "      <td>6652</td>\n",
       "      <td>850161954</td>\n",
       "    </tr>\n",
       "    <tr>\n",
       "      <th>3</th>\n",
       "      <td>850161954</td>\n",
       "      <td>11251</td>\n",
       "      <td>6652</td>\n",
       "      <td>850161954</td>\n",
       "    </tr>\n",
       "    <tr>\n",
       "      <th>4</th>\n",
       "      <td>625691922</td>\n",
       "      <td>6179</td>\n",
       "      <td>6957</td>\n",
       "      <td>625691922</td>\n",
       "    </tr>\n",
       "  </tbody>\n",
       "</table>\n",
       "</div>"
      ],
      "text/plain": [
       "   also_subscribed  initial_podcast_id  podcast_id  collection_id\n",
       "0        850161954                6179        6652      850161954\n",
       "1        850161954                9712        6652      850161954\n",
       "2        850161954               10425        6652      850161954\n",
       "3        850161954               11251        6652      850161954\n",
       "4        625691922                6179        6957      625691922"
      ]
     },
     "execution_count": 150,
     "metadata": {},
     "output_type": "execute_result"
    }
   ],
   "source": [
    "also_subscribed.head()"
   ]
  },
  {
   "cell_type": "code",
   "execution_count": 151,
   "metadata": {
    "collapsed": true
   },
   "outputs": [],
   "source": [
    "# insert also_subscribed data\n",
    "query = \"INSERT INTO also_subscribed (initial_podcast, subscribed_podcast) VALUES (%s, %s);\"\n",
    "for ind, row in also_subscribed.iterrows():\n",
    "    data = (row['initial_podcast_id'], row['podcast_id'])\n",
    "    cursor.execute(query, data)\n",
    "con.commit()"
   ]
  },
  {
   "cell_type": "code",
   "execution_count": null,
   "metadata": {
    "collapsed": true
   },
   "outputs": [],
   "source": []
  }
 ],
 "metadata": {
  "kernelspec": {
   "display_name": "Python 2",
   "language": "python",
   "name": "python2"
  },
  "language_info": {
   "codemirror_mode": {
    "name": "ipython",
    "version": 2
   },
   "file_extension": ".py",
   "mimetype": "text/x-python",
   "name": "python",
   "nbconvert_exporter": "python",
   "pygments_lexer": "ipython2",
   "version": "2.7.10"
  }
 },
 "nbformat": 4,
 "nbformat_minor": 0
}
