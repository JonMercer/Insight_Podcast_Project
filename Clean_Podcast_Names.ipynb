{
 "cells": [
  {
   "cell_type": "code",
   "execution_count": 48,
   "metadata": {
    "collapsed": true
   },
   "outputs": [],
   "source": [
    "import pandas as pd\n",
    "import re\n",
    "import psycopg2\n",
    "from tqdm import tqdm"
   ]
  },
  {
   "cell_type": "code",
   "execution_count": 49,
   "metadata": {
    "collapsed": true
   },
   "outputs": [],
   "source": [
    "# set up database connection\n",
    "user = 'lindsay'          \n",
    "host = 'localhost'\n",
    "dbname = 'podcast'\n",
    "con = None\n",
    "con = psycopg2.connect(database = dbname, user = user)\n",
    "cursor = con.cursor()"
   ]
  },
  {
   "cell_type": "code",
   "execution_count": 50,
   "metadata": {
    "collapsed": false
   },
   "outputs": [],
   "source": [
    "# get podcast names\n",
    "query = \"SELECT name, id FROM podcast;\"\n",
    "cursor.execute(query)\n",
    "query_results = cursor.fetchall()"
   ]
  },
  {
   "cell_type": "code",
   "execution_count": 51,
   "metadata": {
    "collapsed": false
   },
   "outputs": [],
   "source": [
    "results_df = pd.DataFrame({'name' : [x[0] for x in query_results],\n",
    "                           'id' : [x[1] for x in query_results]})"
   ]
  },
  {
   "cell_type": "code",
   "execution_count": 52,
   "metadata": {
    "collapsed": false
   },
   "outputs": [
    {
     "data": {
      "text/plain": [
       "(6136, 2)"
      ]
     },
     "execution_count": 52,
     "metadata": {},
     "output_type": "execute_result"
    }
   ],
   "source": [
    "results_df.shape"
   ]
  },
  {
   "cell_type": "code",
   "execution_count": 53,
   "metadata": {
    "collapsed": false
   },
   "outputs": [],
   "source": [
    "# remove annoying characters\n",
    "chars = {\n",
    "    '\\xc2\\x82' : ',',        # High code comma\n",
    "    '\\xc2\\x84' : ',,',       # High code double comma\n",
    "    '\\xc2\\x85' : '...',      # Tripple dot\n",
    "    '\\xc2\\x88' : '^',        # High carat\n",
    "    '\\xc2\\x91' : '\\x27',     # Forward single quote\n",
    "    '\\xc2\\x92' : '\\x27',     # Reverse single quote\n",
    "    '\\xc2\\x93' : '\\x22',     # Forward double quote\n",
    "    '\\xc2\\x94' : '\\x22',     # Reverse double quote\n",
    "    '\\xc2\\x95' : ' ',\n",
    "    '\\xc2\\x96' : '-',        # High hyphen\n",
    "    '\\xc2\\x97' : '--',       # Double hyphen\n",
    "    '\\xc2\\x99' : ' ',\n",
    "    '\\xc2\\xa0' : ' ',\n",
    "    '\\xc2\\xa6' : '|',        # Split vertical bar\n",
    "    '\\xc2\\xab' : '<<',       # Double less than\n",
    "    '\\xc2\\xbb' : '>>',       # Double greater than\n",
    "    '\\xc2\\xbc' : '1/4',      # one quarter\n",
    "    '\\xc2\\xbd' : '1/2',      # one half\n",
    "    '\\xc2\\xbe' : '3/4',      # three quarters\n",
    "    '\\xca\\xbf' : '\\x27',     # c-single quote\n",
    "    '\\xcc\\xa8' : '',         # modifier - under curve\n",
    "    '\\xcc\\xb1' : ''          # modifier - under line\n",
    "}\n",
    "def replace_chars(match):\n",
    "    char = match.group(0)\n",
    "    return chars[char]\n",
    "\n",
    "def clean_name(text):\n",
    "    text = re.sub('(' + '|'.join(chars.keys()) + ')', replace_chars, text)\n",
    "    text = text.decode('utf-8').encode('ascii', 'ignore')\n",
    "    return text"
   ]
  },
  {
   "cell_type": "code",
   "execution_count": 54,
   "metadata": {
    "collapsed": false
   },
   "outputs": [],
   "source": [
    "results_df['clean_name'] = [clean_name(x) for x in results_df['name']]"
   ]
  },
  {
   "cell_type": "code",
   "execution_count": 55,
   "metadata": {
    "collapsed": false
   },
   "outputs": [
    {
     "name": "stderr",
     "output_type": "stream",
     "text": []
    }
   ],
   "source": [
    "# update table\n",
    "query = \"\"\"\n",
    "UPDATE podcast\n",
    "SET clean_name = (%s)\n",
    "WHERE id = (%s);\n",
    "\"\"\"\n",
    "query = query.replace('\\n', ' ')\n",
    "\n",
    "for ind, row in tqdm(results_df.iterrows(), total=results_df.shape[0]):\n",
    "    data = ((row['clean_name'], ), (row['id'], ))\n",
    "    cursor.execute(query, data)\n",
    "    \n",
    "con.commit()"
   ]
  },
  {
   "cell_type": "code",
   "execution_count": 47,
   "metadata": {
    "collapsed": false
   },
   "outputs": [
    {
     "data": {
      "text/plain": [
       "(6136, 3)"
      ]
     },
     "execution_count": 47,
     "metadata": {},
     "output_type": "execute_result"
    }
   ],
   "source": [
    "results_df.shape"
   ]
  },
  {
   "cell_type": "code",
   "execution_count": null,
   "metadata": {
    "collapsed": true
   },
   "outputs": [],
   "source": []
  }
 ],
 "metadata": {
  "kernelspec": {
   "display_name": "Python 2",
   "language": "python",
   "name": "python2"
  },
  "language_info": {
   "codemirror_mode": {
    "name": "ipython",
    "version": 2
   },
   "file_extension": ".py",
   "mimetype": "text/x-python",
   "name": "python",
   "nbconvert_exporter": "python",
   "pygments_lexer": "ipython2",
   "version": "2.7.10"
  }
 },
 "nbformat": 4,
 "nbformat_minor": 0
}
