{
 "cells": [
  {
   "cell_type": "code",
   "execution_count": 1,
   "metadata": {
    "collapsed": true
   },
   "outputs": [],
   "source": [
    "from sqlalchemy import create_engine\n",
    "from sqlalchemy_utils import database_exists, create_database\n",
    "import psycopg2\n",
    "import pandas as pd\n",
    "import re"
   ]
  },
  {
   "cell_type": "code",
   "execution_count": 2,
   "metadata": {
    "collapsed": true
   },
   "outputs": [],
   "source": [
    "dbname = 'podcast'\n",
    "username = 'lindsay'"
   ]
  },
  {
   "cell_type": "code",
   "execution_count": 3,
   "metadata": {
    "collapsed": false
   },
   "outputs": [
    {
     "name": "stdout",
     "output_type": "stream",
     "text": [
      "postgres://lindsay@localhost/podcast\n"
     ]
    }
   ],
   "source": [
    "# create connection to database\n",
    "engine = create_engine('postgres://%s@localhost/%s'%(username, dbname))\n",
    "print engine.url"
   ]
  },
  {
   "cell_type": "code",
   "execution_count": 4,
   "metadata": {
    "collapsed": false
   },
   "outputs": [
    {
     "name": "stdout",
     "output_type": "stream",
     "text": [
      "True\n"
     ]
    }
   ],
   "source": [
    "# create database\n",
    "if not database_exists(engine.url):\n",
    "    create_database(engine.url)\n",
    "print(database_exists(engine.url))"
   ]
  },
  {
   "cell_type": "code",
   "execution_count": 5,
   "metadata": {
    "collapsed": false
   },
   "outputs": [],
   "source": [
    "scrapeDf = pd.read_pickle('pkl/scraped_podcasts_COMPLETE.pkl')\n",
    "apiDf = pd.read_pickle('pkl/itunes_podcasts_v3_COMPLETE.pkl')"
   ]
  },
  {
   "cell_type": "code",
   "execution_count": 6,
   "metadata": {
    "collapsed": true
   },
   "outputs": [],
   "source": [
    "# convert camelCase to camel_case\n",
    "def convert(name):\n",
    "    \"\"\"Converts camelCase to camel_case.\"\"\"\n",
    "    s1 = re.sub('(.)([A-Z][a-z]+)', r'\\1_\\2', name)\n",
    "    return re.sub('([a-z0-9])([A-Z])', r'\\1_\\2', s1).lower()"
   ]
  },
  {
   "cell_type": "code",
   "execution_count": 8,
   "metadata": {
    "collapsed": false
   },
   "outputs": [],
   "source": [
    "scrapeDf.columns = [convert(x) for x in scrapeDf.columns]\n",
    "apiDf.columns = [convert(x) for x in apiDf.columns]"
   ]
  },
  {
   "cell_type": "code",
   "execution_count": 12,
   "metadata": {
    "collapsed": true
   },
   "outputs": [],
   "source": [
    "# join dfs\n",
    "podcastDf = pd.merge(scrapeDf, apiDf, how='inner', on='collection_id')"
   ]
  },
  {
   "cell_type": "code",
   "execution_count": 15,
   "metadata": {
    "collapsed": true
   },
   "outputs": [],
   "source": [
    "# insert data into database\n",
    "podcastDf.to_sql('podcasts', engine, if_exists='replace')"
   ]
  },
  {
   "cell_type": "code",
   "execution_count": 16,
   "metadata": {
    "collapsed": true
   },
   "outputs": [],
   "source": [
    "# connect for querying\n",
    "con = None\n",
    "con = psycopg2.connect(database = dbname, user = username)"
   ]
  },
  {
   "cell_type": "code",
   "execution_count": 17,
   "metadata": {
    "collapsed": false
   },
   "outputs": [
    {
     "data": {
      "text/html": [
       "<div>\n",
       "<table border=\"1\" class=\"dataframe\">\n",
       "  <thead>\n",
       "    <tr style=\"text-align: right;\">\n",
       "      <th></th>\n",
       "      <th>index</th>\n",
       "      <th>also_subscribed</th>\n",
       "      <th>collection_id</th>\n",
       "      <th>episode_descriptions</th>\n",
       "      <th>episode_names</th>\n",
       "      <th>podcast_summary</th>\n",
       "      <th>artist_id</th>\n",
       "      <th>artist_name</th>\n",
       "      <th>artist_view_url</th>\n",
       "      <th>artwork_url100</th>\n",
       "      <th>...</th>\n",
       "      <th>track_count</th>\n",
       "      <th>track_explicitness</th>\n",
       "      <th>track_hd_price</th>\n",
       "      <th>track_hd_rental_price</th>\n",
       "      <th>track_id</th>\n",
       "      <th>track_name</th>\n",
       "      <th>track_price</th>\n",
       "      <th>track_rental_price</th>\n",
       "      <th>track_view_url</th>\n",
       "      <th>wrapper_type</th>\n",
       "    </tr>\n",
       "  </thead>\n",
       "  <tbody>\n",
       "    <tr>\n",
       "      <th>0</th>\n",
       "      <td>0</td>\n",
       "      <td>{508647267,544599736,435853369,515824283,28140...</td>\n",
       "      <td>515836681</td>\n",
       "      <td>['In this episode of \"A Cast of Kings,\" Joanna...</td>\n",
       "      <td>['A Cast of Kings S1E10 - Fire and Blood', 'A ...</td>\n",
       "      <td>A quasi-weekly discussion of the plots, themes...</td>\n",
       "      <td>None</td>\n",
       "      <td>David Chen and Joanna Robinson</td>\n",
       "      <td>None</td>\n",
       "      <td>http://is1.mzstatic.com/image/thumb/Music/v4/0...</td>\n",
       "      <td>...</td>\n",
       "      <td>20</td>\n",
       "      <td>explicit</td>\n",
       "      <td>0</td>\n",
       "      <td>0</td>\n",
       "      <td>515836681</td>\n",
       "      <td>A Cast of Kings - A Game of Thrones Podcast</td>\n",
       "      <td>0</td>\n",
       "      <td>0</td>\n",
       "      <td>https://itunes.apple.com/us/podcast/cast-kings...</td>\n",
       "      <td>track</td>\n",
       "    </tr>\n",
       "  </tbody>\n",
       "</table>\n",
       "<p>1 rows × 41 columns</p>\n",
       "</div>"
      ],
      "text/plain": [
       "   index                                    also_subscribed  collection_id  \\\n",
       "0      0  {508647267,544599736,435853369,515824283,28140...      515836681   \n",
       "\n",
       "                                episode_descriptions  \\\n",
       "0  ['In this episode of \"A Cast of Kings,\" Joanna...   \n",
       "\n",
       "                                       episode_names  \\\n",
       "0  ['A Cast of Kings S1E10 - Fire and Blood', 'A ...   \n",
       "\n",
       "                                     podcast_summary artist_id  \\\n",
       "0  A quasi-weekly discussion of the plots, themes...      None   \n",
       "\n",
       "                      artist_name artist_view_url  \\\n",
       "0  David Chen and Joanna Robinson            None   \n",
       "\n",
       "                                      artwork_url100     ...      track_count  \\\n",
       "0  http://is1.mzstatic.com/image/thumb/Music/v4/0...     ...               20   \n",
       "\n",
       "  track_explicitness track_hd_price track_hd_rental_price   track_id  \\\n",
       "0           explicit              0                     0  515836681   \n",
       "\n",
       "                                    track_name track_price  \\\n",
       "0  A Cast of Kings - A Game of Thrones Podcast           0   \n",
       "\n",
       "   track_rental_price                                     track_view_url  \\\n",
       "0                   0  https://itunes.apple.com/us/podcast/cast-kings...   \n",
       "\n",
       "  wrapper_type  \n",
       "0        track  \n",
       "\n",
       "[1 rows x 41 columns]"
      ]
     },
     "execution_count": 17,
     "metadata": {},
     "output_type": "execute_result"
    }
   ],
   "source": [
    "# query\n",
    "sql_query = \"\"\"\n",
    "SELECT * FROM podcasts WHERE collection_id=515836681;\n",
    "\"\"\"\n",
    "\n",
    "query_result = pd.read_sql_query(sql_query, con)\n",
    "query_result"
   ]
  }
 ],
 "metadata": {
  "kernelspec": {
   "display_name": "Python 2",
   "language": "python",
   "name": "python2"
  },
  "language_info": {
   "codemirror_mode": {
    "name": "ipython",
    "version": 2
   },
   "file_extension": ".py",
   "mimetype": "text/x-python",
   "name": "python",
   "nbconvert_exporter": "python",
   "pygments_lexer": "ipython2",
   "version": "2.7.10"
  }
 },
 "nbformat": 4,
 "nbformat_minor": 0
}
