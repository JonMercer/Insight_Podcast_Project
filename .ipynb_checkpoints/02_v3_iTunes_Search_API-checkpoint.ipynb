{
 "cells": [
  {
   "cell_type": "code",
   "execution_count": 88,
   "metadata": {
    "collapsed": false
   },
   "outputs": [],
   "source": [
    "import pandas as pd\n",
    "import urllib2\n",
    "import requests\n",
    "import json\n",
    "import time\n",
    "import tqdm\n",
    "from BeautifulSoup import BeautifulSoup\n",
    "from common_func import convert_unicode, check_url"
   ]
  },
  {
   "cell_type": "code",
   "execution_count": 2,
   "metadata": {
    "collapsed": true
   },
   "outputs": [],
   "source": [
    "# load df of english language podcasts\n",
    "podcastDf = pd.read_pickle('pkl/english_podcasts.pkl')"
   ]
  },
  {
   "cell_type": "code",
   "execution_count": 3,
   "metadata": {
    "collapsed": false
   },
   "outputs": [
    {
     "name": "stdout",
     "output_type": "stream",
     "text": [
      "https://itunes.apple.com/search?attribute=titleTerm&entity=podcast&term=\n"
     ]
    }
   ],
   "source": [
    "# construct base search url, later we'll add the podcast name\n",
    "itunesUrl = 'https://itunes.apple.com/search?'\n",
    "parameters = {}\n",
    "parameters['entity'] = 'podcast'\n",
    "parameters['attribute'] = 'titleTerm'\n",
    "\n",
    "requestString = ''\n",
    "for param in parameters:\n",
    "    paramString = param + '=' + parameters[param]\n",
    "    if len(requestString) == 0:\n",
    "        requestString = paramString\n",
    "    else:\n",
    "        requestString = requestString + '&' + paramString\n",
    "\n",
    "itunesUrl = itunesUrl + requestString + '&term='\n",
    "print itunesUrl"
   ]
  },
  {
   "cell_type": "code",
   "execution_count": 4,
   "metadata": {
    "collapsed": true
   },
   "outputs": [],
   "source": [
    "# make subset of podcastDf for testing\n",
    "testDf = podcastDf.sample(n=20)"
   ]
  },
  {
   "cell_type": "code",
   "execution_count": 71,
   "metadata": {
    "collapsed": false
   },
   "outputs": [],
   "source": [
    "# do a test request so we get the column names\n",
    "testUrl = itunesUrl + urllib2.quote('political gabfest')\n",
    "r = requests.get(testUrl)\n",
    "text = r.text\n",
    "data = json.loads(text)\n",
    "thisResult = pd.io.json.json_normalize(data['results'])\n",
    "thisResult['id'] = 12345\n",
    "colNames = list(thisResult.columns.values)"
   ]
  },
  {
   "cell_type": "code",
   "execution_count": 92,
   "metadata": {
    "collapsed": false
   },
   "outputs": [
    {
     "data": {
      "text/html": [
       "<div>\n",
       "<table border=\"1\" class=\"dataframe\">\n",
       "  <thead>\n",
       "    <tr style=\"text-align: right;\">\n",
       "      <th></th>\n",
       "      <th>artistId</th>\n",
       "      <th>artistName</th>\n",
       "      <th>artistViewUrl</th>\n",
       "      <th>artworkUrl100</th>\n",
       "      <th>artworkUrl30</th>\n",
       "      <th>artworkUrl60</th>\n",
       "      <th>artworkUrl600</th>\n",
       "      <th>collectionCensoredName</th>\n",
       "      <th>collectionExplicitness</th>\n",
       "      <th>collectionHdPrice</th>\n",
       "      <th>...</th>\n",
       "      <th>trackExplicitness</th>\n",
       "      <th>trackHdPrice</th>\n",
       "      <th>trackHdRentalPrice</th>\n",
       "      <th>trackId</th>\n",
       "      <th>trackName</th>\n",
       "      <th>trackPrice</th>\n",
       "      <th>trackRentalPrice</th>\n",
       "      <th>trackViewUrl</th>\n",
       "      <th>wrapperType</th>\n",
       "      <th>id</th>\n",
       "    </tr>\n",
       "  </thead>\n",
       "  <tbody>\n",
       "  </tbody>\n",
       "</table>\n",
       "<p>0 rows × 36 columns</p>\n",
       "</div>"
      ],
      "text/plain": [
       "Empty DataFrame\n",
       "Columns: [artistId, artistName, artistViewUrl, artworkUrl100, artworkUrl30, artworkUrl60, artworkUrl600, collectionCensoredName, collectionExplicitness, collectionHdPrice, collectionId, collectionName, collectionPrice, collectionViewUrl, contentAdvisoryRating, country, currency, feedUrl, genreIds, genres, kind, primaryGenreName, radioStationUrl, releaseDate, trackCensoredName, trackCount, trackExplicitness, trackHdPrice, trackHdRentalPrice, trackId, trackName, trackPrice, trackRentalPrice, trackViewUrl, wrapperType, id]\n",
       "Index: []\n",
       "\n",
       "[0 rows x 36 columns]"
      ]
     },
     "execution_count": 92,
     "metadata": {},
     "output_type": "execute_result"
    }
   ],
   "source": [
    "searchResults = pd.DataFrame(columns=colNames)\n",
    "searchResults"
   ]
  },
  {
   "cell_type": "code",
   "execution_count": null,
   "metadata": {
    "collapsed": false
   },
   "outputs": [
    {
     "name": "stderr",
     "output_type": "stream",
     "text": [
      "  2%|▏         | 757/49930 [10:01<6:38:12,  2.06it/s]"
     ]
    }
   ],
   "source": [
    "# set parameters for checking API search url\n",
    "num_tries = 4\n",
    "wait_secs = 60 # interval between tries\n",
    "\n",
    "for ind, row in tqdm.tqdm(podcastDf.iterrows(), total=podcastDf.shape[0]):\n",
    "    \n",
    "    # check if url works\n",
    "    searchUrl = itunesUrl + urllib2.quote(row['name'])\n",
    "    url_error = check_url(searchUrl, num_tries, wait_secs)\n",
    "    if url_error:\n",
    "        print url_error\n",
    "        break\n",
    "    \n",
    "    # get search results\n",
    "    r = requests.get(searchUrl)\n",
    "    text = r.text\n",
    "    data = json.loads(text)\n",
    "    if data['resultCount'] != 1:\n",
    "        thisResult = pd.DataFrame({'id' : [ind]})\n",
    "        searchResults = pd.concat([searchResults, thisResult], axis=0)\n",
    "    else:\n",
    "        thisResult = pd.io.json.json_normalize(data['results'])\n",
    "        thisResult['id'] = ind\n",
    "        searchResults = pd.concat([searchResults, thisResult], axis=0)"
   ]
  },
  {
   "cell_type": "code",
   "execution_count": null,
   "metadata": {
    "collapsed": true
   },
   "outputs": [],
   "source": []
  }
 ],
 "metadata": {
  "kernelspec": {
   "display_name": "Python 2",
   "language": "python",
   "name": "python2"
  },
  "language_info": {
   "codemirror_mode": {
    "name": "ipython",
    "version": 2
   },
   "file_extension": ".py",
   "mimetype": "text/x-python",
   "name": "python",
   "nbconvert_exporter": "python",
   "pygments_lexer": "ipython2",
   "version": "2.7.10"
  }
 },
 "nbformat": 4,
 "nbformat_minor": 0
}
