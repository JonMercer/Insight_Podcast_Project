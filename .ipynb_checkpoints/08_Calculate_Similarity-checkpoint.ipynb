{
 "cells": [
  {
   "cell_type": "code",
   "execution_count": 34,
   "metadata": {
    "collapsed": true
   },
   "outputs": [],
   "source": [
    "from gensim import corpora, models, similarities\n",
    "import pandas as pd\n",
    "import tqdm\n",
    "import logging\n",
    "\n",
    "logging.basicConfig(format='%(asctime)s : %(levelname)s : %(message)s', level=logging.INFO)"
   ]
  },
  {
   "cell_type": "code",
   "execution_count": 2,
   "metadata": {
    "collapsed": true
   },
   "outputs": [],
   "source": [
    "# load gensim output\n",
    "dictionary = corpora.Dictionary.load('gensim/dictionary.dict')\n",
    "corpus = corpora.MmCorpus('gensim/corpus_tfidf.mm')\n",
    "lsi = models.LsiModel.load('gensim/model.lsi')\n",
    "index = similarities.MatrixSimilarity.load('gensim/tfidf_lsi_similarities.index')"
   ]
  },
  {
   "cell_type": "code",
   "execution_count": 7,
   "metadata": {
    "collapsed": false
   },
   "outputs": [
    {
     "data": {
      "text/plain": [
       "(5804, 3)"
      ]
     },
     "execution_count": 7,
     "metadata": {},
     "output_type": "execute_result"
    }
   ],
   "source": [
    "# load podcast data\n",
    "podcast_data = pd.read_pickle('gensim/preprocessed_text_v2.pkl')\n",
    "podcast_data.shape"
   ]
  },
  {
   "cell_type": "code",
   "execution_count": 35,
   "metadata": {
    "collapsed": false
   },
   "outputs": [],
   "source": [
    "similarity_df = pd.DataFrame(columns=['search_id', 'match_id', 'similarity'])"
   ]
  },
  {
   "cell_type": "code",
   "execution_count": 39,
   "metadata": {
    "collapsed": false
   },
   "outputs": [
    {
     "name": "stderr",
     "output_type": "stream",
     "text": []
    }
   ],
   "source": [
    "for row_id in tqdm.tqdm(range(podcast_data.shape[0])):\n",
    "    search_id = int(podcast_data.iloc[row_id]['id'])\n",
    "    search_vec = lsi[corpus[row_id]]\n",
    "    sims = index[search_vec]\n",
    "    sims = sorted(enumerate(sims), key=lambda item: -item[1])\n",
    "    \n",
    "    # remove self match (should be first)\n",
    "    for i, (id, sim) in enumerate(sims):\n",
    "        if id == row_id:\n",
    "            del sims[i]\n",
    "            break\n",
    "    \n",
    "    # get match ids and similarities\n",
    "    match_id = [podcast_data.iloc[match[0]]['id'] for match in sims]\n",
    "    similarity = [match[1] for match in sims]\n",
    "    \n",
    "    similarity_df = similarity_df.append(pd.DataFrame({'search_id' : [[search_id] * len(match_id)],\n",
    "                                                      'match_id' : [match_id],\n",
    "                                                      'similarity' : [similarity]}))"
   ]
  },
  {
   "cell_type": "code",
   "execution_count": 40,
   "metadata": {
    "collapsed": true
   },
   "outputs": [],
   "source": [
    "similarity_df.to_pickle('gensim/similarity_df.pkl')"
   ]
  },
  {
   "cell_type": "code",
   "execution_count": null,
   "metadata": {
    "collapsed": true
   },
   "outputs": [],
   "source": []
  }
 ],
 "metadata": {
  "kernelspec": {
   "display_name": "Python 2",
   "language": "python",
   "name": "python2"
  },
  "language_info": {
   "codemirror_mode": {
    "name": "ipython",
    "version": 2
   },
   "file_extension": ".py",
   "mimetype": "text/x-python",
   "name": "python",
   "nbconvert_exporter": "python",
   "pygments_lexer": "ipython2",
   "version": "2.7.10"
  }
 },
 "nbformat": 4,
 "nbformat_minor": 0
}
