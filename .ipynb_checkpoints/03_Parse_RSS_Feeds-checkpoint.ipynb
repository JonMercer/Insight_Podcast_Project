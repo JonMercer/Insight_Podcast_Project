{
 "cells": [
  {
   "cell_type": "code",
   "execution_count": 2,
   "metadata": {
    "collapsed": true
   },
   "outputs": [],
   "source": [
    "import re\n",
    "import requests\n",
    "import urllib2\n",
    "from BeautifulSoup import BeautifulSoup\n",
    "import pandas as pd\n",
    "from common_func import convert_unicode"
   ]
  },
  {
   "cell_type": "code",
   "execution_count": 17,
   "metadata": {
    "collapsed": false
   },
   "outputs": [
    {
     "data": {
      "text/plain": [
       "(50959, 16)"
      ]
     },
     "execution_count": 17,
     "metadata": {},
     "output_type": "execute_result"
    }
   ],
   "source": [
    "# load pickled data\n",
    "pkls = !ls pkl/itunes*.pkl\n",
    "pkl_dfs = [pd.DataFrame(pd.read_pickle(pkl)) for pkl in pkls]\n",
    "podcastDf = pd.concat(pkl_dfs)\n",
    "podcastDf.shape"
   ]
  },
  {
   "cell_type": "code",
   "execution_count": 18,
   "metadata": {
    "collapsed": false
   },
   "outputs": [
    {
     "data": {
      "text/plain": [
       "(49813, 16)"
      ]
     },
     "execution_count": 18,
     "metadata": {},
     "output_type": "execute_result"
    }
   ],
   "source": [
    "# remove duplicate rows\n",
    "podcastDf = podcastDf.drop_duplicates('name')\n",
    "podcastDf.shape"
   ]
  },
  {
   "cell_type": "code",
   "execution_count": 19,
   "metadata": {
    "collapsed": false
   },
   "outputs": [],
   "source": [
    "# small sample for testing\n",
    "podcastTest = podcastDf.sample(n=20)"
   ]
  },
  {
   "cell_type": "code",
   "execution_count": 20,
   "metadata": {
    "collapsed": true
   },
   "outputs": [],
   "source": [
    "def clean_results(results):\n",
    "    \n",
    "    # handle nested lists\n",
    "    if any(isinstance(i, list) for i in results):\n",
    "        results = [item for sublist in results for item in sublist]\n",
    "    \n",
    "    # strip leading/trailing whitespace\n",
    "    results = [result.strip() for result in results]\n",
    "    \n",
    "    # remove duplicates\n",
    "    results = list(set(results))\n",
    "    \n",
    "    return results"
   ]
  },
  {
   "cell_type": "code",
   "execution_count": null,
   "metadata": {
    "collapsed": false
   },
   "outputs": [],
   "source": [
    "feed_url_valid = []\n",
    "itunes_keywords = []\n",
    "itunes_categories = []\n",
    "itunes_description = []\n",
    "itunes_subtitles = []\n",
    "itunes_summaries = []\n",
    "\n",
    "for ind, row in podcastDf.iterrows():\n",
    "    try:\n",
    "        urllib2.urlopen(row['feed_url'])\n",
    "    except:\n",
    "        feed_url_valid.append(False)\n",
    "        itunes_keywords.append(False)\n",
    "        itunes_categories.append(False)\n",
    "        itunes_description.append(False)\n",
    "        itunes_subtitles.append(False)\n",
    "        itunes_summaries.append(False)\n",
    "    else:\n",
    "    \n",
    "        # if valid url, get the data \n",
    "        feed_url_valid.append(True)\n",
    "        r = requests.get(row['feed_url'])\n",
    "        data = r.text\n",
    "        data = convert_unicode(data)\n",
    "\n",
    "        # extract keywords \n",
    "        keywords = re.findall(r'<itunes:keywords>([\\w, ]+)</itunes:keywords>', data)\n",
    "        keywords = [kwlist.split(',') for kwlist in keywords]\n",
    "        keywords = clean_results(keywords)\n",
    "        itunes_keywords.append(keywords)\n",
    "\n",
    "        # extract categories\n",
    "        categories = re.findall(r'<itunes:category text=\"([\\w \"&amp;\"]+)\"[ />]', data)\n",
    "        categories = clean_results(categories)\n",
    "        itunes_categories.append(categories)\n",
    "\n",
    "        # extract description\n",
    "        description = re.findall(r'<description>(<!\\[CDATA\\[)*(.*?)(\\]\\]>)*</description>', data)\n",
    "        description = [d[1] for d in description]\n",
    "        itunes_description.append(description)\n",
    "\n",
    "        # extract episode subtitles\n",
    "        subtitles = re.findall(r'<itunes:subtitle>(<!\\[CDATA\\[)*(.*?)(\\]\\]>)*</itunes:subtitle', data)\n",
    "        subtitles = [s[1] for s in subtitles]\n",
    "        itunes_subtitles.append(subtitles)\n",
    "\n",
    "        # extract episode summaries\n",
    "        summaries = re.findall('<itunes:summary>(\\r\\n\\s*)*(<!\\[CDATA\\[)*(.*?)(\\]\\]>)*(\\r\\n\\s*)*</itunes:summary', data)\n",
    "        summaries = [s[2] for s in summaries]\n",
    "        summaries_clean = []\n",
    "        for s in summaries:\n",
    "            if re.search(r'brought to you by', s):\n",
    "                newS = re.findall(r'(.*) brought to you by.*', s)\n",
    "                summaries_clean.append(newS)\n",
    "            elif re.search(r'sponsored by', s):\n",
    "                newS = re.findall(r'(.*) sponsored by.*', s)\n",
    "                summaries_clean.append(newS)\n",
    "            else:\n",
    "                summaries_clean.append(s)\n",
    "        itunes_summaries.append(summaries_clean)"
   ]
  },
  {
   "cell_type": "code",
   "execution_count": null,
   "metadata": {
    "collapsed": true
   },
   "outputs": [],
   "source": [
    "podcastDf = podcastDf.assign(feed_url_valid = feed_url_valid,\n",
    "                                 itunes_keywords = itunes_keywords,\n",
    "                                 itunes_categories = itunes_categories,\n",
    "                                 itunes_description = itunes_description,\n",
    "                                 itunes_subtitles = itunes_subtitles,\n",
    "                                 itunes_summaries = itunes_summaries)"
   ]
  }
 ],
 "metadata": {
  "kernelspec": {
   "display_name": "Python 2",
   "language": "python",
   "name": "python2"
  },
  "language_info": {
   "codemirror_mode": {
    "name": "ipython",
    "version": 2
   },
   "file_extension": ".py",
   "mimetype": "text/x-python",
   "name": "python",
   "nbconvert_exporter": "python",
   "pygments_lexer": "ipython2",
   "version": "2.7.10"
  }
 },
 "nbformat": 4,
 "nbformat_minor": 0
}
