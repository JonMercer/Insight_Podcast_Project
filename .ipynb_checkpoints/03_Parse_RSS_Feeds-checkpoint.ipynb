{
 "cells": [
  {
   "cell_type": "code",
   "execution_count": 64,
   "metadata": {
    "collapsed": true
   },
   "outputs": [],
   "source": [
    "import re\n",
    "import requests\n",
    "import urllib2\n",
    "from BeautifulSoup import BeautifulSoup\n",
    "import pandas as pd\n",
    "from common_func import convert_unicode"
   ]
  },
  {
   "cell_type": "code",
   "execution_count": 40,
   "metadata": {
    "collapsed": false
   },
   "outputs": [
    {
     "data": {
      "text/plain": [
       "(30575, 16)"
      ]
     },
     "execution_count": 40,
     "metadata": {},
     "output_type": "execute_result"
    }
   ],
   "source": [
    "# load pickled data\n",
    "pkls = !ls pkl/itunes*.pkl\n",
    "pkl_dfs = [pd.DataFrame(pd.read_pickle(pkl)) for pkl in pkls]\n",
    "podcastDf = pd.concat(pkl_dfs)\n",
    "podcastDf.shape"
   ]
  },
  {
   "cell_type": "code",
   "execution_count": 41,
   "metadata": {
    "collapsed": false
   },
   "outputs": [
    {
     "data": {
      "text/plain": [
       "(29487, 16)"
      ]
     },
     "execution_count": 41,
     "metadata": {},
     "output_type": "execute_result"
    }
   ],
   "source": [
    "# remove duplicate rows\n",
    "podcastDf = podcastDf.drop_duplicates('name')\n",
    "podcastDf.shape"
   ]
  },
  {
   "cell_type": "code",
   "execution_count": 42,
   "metadata": {
    "collapsed": true
   },
   "outputs": [],
   "source": [
    "# small sample for testing\n",
    "podcastTest = podcastDf.sample(n=20)"
   ]
  },
  {
   "cell_type": "code",
   "execution_count": 170,
   "metadata": {
    "collapsed": true
   },
   "outputs": [],
   "source": [
    "def clean_results(results):\n",
    "    \n",
    "    # handle nested lists\n",
    "    if any(isinstance(i, list) for i in results):\n",
    "        results = [item for sublist in results for item in sublist]\n",
    "    \n",
    "    # strip leading/trailing whitespace\n",
    "    results = [result.strip() for result in results]\n",
    "    \n",
    "    # remove duplicates\n",
    "    results = list(set(results))\n",
    "    \n",
    "    return results"
   ]
  },
  {
   "cell_type": "code",
   "execution_count": 179,
   "metadata": {
    "collapsed": false
   },
   "outputs": [],
   "source": [
    "feed_url_valid = []\n",
    "itunes_keywords = []\n",
    "itunes_categories = []\n",
    "\n",
    "for ind, row in podcastTest.iterrows():\n",
    "    try:\n",
    "        urllib2.urlopen(row['feed_url'])\n",
    "    except urllib2.HTTPError, e:\n",
    "        feed_url_valid.append(False)\n",
    "        itunes_keywords.append(False)\n",
    "        itunes_categories.append(False)\n",
    "    except urllib2.URLError, e:\n",
    "        feed_url_valid.append(False)\n",
    "        itunes_keywords.append(False)\n",
    "        itunes_categories.append(False)\n",
    "    \n",
    "    # if valid url, get the data \n",
    "    feed_url_valid.append(True)\n",
    "    r = requests.get(row['feed_url'])\n",
    "    data = r.text\n",
    "    data = convert_unicode(data)\n",
    "    \n",
    "    # extract keywords \n",
    "    keywords = re.findall(r'<itunes:keywords>([\\w, ]+)</itunes:keywords>', data)\n",
    "    keywords = [kwlist.split(',') for kwlist in keywords]\n",
    "    keywords = clean_results(keywords)\n",
    "    itunes_keywords.append(keywords)\n",
    "    \n",
    "    ### extract categories ###\n",
    "    categories = re.findall(r'<itunes:category text=\"([\\w \"&amp;\"]+)\"[ />]', data)\n",
    "    categories = clean_results(categories)\n",
    "    itunes_categories.append(categories)"
   ]
  },
  {
   "cell_type": "code",
   "execution_count": 181,
   "metadata": {
    "collapsed": false
   },
   "outputs": [
    {
     "data": {
      "text/plain": [
       "[['Food', 'Games &amp; Hobbies', 'Arts', 'Comedy', 'Hobbies'],\n",
       " ['Gadgets', 'Games &amp; Hobbies', 'Video Games', 'Technology'],\n",
       " ['Religion &amp; Spirituality', 'Christianity'],\n",
       " ['Places &amp; Travel', 'Society &amp; Culture'],\n",
       " ['TV &amp; Film'],\n",
       " ['Comedy'],\n",
       " [],\n",
       " ['Arts', 'Literature'],\n",
       " ['Music'],\n",
       " False,\n",
       " [],\n",
       " ['Arts', 'Literature'],\n",
       " ['Arts', 'Literature'],\n",
       " ['Arts', 'Literature'],\n",
       " ['TV &amp; Film', 'Places &amp; Travel'],\n",
       " False,\n",
       " [],\n",
       " ['Music'],\n",
       " False,\n",
       " [],\n",
       " [],\n",
       " ['Music'],\n",
       " ['Technology']]"
      ]
     },
     "execution_count": 181,
     "metadata": {},
     "output_type": "execute_result"
    }
   ],
   "source": [
    "itunes_categories"
   ]
  },
  {
   "cell_type": "code",
   "execution_count": 176,
   "metadata": {
    "collapsed": false
   },
   "outputs": [],
   "source": [
    "url = podcastTest.iloc[3]['feed_url']\n",
    "#url = 'http://feeds.feedburner.com/SlatePoliticalGabfest'\n",
    "#url = 'http://feeds.kcrw.com/kcrw/lr?format=xml'\n",
    "#url = 'http://savagelove.savagelovecast.libsynpro.com/rss'\n",
    "\n",
    "r = requests.get(url)\n",
    "data = r.text\n",
    "data = convert_unicode(data)"
   ]
  }
 ],
 "metadata": {
  "kernelspec": {
   "display_name": "Python 2",
   "language": "python",
   "name": "python2"
  },
  "language_info": {
   "codemirror_mode": {
    "name": "ipython",
    "version": 2
   },
   "file_extension": ".py",
   "mimetype": "text/x-python",
   "name": "python",
   "nbconvert_exporter": "python",
   "pygments_lexer": "ipython2",
   "version": "2.7.10"
  }
 },
 "nbformat": 4,
 "nbformat_minor": 0
}
