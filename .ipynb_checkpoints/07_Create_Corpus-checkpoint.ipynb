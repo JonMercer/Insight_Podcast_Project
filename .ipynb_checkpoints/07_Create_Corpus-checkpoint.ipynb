{
 "cells": [
  {
   "cell_type": "code",
   "execution_count": 4,
   "metadata": {
    "collapsed": true
   },
   "outputs": [],
   "source": [
    "from gensim import corpora\n",
    "from collections import defaultdict\n",
    "import pandas as pd\n",
    "import logging\n",
    "logging.basicConfig(format='%(asctime)s : %(levelname)s : %(message)s', level=logging.INFO)"
   ]
  },
  {
   "cell_type": "code",
   "execution_count": 10,
   "metadata": {
    "collapsed": true
   },
   "outputs": [],
   "source": [
    "documents = pd.read_pickle('gensim/preprocessed_text.pkl')"
   ]
  },
  {
   "cell_type": "code",
   "execution_count": 11,
   "metadata": {
    "collapsed": true
   },
   "outputs": [],
   "source": [
    "# remove words that only appear once in all documents\n",
    "frequency = defaultdict(int)\n",
    "for text in documents['text']:\n",
    "    for token in text:\n",
    "        frequency[token] += 1\n",
    "        \n",
    "documents['text'] = [[token for token in text if frequency[token] > 1]\n",
    "              for text in documents['text']]"
   ]
  },
  {
   "cell_type": "code",
   "execution_count": 12,
   "metadata": {
    "collapsed": false
   },
   "outputs": [
    {
     "data": {
      "text/html": [
       "<div>\n",
       "<table border=\"1\" class=\"dataframe\">\n",
       "  <thead>\n",
       "    <tr style=\"text-align: right;\">\n",
       "      <th></th>\n",
       "      <th>id</th>\n",
       "      <th>language</th>\n",
       "      <th>text</th>\n",
       "    </tr>\n",
       "  </thead>\n",
       "  <tbody>\n",
       "    <tr>\n",
       "      <th>0</th>\n",
       "      <td>16392</td>\n",
       "      <td>English</td>\n",
       "      <td>[host, review, favorit, favorit, classic, pro,...</td>\n",
       "    </tr>\n",
       "    <tr>\n",
       "      <th>0</th>\n",
       "      <td>18489</td>\n",
       "      <td>English</td>\n",
       "      <td>[everyon, need, hope, everyon, need, encourag,...</td>\n",
       "    </tr>\n",
       "    <tr>\n",
       "      <th>0</th>\n",
       "      <td>12350</td>\n",
       "      <td>English</td>\n",
       "      <td>[insur, news, interview, rate, announc, insur,...</td>\n",
       "    </tr>\n",
       "    <tr>\n",
       "      <th>0</th>\n",
       "      <td>12351</td>\n",
       "      <td>English</td>\n",
       "      <td>[amovetv, crew, talk, video, game, esport, lot...</td>\n",
       "    </tr>\n",
       "    <tr>\n",
       "      <th>0</th>\n",
       "      <td>12352</td>\n",
       "      <td>English</td>\n",
       "      <td>[pastor, greg, lauri, thirtyminut, daili, radi...</td>\n",
       "    </tr>\n",
       "  </tbody>\n",
       "</table>\n",
       "</div>"
      ],
      "text/plain": [
       "      id language                                               text\n",
       "0  16392  English  [host, review, favorit, favorit, classic, pro,...\n",
       "0  18489  English  [everyon, need, hope, everyon, need, encourag,...\n",
       "0  12350  English  [insur, news, interview, rate, announc, insur,...\n",
       "0  12351  English  [amovetv, crew, talk, video, game, esport, lot...\n",
       "0  12352  English  [pastor, greg, lauri, thirtyminut, daili, radi..."
      ]
     },
     "execution_count": 12,
     "metadata": {},
     "output_type": "execute_result"
    }
   ],
   "source": [
    "documents.head()"
   ]
  },
  {
   "cell_type": "code",
   "execution_count": null,
   "metadata": {
    "collapsed": true
   },
   "outputs": [],
   "source": []
  }
 ],
 "metadata": {
  "kernelspec": {
   "display_name": "Python 2",
   "language": "python",
   "name": "python2"
  },
  "language_info": {
   "codemirror_mode": {
    "name": "ipython",
    "version": 2
   },
   "file_extension": ".py",
   "mimetype": "text/x-python",
   "name": "python",
   "nbconvert_exporter": "python",
   "pygments_lexer": "ipython2",
   "version": "2.7.10"
  }
 },
 "nbformat": 4,
 "nbformat_minor": 0
}
