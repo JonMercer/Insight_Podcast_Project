{
 "cells": [
  {
   "cell_type": "code",
   "execution_count": 283,
   "metadata": {
    "collapsed": true
   },
   "outputs": [],
   "source": [
    "import pycurl, json, sys\n",
    "import re\n",
    "import pandas as pd\n",
    "import numpy as np\n",
    "import datetime as dt\n",
    "from common_func import check_url\n",
    "from BeautifulSoup import BeautifulSoup\n",
    "import urllib2"
   ]
  },
  {
   "cell_type": "code",
   "execution_count": 83,
   "metadata": {
    "collapsed": false
   },
   "outputs": [
    {
     "data": {
      "text/plain": [
       "(30325, 36)"
      ]
     },
     "execution_count": 83,
     "metadata": {},
     "output_type": "execute_result"
    }
   ],
   "source": [
    "pkls = !ls pkl/itunes*v3*.pkl\n",
    "podcastDf = pd.read_pickle(pkls[-1])\n",
    "podcastDf.shape"
   ]
  },
  {
   "cell_type": "code",
   "execution_count": 84,
   "metadata": {
    "collapsed": false
   },
   "outputs": [
    {
     "data": {
      "text/plain": [
       "(20252, 36)"
      ]
     },
     "execution_count": 84,
     "metadata": {},
     "output_type": "execute_result"
    }
   ],
   "source": [
    "# filter out podcasts with no itunes collection id\n",
    "podcastDf = podcastDf[np.isfinite(podcastDf['collectionId'])]\n",
    "podcastDf.shape"
   ]
  },
  {
   "cell_type": "code",
   "execution_count": 85,
   "metadata": {
    "collapsed": false
   },
   "outputs": [
    {
     "data": {
      "text/plain": [
       "(3862, 36)"
      ]
     },
     "execution_count": 85,
     "metadata": {},
     "output_type": "execute_result"
    }
   ],
   "source": [
    "# filter out podcasts without recent episodes\n",
    "days_thresh = 45\n",
    "thresh_date = dt.datetime.today() - dt.timedelta(days=days_thresh)\n",
    "\n",
    "podcastDf['releaseDate'] = pd.to_datetime(podcastDf['releaseDate'])\n",
    "podcastDf = podcastDf[podcastDf.releaseDate > thresh_date]\n",
    "podcastDf.shape"
   ]
  },
  {
   "cell_type": "code",
   "execution_count": 97,
   "metadata": {
    "collapsed": false
   },
   "outputs": [],
   "source": [
    "# convert collectionId to int\n",
    "podcastDf['collectionId'] = [int(x) for x in podcastDf['collectionId']]"
   ]
  },
  {
   "cell_type": "code",
   "execution_count": 98,
   "metadata": {
    "collapsed": false
   },
   "outputs": [],
   "source": [
    "# make sample for testing\n",
    "testDf = podcastDf.sample(n=20)"
   ]
  },
  {
   "cell_type": "code",
   "execution_count": 205,
   "metadata": {
    "collapsed": false
   },
   "outputs": [],
   "source": [
    "baseUrl = 'https://itunes.apple.com/us/podcast/id'\n",
    "altBaseUrl = 'https://itunes.apple.com/WebObjects/DZR.woa/wa/viewPodcast?cc=us&id=' # id=158004641 works here, but not with main"
   ]
  },
  {
   "cell_type": "code",
   "execution_count": 173,
   "metadata": {
    "collapsed": true
   },
   "outputs": [],
   "source": [
    "# will store pycurl output\n",
    "class Test:\n",
    "   def __init__(self):\n",
    "       self.contents = ''\n",
    "\n",
    "   def body_callback(self, buf):\n",
    "       self.contents = self.contents + buf"
   ]
  },
  {
   "cell_type": "code",
   "execution_count": 313,
   "metadata": {
    "collapsed": true
   },
   "outputs": [],
   "source": [
    "def run_curl(url):\n",
    "    t = Test()\n",
    "    c = pycurl.Curl()\n",
    "    c.setopt(pycurl.URL, url)\n",
    "    c.setopt(pycurl.HTTPHEADER, ['X-Apple-Store-Front: 143441-1,12', 'X-Apple-Tz: 3600'])\n",
    "    c.setopt(pycurl.USERAGENT, 'iTunes/9.2.1 (Macintosh; Intel Mac OS X 10.5.8) AppleWebKit/533.16')\n",
    "    c.setopt(pycurl.SSL_VERIFYHOST, 0)\n",
    "    c.setopt(pycurl.SSL_VERIFYPEER, 0)\n",
    "    c.setopt(pycurl.WRITEFUNCTION, t.body_callback)\n",
    "    c.perform()\n",
    "    return t"
   ]
  },
  {
   "cell_type": "code",
   "execution_count": 271,
   "metadata": {
    "collapsed": false
   },
   "outputs": [
    {
     "data": {
      "text/plain": [
       "'https://itunes.apple.com/us/podcast/id158004641'"
      ]
     },
     "execution_count": 271,
     "metadata": {},
     "output_type": "execute_result"
    }
   ],
   "source": [
    "#scrapeUrl = baseUrl + str(testDf.iloc[0]['collectionId'])\n",
    "#scrapeUrl = baseUrl + '158004641'\n",
    "#scrapeUrl = altBaseUrl + '158004641'\n",
    "#scrapeUrl = altBaseUrl + str(testDf.iloc[0]['collectionId'])\n",
    "scrapeUrl"
   ]
  },
  {
   "cell_type": "code",
   "execution_count": 314,
   "metadata": {
    "collapsed": true
   },
   "outputs": [],
   "source": [
    "id = '158004641'\n",
    "scrapeUrl = baseUrl + id\n",
    "\n",
    "t = run_curl(scrapeUrl)"
   ]
  },
  {
   "cell_type": "code",
   "execution_count": 315,
   "metadata": {
    "collapsed": false
   },
   "outputs": [
    {
     "data": {
      "text/plain": [
       "<?xml version='1.0' encoding='utf-8'?>\n",
       "<!DOCTYPE plist PUBLIC \"-//Apple Computer//DTD PLIST 1.0//EN\" \"http://www.apple.com/DTDs/PropertyList-1.0.dtd\">\n",
       "<plist version=\"1.0\">\n",
       "<dict>\n",
       "<key>jingleDocType</key><string></string>\n",
       "<key>jingleAction</key><string></string>\n",
       "<key>action</key>\n",
       "</dict><dict>\n",
       "<key>kind</key><string>Goto</string>\n",
       "<key>url</key><string>https://itunes.apple.com/WebObjects/DZR.woa/wa/viewPodcast?cc=us&amp;urlDesc=&amp;id=158004641</string>\n",
       "</dict>\n",
       "\n",
       "</plist>"
      ]
     },
     "execution_count": 315,
     "metadata": {},
     "output_type": "execute_result"
    }
   ],
   "source": [
    "BeautifulSoup(t.contents)"
   ]
  },
  {
   "cell_type": "code",
   "execution_count": 312,
   "metadata": {
    "collapsed": false
   },
   "outputs": [
    {
     "name": "stdout",
     "output_type": "stream",
     "text": [
      "Voted “Favorite Political Podcast” by iTunes Listeners. Stephen Colbert says &quot;Everybody should listen to the Slate Political Gabfest.&quot; The Gabfest, featuring Slate's Emily Bazelon, John Dickerson, and David Plotz, is the kind of informal and irreverent discussion Washington journalists have after hours over drinks. Part of the Panoply Network.\n"
     ]
    }
   ],
   "source": [
    "# work on html scraping for baseUrl\n",
    "soup = BeautifulSoup(t.contents)\n",
    "p = soup.p\n",
    "if p:\n",
    "    print 'Found description'\n",
    "else:\n",
    "    newUrl = soup.findAll(text=re.compile(r'https'))\n",
    "    newUrl = newUrl[0]\n",
    "    newUrl = re.sub(r'&amp;', r'&', newUrl)\n",
    "    \n",
    "    del(c, t)\n",
    "    t = Test()\n",
    "    c = pycurl.Curl()\n",
    "    c.setopt(pycurl.URL, newUrl)\n",
    "    c.setopt(pycurl.HTTPHEADER, ['X-Apple-Store-Front: 143441-1,12', 'X-Apple-Tz: 3600'])\n",
    "    c.setopt(pycurl.USERAGENT, 'iTunes/9.2.1 (Macintosh; Intel Mac OS X 10.5.8) AppleWebKit/533.16')\n",
    "    c.setopt(pycurl.SSL_VERIFYHOST, 0)\n",
    "    c.setopt(pycurl.SSL_VERIFYPEER, 0)\n",
    "    c.setopt(pycurl.WRITEFUNCTION, t.body_callback)\n",
    "\n",
    "    c.perform()\n",
    "    \n",
    "    soup = BeautifulSoup(t.contents)\n",
    "    print soup.p.string\n"
   ]
  },
  {
   "cell_type": "code",
   "execution_count": 223,
   "metadata": {
    "collapsed": false
   },
   "outputs": [
    {
     "data": {
      "text/plain": [
       "u'Marly from namelymarly.com shares tips, interviews, and recipes for anyone interested in living a creative, healthy, and passion-filled life. Learn about healthy lifestyles and delicious vegan recipes.'"
      ]
     },
     "execution_count": 223,
     "metadata": {},
     "output_type": "execute_result"
    }
   ],
   "source": [
    "soup.p.string"
   ]
  },
  {
   "cell_type": "code",
   "execution_count": 14,
   "metadata": {
    "collapsed": false
   },
   "outputs": [
    {
     "data": {
      "text/plain": [
       "['268213039',\n",
       " '73329771',\n",
       " '294055449',\n",
       " '73330715',\n",
       " '216713308',\n",
       " '155974141',\n",
       " '124960485',\n",
       " '258723953',\n",
       " '278974813',\n",
       " '98746009']"
      ]
     },
     "execution_count": 14,
     "metadata": {},
     "output_type": "execute_result"
    }
   ],
   "source": [
    "also_subcribed_ids = re.findall(r'adam-id=\"(\\d+)\" aria-label=', t.contents)"
   ]
  },
  {
   "cell_type": "code",
   "execution_count": 20,
   "metadata": {
    "collapsed": false
   },
   "outputs": [
    {
     "data": {
      "text/plain": [
       "False"
      ]
     },
     "execution_count": 20,
     "metadata": {},
     "output_type": "execute_result"
    }
   ],
   "source": [
    "date_thresh = pd.to_datetime('Dec 7 2015')\n",
    "release_dates = re.findall(r'release-date=\"([\\w\\s]+)\"', t.contents)\n",
    "latest_date = pd.to_datetime(release_dates[0])\n",
    "latest_date < date_thresh"
   ]
  },
  {
   "cell_type": "code",
   "execution_count": 35,
   "metadata": {
    "collapsed": false
   },
   "outputs": [
    {
     "data": {
      "text/plain": [
       "['Slate Magazine']"
      ]
     },
     "execution_count": 35,
     "metadata": {},
     "output_type": "execute_result"
    }
   ],
   "source": [
    "artist = re.findall(r'More from ([\\w ]+)', t.contents)\n",
    "artist = list(set(artist))"
   ]
  },
  {
   "cell_type": "code",
   "execution_count": null,
   "metadata": {
    "collapsed": true
   },
   "outputs": [],
   "source": [
    "# test for latest episode date \n",
    "# check that most recent episode within 45 days\n",
    "latestDate = pd.to_datetime(release_dates[0])\n",
    "dateThresh = pd.to_datetime('Dec 7 2015')\n",
    "if latestDate < dateThresh:\n",
    "    active_feed.append(False)\n",
    "    itunes_keywords.append(False)\n",
    "    itunes_categories.append(False)\n",
    "    itunes_description.append(False)\n",
    "    itunes_subtitles.append(False)\n",
    "    itunes_summaries.append(False)\n",
    "else:\n",
    "    active_feed.append(True)"
   ]
  }
 ],
 "metadata": {
  "kernelspec": {
   "display_name": "Python 2",
   "language": "python",
   "name": "python2"
  },
  "language_info": {
   "codemirror_mode": {
    "name": "ipython",
    "version": 2
   },
   "file_extension": ".py",
   "mimetype": "text/x-python",
   "name": "python",
   "nbconvert_exporter": "python",
   "pygments_lexer": "ipython2",
   "version": "2.7.10"
  }
 },
 "nbformat": 4,
 "nbformat_minor": 0
}
