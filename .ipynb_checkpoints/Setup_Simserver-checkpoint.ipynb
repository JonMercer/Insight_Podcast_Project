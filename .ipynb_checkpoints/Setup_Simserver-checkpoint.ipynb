{
 "cells": [
  {
   "cell_type": "code",
   "execution_count": 1,
   "metadata": {
    "collapsed": true
   },
   "outputs": [],
   "source": [
    "from gensim import utils, corpora, models, similarities\n",
    "from simserver import SessionServer\n",
    "import pandas as pd\n",
    "\n",
    "import logging\n",
    "logging.basicConfig(format='%(asctime)s : %(levelname)s : %(message)s', level=logging.INFO)"
   ]
  },
  {
   "cell_type": "code",
   "execution_count": 2,
   "metadata": {
    "collapsed": true
   },
   "outputs": [],
   "source": [
    "server = SessionServer('/Users/lindsay/Documents/Data Science/Insight/Project/simserver')"
   ]
  },
  {
   "cell_type": "code",
   "execution_count": 3,
   "metadata": {
    "collapsed": false
   },
   "outputs": [
    {
     "name": "stdout",
     "output_type": "stream",
     "text": [
      "MmCorpus(5804 documents, 51857 features, 4368165 non-zero entries)\n"
     ]
    }
   ],
   "source": [
    "# load the current corpus\n",
    "local_corpus = corpora.MmCorpus('gensim/corpus_tfidf.mm')\n",
    "print(local_corpus)"
   ]
  },
  {
   "cell_type": "code",
   "execution_count": 4,
   "metadata": {
    "collapsed": true
   },
   "outputs": [],
   "source": [
    "# load pre-processed text\n",
    "preproc_text = pd.read_pickle('gensim/preprocessed_text_v2.pkl')"
   ]
  },
  {
   "cell_type": "code",
   "execution_count": 5,
   "metadata": {
    "collapsed": false
   },
   "outputs": [],
   "source": [
    "corpus = [{'id' : int(x['id']),\n",
    "           'tokens' : x['text']}\n",
    "         for ind, x in preproc_text.iterrows()]"
   ]
  },
  {
   "cell_type": "code",
   "execution_count": 6,
   "metadata": {
    "collapsed": false
   },
   "outputs": [],
   "source": [
    "# upload corpus to server\n",
    "utils.upload_chunked(server, corpus, chunksize=1000)"
   ]
  },
  {
   "cell_type": "code",
   "execution_count": 7,
   "metadata": {
    "collapsed": false
   },
   "outputs": [
    {
     "name": "stderr",
     "output_type": "stream",
     "text": [
      "ERROR:sqlitedict:failed to delete /var/folders/hg/kw83c_j57xqd055hr739mhvm0000gn/T/sqldict76d91f\n",
      "Traceback (most recent call last):\n",
      "  File \"//anaconda/lib/python2.7/site-packages/sqlitedict.py\", line 283, in terminate\n",
      "    os.remove(self.filename)\n",
      "OSError: [Errno 2] No such file or directory: '/var/folders/hg/kw83c_j57xqd055hr739mhvm0000gn/T/sqldict76d91f'\n",
      "ERROR:sqlitedict:failed to delete /var/folders/hg/kw83c_j57xqd055hr739mhvm0000gn/T/sqldict7e2bc8\n",
      "Traceback (most recent call last):\n",
      "  File \"//anaconda/lib/python2.7/site-packages/sqlitedict.py\", line 283, in terminate\n",
      "    os.remove(self.filename)\n",
      "OSError: [Errno 2] No such file or directory: '/var/folders/hg/kw83c_j57xqd055hr739mhvm0000gn/T/sqldict7e2bc8'\n",
      "ERROR:sqlitedict:failed to delete /var/folders/hg/kw83c_j57xqd055hr739mhvm0000gn/T/sqldict366a8d\n",
      "Traceback (most recent call last):\n",
      "  File \"//anaconda/lib/python2.7/site-packages/sqlitedict.py\", line 283, in terminate\n",
      "    os.remove(self.filename)\n",
      "OSError: [Errno 2] No such file or directory: '/var/folders/hg/kw83c_j57xqd055hr739mhvm0000gn/T/sqldict366a8d'\n"
     ]
    }
   ],
   "source": [
    "# train server (uses LSI and default dimensionality of 400 over a TF-IDF representation)\n",
    "server.train(corpus, method='lsi')"
   ]
  },
  {
   "cell_type": "code",
   "execution_count": 8,
   "metadata": {
    "collapsed": false
   },
   "outputs": [
    {
     "name": "stderr",
     "output_type": "stream",
     "text": [
      "ERROR:sqlitedict:failed to delete /var/folders/hg/kw83c_j57xqd055hr739mhvm0000gn/T/sqldict92d516\n",
      "Traceback (most recent call last):\n",
      "  File \"//anaconda/lib/python2.7/site-packages/sqlitedict.py\", line 283, in terminate\n",
      "    os.remove(self.filename)\n",
      "OSError: [Errno 2] No such file or directory: '/var/folders/hg/kw83c_j57xqd055hr739mhvm0000gn/T/sqldict92d516'\n",
      "ERROR:sqlitedict:failed to delete /var/folders/hg/kw83c_j57xqd055hr739mhvm0000gn/T/sqldictb087e8\n",
      "Traceback (most recent call last):\n",
      "  File \"//anaconda/lib/python2.7/site-packages/sqlitedict.py\", line 283, in terminate\n",
      "    os.remove(self.filename)\n",
      "OSError: [Errno 2] No such file or directory: '/var/folders/hg/kw83c_j57xqd055hr739mhvm0000gn/T/sqldictb087e8'\n",
      "ERROR:sqlitedict:failed to delete /var/folders/hg/kw83c_j57xqd055hr739mhvm0000gn/T/sqldictd0298d\n",
      "Traceback (most recent call last):\n",
      "  File \"//anaconda/lib/python2.7/site-packages/sqlitedict.py\", line 283, in terminate\n",
      "    os.remove(self.filename)\n",
      "OSError: [Errno 2] No such file or directory: '/var/folders/hg/kw83c_j57xqd055hr739mhvm0000gn/T/sqldictd0298d'\n"
     ]
    }
   ],
   "source": [
    "# index documents we trained on\n",
    "server.index(corpus)"
   ]
  },
  {
   "cell_type": "code",
   "execution_count": 15,
   "metadata": {
    "collapsed": false
   },
   "outputs": [],
   "source": [
    "# query for similar documents\n",
    "sim_result = server.find_similar('18183', max_results=100)"
   ]
  },
  {
   "cell_type": "code",
   "execution_count": 26,
   "metadata": {
    "collapsed": false
   },
   "outputs": [
    {
     "data": {
      "text/plain": [
       "[('18183', 0.9643458127975464, None),\n",
       " ('12691', 0.9349740743637085, None),\n",
       " ('16392', 0.8801846504211426, None),\n",
       " ('18414', 0.8541254997253418, None),\n",
       " ('17351', 0.8292737007141113, None),\n",
       " ('15734', 0.820961594581604, None),\n",
       " ('18412', 0.778027355670929, None),\n",
       " ('13911', 0.761350154876709, None),\n",
       " ('14913', 0.7594928741455078, None),\n",
       " ('18413', 0.7543889880180359, None),\n",
       " ('14625', 0.753095269203186, None),\n",
       " ('16449', 0.7153584957122803, None),\n",
       " ('16766', 0.6918432116508484, None),\n",
       " ('16789', 0.6909932494163513, None),\n",
       " ('12600', 0.6831110119819641, None),\n",
       " ('17528', 0.6799274682998657, None),\n",
       " ('17246', 0.6555585861206055, None),\n",
       " ('13309', 0.6014439463615417, None),\n",
       " ('15052', 0.5402518510818481, None),\n",
       " ('17787', 0.5177507996559143, None),\n",
       " ('17778', 0.48597252368927, None),\n",
       " ('12897', 0.4845631420612335, None),\n",
       " ('14891', 0.47384870052337646, None),\n",
       " ('18257', 0.4428785741329193, None),\n",
       " ('13440', 0.44049760699272156, None),\n",
       " ('17949', 0.38341179490089417, None),\n",
       " ('12534', 0.3824380040168762, None),\n",
       " ('16775', 0.37778881192207336, None),\n",
       " ('17839', 0.3701791763305664, None),\n",
       " ('16709', 0.36594536900520325, None),\n",
       " ('18298', 0.35826507210731506, None),\n",
       " ('16011', 0.3468535840511322, None),\n",
       " ('16393', 0.34034231305122375, None),\n",
       " ('15931', 0.3175908029079437, None),\n",
       " ('16395', 0.3083428740501404, None),\n",
       " ('17877', 0.30315083265304565, None),\n",
       " ('15760', 0.29798126220703125, None),\n",
       " ('14062', 0.2965705096721649, None),\n",
       " ('17497', 0.26913365721702576, None),\n",
       " ('16047', 0.2674185037612915, None),\n",
       " ('12681', 0.2645711898803711, None),\n",
       " ('14153', 0.2584340572357178, None),\n",
       " ('17106', 0.24424299597740173, None),\n",
       " ('17371', 0.24080753326416016, None),\n",
       " ('16805', 0.24043753743171692, None),\n",
       " ('18351', 0.23408755660057068, None),\n",
       " ('15944', 0.23336653411388397, None),\n",
       " ('14498', 0.23189197480678558, None),\n",
       " ('17985', 0.2300945520401001, None),\n",
       " ('17566', 0.22769418358802795, None),\n",
       " ('14644', 0.22284039855003357, None),\n",
       " ('13178', 0.2124485820531845, None),\n",
       " ('17447', 0.21105530858039856, None),\n",
       " ('15957', 0.20828883349895477, None),\n",
       " ('17774', 0.19207720458507538, None),\n",
       " ('17765', 0.1904023140668869, None),\n",
       " ('18151', 0.1623397171497345, None),\n",
       " ('13791', 0.16208860278129578, None),\n",
       " ('12717', 0.159786194562912, None),\n",
       " ('15663', 0.15823879837989807, None),\n",
       " ('15603', 0.15233126282691956, None),\n",
       " ('16441', 0.15109479427337646, None),\n",
       " ('13674', 0.14668497443199158, None),\n",
       " ('15664', 0.14574803411960602, None),\n",
       " ('18254', 0.1306219846010208, None),\n",
       " ('12912', 0.13051027059555054, None),\n",
       " ('16620', 0.12417936325073242, None),\n",
       " ('14154', 0.12270446866750717, None),\n",
       " ('17443', 0.12236615270376205, None),\n",
       " ('17144', 0.12097771465778351, None),\n",
       " ('18012', 0.11915555596351624, None),\n",
       " ('13160', 0.11749286949634552, None),\n",
       " ('16000', 0.11707071214914322, None),\n",
       " ('17441', 0.11581498384475708, None),\n",
       " ('13190', 0.11236097663640976, None),\n",
       " ('15963', 0.1102011650800705, None),\n",
       " ('15114', 0.11019439250230789, None),\n",
       " ('17174', 0.10857146978378296, None),\n",
       " ('14172', 0.10848603397607803, None),\n",
       " ('16900', 0.10831401497125626, None),\n",
       " ('12881', 0.10824618488550186, None),\n",
       " ('12632', 0.106160469353199, None),\n",
       " ('18152', 0.10588600486516953, None),\n",
       " ('16195', 0.10523267090320587, None),\n",
       " ('15269', 0.10496105253696442, None),\n",
       " ('13463', 0.10163083672523499, None),\n",
       " ('15778', 0.1012815535068512, None),\n",
       " ('13999', 0.09829362481832504, None),\n",
       " ('17453', 0.09824632853269577, None),\n",
       " ('18023', 0.09682776033878326, None),\n",
       " ('14705', 0.09567633271217346, None),\n",
       " ('14602', 0.09563557058572769, None),\n",
       " ('12404', 0.0953599065542221, None),\n",
       " ('16673', 0.0949450433254242, None),\n",
       " ('12697', 0.09486272186040878, None),\n",
       " ('13068', 0.09407109022140503, None),\n",
       " ('18401', 0.09335380792617798, None),\n",
       " ('15447', 0.09279842674732208, None),\n",
       " ('16355', 0.0919819101691246, None),\n",
       " ('15347', 0.09193902462720871, None)]"
      ]
     },
     "execution_count": 26,
     "metadata": {},
     "output_type": "execute_result"
    }
   ],
   "source": [
    "# query for text not in corpus\n",
    "# for this to work, need to create a pre-processing function that\n",
    "# matches the pre-processing that occurs for the corpus\n",
    "doc = {'tokens': [unicode('wrestl')]}\n",
    "server.find_similar(doc)"
   ]
  },
  {
   "cell_type": "code",
   "execution_count": null,
   "metadata": {
    "collapsed": true
   },
   "outputs": [],
   "source": []
  }
 ],
 "metadata": {
  "kernelspec": {
   "display_name": "Python 2",
   "language": "python",
   "name": "python2"
  },
  "language_info": {
   "codemirror_mode": {
    "name": "ipython",
    "version": 2
   },
   "file_extension": ".py",
   "mimetype": "text/x-python",
   "name": "python",
   "nbconvert_exporter": "python",
   "pygments_lexer": "ipython2",
   "version": "2.7.10"
  }
 },
 "nbformat": 4,
 "nbformat_minor": 0
}
