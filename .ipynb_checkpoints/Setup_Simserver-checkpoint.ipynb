{
 "cells": [
  {
   "cell_type": "code",
   "execution_count": 1,
   "metadata": {
    "collapsed": true
   },
   "outputs": [],
   "source": [
    "from gensim import utils, corpora, models, similarities\n",
    "from simserver import SessionServer\n",
    "import pandas as pd\n",
    "\n",
    "import logging\n",
    "logging.basicConfig(format='%(asctime)s : %(levelname)s : %(message)s', level=logging.INFO)"
   ]
  },
  {
   "cell_type": "code",
   "execution_count": 2,
   "metadata": {
    "collapsed": true
   },
   "outputs": [],
   "source": [
    "server = SessionServer('/Users/lindsay/Documents/Data Science/Insight/Project/simserver')"
   ]
  },
  {
   "cell_type": "code",
   "execution_count": 3,
   "metadata": {
    "collapsed": false
   },
   "outputs": [
    {
     "name": "stdout",
     "output_type": "stream",
     "text": [
      "MmCorpus(5804 documents, 51857 features, 4368165 non-zero entries)\n"
     ]
    }
   ],
   "source": [
    "# load the current corpus\n",
    "local_corpus = corpora.MmCorpus('gensim/corpus_tfidf.mm')\n",
    "print(local_corpus)"
   ]
  },
  {
   "cell_type": "code",
   "execution_count": 4,
   "metadata": {
    "collapsed": true
   },
   "outputs": [],
   "source": [
    "# load pre-processed text\n",
    "preproc_text = pd.read_pickle('gensim/preprocessed_text_v2.pkl')"
   ]
  },
  {
   "cell_type": "code",
   "execution_count": 5,
   "metadata": {
    "collapsed": false
   },
   "outputs": [],
   "source": [
    "corpus = [{'id' : int(x['id']),\n",
    "           'tokens' : x['text']}\n",
    "         for ind, x in preproc_text.iterrows()]"
   ]
  },
  {
   "cell_type": "code",
   "execution_count": 6,
   "metadata": {
    "collapsed": false
   },
   "outputs": [],
   "source": [
    "# upload corpus to server\n",
    "utils.upload_chunked(server, corpus, chunksize=1000)"
   ]
  },
  {
   "cell_type": "code",
   "execution_count": 7,
   "metadata": {
    "collapsed": false
   },
   "outputs": [
    {
     "name": "stderr",
     "output_type": "stream",
     "text": [
      "ERROR:sqlitedict:failed to delete /var/folders/hg/kw83c_j57xqd055hr739mhvm0000gn/T/sqldict76d91f\n",
      "Traceback (most recent call last):\n",
      "  File \"//anaconda/lib/python2.7/site-packages/sqlitedict.py\", line 283, in terminate\n",
      "    os.remove(self.filename)\n",
      "OSError: [Errno 2] No such file or directory: '/var/folders/hg/kw83c_j57xqd055hr739mhvm0000gn/T/sqldict76d91f'\n",
      "ERROR:sqlitedict:failed to delete /var/folders/hg/kw83c_j57xqd055hr739mhvm0000gn/T/sqldict7e2bc8\n",
      "Traceback (most recent call last):\n",
      "  File \"//anaconda/lib/python2.7/site-packages/sqlitedict.py\", line 283, in terminate\n",
      "    os.remove(self.filename)\n",
      "OSError: [Errno 2] No such file or directory: '/var/folders/hg/kw83c_j57xqd055hr739mhvm0000gn/T/sqldict7e2bc8'\n",
      "ERROR:sqlitedict:failed to delete /var/folders/hg/kw83c_j57xqd055hr739mhvm0000gn/T/sqldict366a8d\n",
      "Traceback (most recent call last):\n",
      "  File \"//anaconda/lib/python2.7/site-packages/sqlitedict.py\", line 283, in terminate\n",
      "    os.remove(self.filename)\n",
      "OSError: [Errno 2] No such file or directory: '/var/folders/hg/kw83c_j57xqd055hr739mhvm0000gn/T/sqldict366a8d'\n"
     ]
    }
   ],
   "source": [
    "# train server (uses LSI and default dimensionality of 400 over a TF-IDF representation)\n",
    "server.train(corpus, method='lsi')"
   ]
  },
  {
   "cell_type": "code",
   "execution_count": 8,
   "metadata": {
    "collapsed": false
   },
   "outputs": [
    {
     "name": "stderr",
     "output_type": "stream",
     "text": [
      "ERROR:sqlitedict:failed to delete /var/folders/hg/kw83c_j57xqd055hr739mhvm0000gn/T/sqldict92d516\n",
      "Traceback (most recent call last):\n",
      "  File \"//anaconda/lib/python2.7/site-packages/sqlitedict.py\", line 283, in terminate\n",
      "    os.remove(self.filename)\n",
      "OSError: [Errno 2] No such file or directory: '/var/folders/hg/kw83c_j57xqd055hr739mhvm0000gn/T/sqldict92d516'\n",
      "ERROR:sqlitedict:failed to delete /var/folders/hg/kw83c_j57xqd055hr739mhvm0000gn/T/sqldictb087e8\n",
      "Traceback (most recent call last):\n",
      "  File \"//anaconda/lib/python2.7/site-packages/sqlitedict.py\", line 283, in terminate\n",
      "    os.remove(self.filename)\n",
      "OSError: [Errno 2] No such file or directory: '/var/folders/hg/kw83c_j57xqd055hr739mhvm0000gn/T/sqldictb087e8'\n",
      "ERROR:sqlitedict:failed to delete /var/folders/hg/kw83c_j57xqd055hr739mhvm0000gn/T/sqldictd0298d\n",
      "Traceback (most recent call last):\n",
      "  File \"//anaconda/lib/python2.7/site-packages/sqlitedict.py\", line 283, in terminate\n",
      "    os.remove(self.filename)\n",
      "OSError: [Errno 2] No such file or directory: '/var/folders/hg/kw83c_j57xqd055hr739mhvm0000gn/T/sqldictd0298d'\n"
     ]
    }
   ],
   "source": [
    "# index documents we trained on\n",
    "server.index(corpus)"
   ]
  },
  {
   "cell_type": "code",
   "execution_count": 15,
   "metadata": {
    "collapsed": false
   },
   "outputs": [],
   "source": [
    "# query for similar documents\n",
    "sim_result = server.find_similar('18183', max_results=100)"
   ]
  },
  {
   "cell_type": "code",
   "execution_count": 29,
   "metadata": {
    "collapsed": false
   },
   "outputs": [
    {
     "data": {
      "text/plain": [
       "[('15793', 0.857060432434082, None),\n",
       " ('13491', 0.6858515739440918, None),\n",
       " ('13050', 0.6169618368148804, None),\n",
       " ('13183', 0.5108060836791992, None),\n",
       " ('15341', 0.4837529957294464, None),\n",
       " ('16381', 0.4395701587200165, None),\n",
       " ('12616', 0.41059449315071106, None),\n",
       " ('12602', 0.40259575843811035, None),\n",
       " ('18220', 0.38685864210128784, None),\n",
       " ('14901', 0.3723154067993164, None),\n",
       " ('15819', 0.3710566461086273, None),\n",
       " ('13834', 0.3634548783302307, None),\n",
       " ('12776', 0.36324232816696167, None),\n",
       " ('14564', 0.3558576703071594, None),\n",
       " ('16331', 0.3484804034233093, None),\n",
       " ('13995', 0.3401329219341278, None),\n",
       " ('17933', 0.3363243341445923, None),\n",
       " ('12601', 0.33431631326675415, None),\n",
       " ('15359', 0.3321514427661896, None),\n",
       " ('16544', 0.3264736533164978, None),\n",
       " ('15917', 0.3119890093803406, None),\n",
       " ('16538', 0.3103247582912445, None),\n",
       " ('18500', 0.3075134754180908, None),\n",
       " ('14240', 0.3072952926158905, None),\n",
       " ('18331', 0.30717140436172485, None),\n",
       " ('12910', 0.3029046654701233, None),\n",
       " ('16088', 0.2997643053531647, None),\n",
       " ('12875', 0.2941897511482239, None),\n",
       " ('15702', 0.28377634286880493, None),\n",
       " ('14396', 0.28192049264907837, None),\n",
       " ('15555', 0.2810629904270172, None),\n",
       " ('14452', 0.2781674861907959, None),\n",
       " ('12552', 0.27428513765335083, None),\n",
       " ('17013', 0.2699085474014282, None),\n",
       " ('12871', 0.26829761266708374, None),\n",
       " ('16170', 0.26659703254699707, None),\n",
       " ('12502', 0.26647964119911194, None),\n",
       " ('14477', 0.2644449472427368, None),\n",
       " ('18390', 0.263759970664978, None),\n",
       " ('16282', 0.2630503177642822, None),\n",
       " ('17421', 0.256900429725647, None),\n",
       " ('14657', 0.2549014389514923, None),\n",
       " ('17255', 0.25447168946266174, None),\n",
       " ('13600', 0.25104978680610657, None),\n",
       " ('16999', 0.25031909346580505, None),\n",
       " ('13835', 0.2498980611562729, None),\n",
       " ('16064', 0.24966874718666077, None),\n",
       " ('16422', 0.24962422251701355, None),\n",
       " ('14493', 0.2466968297958374, None),\n",
       " ('15250', 0.24185097217559814, None),\n",
       " ('17637', 0.2399439513683319, None),\n",
       " ('14475', 0.2384355068206787, None),\n",
       " ('16021', 0.23741312325000763, None),\n",
       " ('15065', 0.236993670463562, None),\n",
       " ('18482', 0.23378291726112366, None),\n",
       " ('14133', 0.23295289278030396, None),\n",
       " ('18207', 0.2327481508255005, None),\n",
       " ('17142', 0.23230738937854767, None),\n",
       " ('13492', 0.23172226548194885, None),\n",
       " ('14502', 0.22869108617305756, None),\n",
       " ('16986', 0.22516486048698425, None),\n",
       " ('14491', 0.2249917834997177, None),\n",
       " ('15421', 0.22111114859580994, None),\n",
       " ('15981', 0.21808508038520813, None),\n",
       " ('13836', 0.21756446361541748, None),\n",
       " ('17811', 0.2172555923461914, None),\n",
       " ('18395', 0.21471115946769714, None),\n",
       " ('14234', 0.21436350047588348, None),\n",
       " ('16736', 0.21360205113887787, None),\n",
       " ('15963', 0.2124776840209961, None),\n",
       " ('12490', 0.21132494509220123, None),\n",
       " ('15895', 0.20914238691329956, None),\n",
       " ('16648', 0.2090529054403305, None),\n",
       " ('17098', 0.206807941198349, None),\n",
       " ('16575', 0.206624835729599, None),\n",
       " ('16835', 0.20564238727092743, None),\n",
       " ('18450', 0.20376360416412354, None),\n",
       " ('16013', 0.20113177597522736, None),\n",
       " ('16392', 0.2008225917816162, None),\n",
       " ('17749', 0.19730041921138763, None),\n",
       " ('17055', 0.196999654173851, None),\n",
       " ('13781', 0.1966056525707245, None),\n",
       " ('16200', 0.1942138820886612, None),\n",
       " ('16588', 0.19323976337909698, None),\n",
       " ('16010', 0.1918635070323944, None),\n",
       " ('16574', 0.19169001281261444, None),\n",
       " ('17428', 0.19167977571487427, None),\n",
       " ('15335', 0.19120056927204132, None),\n",
       " ('16166', 0.1909874677658081, None),\n",
       " ('15147', 0.18862465023994446, None),\n",
       " ('12371', 0.18548466265201569, None),\n",
       " ('14305', 0.18533864617347717, None),\n",
       " ('17710', 0.1847383826971054, None),\n",
       " ('15887', 0.18288205564022064, None),\n",
       " ('15095', 0.18168959021568298, None),\n",
       " ('12356', 0.18144358694553375, None),\n",
       " ('18233', 0.1783481240272522, None),\n",
       " ('13778', 0.17717686295509338, None),\n",
       " ('14892', 0.17514650523662567, None),\n",
       " ('17943', 0.17395751178264618, None)]"
      ]
     },
     "execution_count": 29,
     "metadata": {},
     "output_type": "execute_result"
    }
   ],
   "source": [
    "# query for text not in corpus\n",
    "import preprocess_text\n",
    "doc = {'tokens': preprocess_text.preprocess_text('cats and recipes and politics')}\n",
    "server.find_similar(doc)"
   ]
  },
  {
   "cell_type": "code",
   "execution_count": null,
   "metadata": {
    "collapsed": true
   },
   "outputs": [],
   "source": []
  }
 ],
 "metadata": {
  "kernelspec": {
   "display_name": "Python 2",
   "language": "python",
   "name": "python2"
  },
  "language_info": {
   "codemirror_mode": {
    "name": "ipython",
    "version": 2
   },
   "file_extension": ".py",
   "mimetype": "text/x-python",
   "name": "python",
   "nbconvert_exporter": "python",
   "pygments_lexer": "ipython2",
   "version": "2.7.10"
  }
 },
 "nbformat": 4,
 "nbformat_minor": 0
}
