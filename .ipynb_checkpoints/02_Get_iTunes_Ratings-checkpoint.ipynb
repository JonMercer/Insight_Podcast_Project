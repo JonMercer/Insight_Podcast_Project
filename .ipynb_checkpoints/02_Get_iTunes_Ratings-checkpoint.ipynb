{
 "cells": [
  {
   "cell_type": "code",
   "execution_count": 30,
   "metadata": {
    "collapsed": true
   },
   "outputs": [],
   "source": [
    "import pandas as pd\n",
    "import numpy as np\n",
    "import urllib2\n",
    "import re\n",
    "import requests\n",
    "import json\n",
    "from BeautifulSoup import BeautifulSoup"
   ]
  },
  {
   "cell_type": "code",
   "execution_count": 3,
   "metadata": {
    "collapsed": false
   },
   "outputs": [],
   "source": [
    "podcastDf = pd.read_pickle('pkl/english_podcasts.pkl')"
   ]
  },
  {
   "cell_type": "code",
   "execution_count": 41,
   "metadata": {
    "collapsed": true
   },
   "outputs": [],
   "source": [
    "# small sample for testing\n",
    "podcastTest = podcastDf.sample(n = 20)"
   ]
  },
  {
   "cell_type": "code",
   "execution_count": 12,
   "metadata": {
    "collapsed": true
   },
   "outputs": [],
   "source": [
    "itunesUrl = 'https://itunes.apple.com/search?'\n",
    "parameters = {}\n",
    "parameters['entity'] = 'podcast'\n",
    "parameters['attribute'] = 'titleTerm'\n",
    "\n",
    "requestString = ''\n",
    "for param in parameters:\n",
    "    paramString = param + '=' + parameters[param]\n",
    "    if len(requestString) == 0:\n",
    "        requestString = paramString\n",
    "    else:\n",
    "        requestString = requestString + '&' + paramString"
   ]
  },
  {
   "cell_type": "code",
   "execution_count": 25,
   "metadata": {
    "collapsed": false
   },
   "outputs": [],
   "source": [
    "def convert_unicode(input):\n",
    "    if isinstance(input, dict):\n",
    "        return {convert_unicode(key): convert_unicode(value) for key, value in input.iteritems()}\n",
    "    elif isinstance(input, list):\n",
    "        return [convert_unicode(element) for element in input]\n",
    "    elif isinstance(input, unicode):\n",
    "        return input.encode('utf-8')\n",
    "    else:\n",
    "        return input"
   ]
  },
  {
   "cell_type": "code",
   "execution_count": null,
   "metadata": {
    "collapsed": false
   },
   "outputs": [],
   "source": [
    "itunes_collection_id = []\n",
    "mean_rating = []\n",
    "num_ratings = []\n",
    "\n",
    "scrapeStem = 'https://itunes.apple.com/us/podcast/id'\n",
    "\n",
    "for ind, row in podcastDf.iterrows():\n",
    "    # itunes search request\n",
    "    requestUrl = itunesUrl + requestString + '&term=' + urllib2.quote(row['name'])\n",
    "    r = requests.get(requestUrl)\n",
    "    data = r.json()\n",
    "    data = data['results']\n",
    "    \n",
    "    # skip if no matches or >1 match\n",
    "    if len(data) != 1:\n",
    "        itunes_collection_id.append(np.nan)\n",
    "        mean_rating.append(np.nan)\n",
    "        num_ratings.append(np.nan)\n",
    "        continue\n",
    "    \n",
    "    # scrape itunes page for ratings\n",
    "    data = data[0]\n",
    "    data = convert_unicode(data)\n",
    "    itunes_collection_id.append(data['collectionId'])\n",
    "    scrapeUrl = scrapeStem + str(data['collectionId'])\n",
    "    soup = BeautifulSoup(urllib2.urlopen(scrapeUrl).read())\n",
    "    thisMean = convert_unicode(re.findall(r'Customer Ratings(\\d\\.\\d+)', soup.text))\n",
    "    thisTotal = convert_unicode(re.findall(r'&nbsp;(\\d+) Ratings', soup.text))\n",
    "    mean_rating.append(thisMean)\n",
    "    num_ratings.append(thisTotal)"
   ]
  },
  {
   "cell_type": "markdown",
   "metadata": {},
   "source": [
    "started above at 4:59 pm on Weds"
   ]
  }
 ],
 "metadata": {
  "kernelspec": {
   "display_name": "Python 2",
   "language": "python",
   "name": "python2"
  },
  "language_info": {
   "codemirror_mode": {
    "name": "ipython",
    "version": 2
   },
   "file_extension": ".py",
   "mimetype": "text/x-python",
   "name": "python",
   "nbconvert_exporter": "python",
   "pygments_lexer": "ipython2",
   "version": "2.7.10"
  }
 },
 "nbformat": 4,
 "nbformat_minor": 0
}
