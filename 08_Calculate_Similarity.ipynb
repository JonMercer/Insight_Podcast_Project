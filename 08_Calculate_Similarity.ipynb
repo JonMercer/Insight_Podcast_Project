{
 "cells": [
  {
   "cell_type": "code",
   "execution_count": 1,
   "metadata": {
    "collapsed": true
   },
   "outputs": [],
   "source": [
    "from gensim import corpora, models, similarities\n",
    "import pandas as pd\n",
    "import tqdm\n",
    "import logging\n",
    "\n",
    "logging.basicConfig(format='%(asctime)s : %(levelname)s : %(message)s', level=logging.INFO)"
   ]
  },
  {
   "cell_type": "code",
   "execution_count": 71,
   "metadata": {
    "collapsed": true
   },
   "outputs": [],
   "source": [
    "# load gensim output\n",
    "dictionary = corpora.Dictionary.load('gensim/dictionary.dict')\n",
    "corpus = corpora.MmCorpus('gensim/corpus_tfidf.mm')\n",
    "lsi = models.LsiModel.load('gensim/model.lsi')\n",
    "index = similarities.MatrixSimilarity.load('gensim/tfidf_lsi_similarities.index')"
   ]
  },
  {
   "cell_type": "code",
   "execution_count": 15,
   "metadata": {
    "collapsed": false
   },
   "outputs": [
    {
     "data": {
      "text/plain": [
       "(5804, 3)"
      ]
     },
     "execution_count": 15,
     "metadata": {},
     "output_type": "execute_result"
    }
   ],
   "source": [
    "# load podcast data\n",
    "podcast_data = pd.read_pickle('gensim/preprocessed_text_v2.pkl')\n",
    "podcast_data.shape"
   ]
  },
  {
   "cell_type": "code",
   "execution_count": 16,
   "metadata": {
    "collapsed": false
   },
   "outputs": [
    {
     "data": {
      "text/html": [
       "<div>\n",
       "<table border=\"1\" class=\"dataframe\">\n",
       "  <thead>\n",
       "    <tr style=\"text-align: right;\">\n",
       "      <th></th>\n",
       "      <th>id</th>\n",
       "      <th>language</th>\n",
       "      <th>text</th>\n",
       "    </tr>\n",
       "  </thead>\n",
       "  <tbody>\n",
       "    <tr>\n",
       "      <th>0</th>\n",
       "      <td>16392</td>\n",
       "      <td>English</td>\n",
       "      <td>[host, review, favorit, favorit, classic, pro,...</td>\n",
       "    </tr>\n",
       "    <tr>\n",
       "      <th>1</th>\n",
       "      <td>18489</td>\n",
       "      <td>English</td>\n",
       "      <td>[everyon, need, hope, everyon, need, encourag,...</td>\n",
       "    </tr>\n",
       "    <tr>\n",
       "      <th>2</th>\n",
       "      <td>12350</td>\n",
       "      <td>English</td>\n",
       "      <td>[insur, news, interview, rate, announc, insur,...</td>\n",
       "    </tr>\n",
       "    <tr>\n",
       "      <th>3</th>\n",
       "      <td>12351</td>\n",
       "      <td>English</td>\n",
       "      <td>[amovetv, crew, talk, video, game, esport, lot...</td>\n",
       "    </tr>\n",
       "    <tr>\n",
       "      <th>4</th>\n",
       "      <td>12352</td>\n",
       "      <td>English</td>\n",
       "      <td>[pastor, greg, lauri, thirtyminut, daili, radi...</td>\n",
       "    </tr>\n",
       "  </tbody>\n",
       "</table>\n",
       "</div>"
      ],
      "text/plain": [
       "      id language                                               text\n",
       "0  16392  English  [host, review, favorit, favorit, classic, pro,...\n",
       "1  18489  English  [everyon, need, hope, everyon, need, encourag,...\n",
       "2  12350  English  [insur, news, interview, rate, announc, insur,...\n",
       "3  12351  English  [amovetv, crew, talk, video, game, esport, lot...\n",
       "4  12352  English  [pastor, greg, lauri, thirtyminut, daili, radi..."
      ]
     },
     "execution_count": 16,
     "metadata": {},
     "output_type": "execute_result"
    }
   ],
   "source": [
    "podcast_data = podcast_data.reset_index()\n",
    "del(podcast_data['index'])\n",
    "podcast_data.head()"
   ]
  },
  {
   "cell_type": "code",
   "execution_count": 34,
   "metadata": {
    "collapsed": false
   },
   "outputs": [],
   "source": [
    "podcast_data.to_pickle('gensim/preprocessed_text_v3.pkl')"
   ]
  },
  {
   "cell_type": "code",
   "execution_count": 39,
   "metadata": {
    "collapsed": true
   },
   "outputs": [],
   "source": [
    "podcast_ids = podcast_data.copy(deep=True)\n",
    "del(podcast_ids['language'])\n",
    "del(podcast_ids['text'])\n"
   ]
  },
  {
   "cell_type": "code",
   "execution_count": 50,
   "metadata": {
    "collapsed": false
   },
   "outputs": [],
   "source": [
    "podcast_ids.to_pickle('gensim/podcast_id_to_gensim_id.pkl')"
   ]
  },
  {
   "cell_type": "code",
   "execution_count": 52,
   "metadata": {
    "collapsed": true
   },
   "outputs": [],
   "source": [
    "podcast_ids = pd.read_pickle('gensim/podcast_id_to_gensim_id.pkl')"
   ]
  },
  {
   "cell_type": "code",
   "execution_count": 53,
   "metadata": {
    "collapsed": false
   },
   "outputs": [
    {
     "data": {
      "text/html": [
       "<div>\n",
       "<table border=\"1\" class=\"dataframe\">\n",
       "  <thead>\n",
       "    <tr style=\"text-align: right;\">\n",
       "      <th></th>\n",
       "      <th>podcast_id</th>\n",
       "    </tr>\n",
       "  </thead>\n",
       "  <tbody>\n",
       "    <tr>\n",
       "      <th>0</th>\n",
       "      <td>16392</td>\n",
       "    </tr>\n",
       "    <tr>\n",
       "      <th>1</th>\n",
       "      <td>18489</td>\n",
       "    </tr>\n",
       "    <tr>\n",
       "      <th>2</th>\n",
       "      <td>12350</td>\n",
       "    </tr>\n",
       "    <tr>\n",
       "      <th>3</th>\n",
       "      <td>12351</td>\n",
       "    </tr>\n",
       "    <tr>\n",
       "      <th>4</th>\n",
       "      <td>12352</td>\n",
       "    </tr>\n",
       "  </tbody>\n",
       "</table>\n",
       "</div>"
      ],
      "text/plain": [
       "   podcast_id\n",
       "0       16392\n",
       "1       18489\n",
       "2       12350\n",
       "3       12351\n",
       "4       12352"
      ]
     },
     "execution_count": 53,
     "metadata": {},
     "output_type": "execute_result"
    }
   ],
   "source": [
    "podcast_ids.head()"
   ]
  },
  {
   "cell_type": "code",
   "execution_count": 72,
   "metadata": {
    "collapsed": false
   },
   "outputs": [],
   "source": [
    "podcast_id = 17233\n",
    "row_id = podcast_data[podcast_data['id'] == podcast_id].index\n",
    "row_id = row_id[0]"
   ]
  },
  {
   "cell_type": "code",
   "execution_count": 73,
   "metadata": {
    "collapsed": false
   },
   "outputs": [
    {
     "data": {
      "text/plain": [
       "1634"
      ]
     },
     "execution_count": 73,
     "metadata": {},
     "output_type": "execute_result"
    }
   ],
   "source": [
    "row_id"
   ]
  },
  {
   "cell_type": "code",
   "execution_count": 74,
   "metadata": {
    "collapsed": false
   },
   "outputs": [],
   "source": [
    "search_vec = lsi[corpus[row_id]]\n",
    "sims = index[search_vec]\n",
    "#sims = sorted(enumerate(sims), key=lambda item: -item[1])"
   ]
  },
  {
   "cell_type": "code",
   "execution_count": 75,
   "metadata": {
    "collapsed": false
   },
   "outputs": [
    {
     "data": {
      "text/plain": [
       "array([ 0.02857188,  0.09426528,  0.12806995, ...,  0.06971769,\n",
       "        0.16650036,  0.05022383], dtype=float32)"
      ]
     },
     "execution_count": 75,
     "metadata": {},
     "output_type": "execute_result"
    }
   ],
   "source": [
    "sims"
   ]
  },
  {
   "cell_type": "code",
   "execution_count": 68,
   "metadata": {
    "collapsed": false
   },
   "outputs": [
    {
     "ename": "IndexError",
     "evalue": "invalid index to scalar variable.",
     "output_type": "error",
     "traceback": [
      "\u001b[0;31m---------------------------------------------------------------------------\u001b[0m",
      "\u001b[0;31mIndexError\u001b[0m                                Traceback (most recent call last)",
      "\u001b[0;32m<ipython-input-68-2ba60f14bbb2>\u001b[0m in \u001b[0;36m<module>\u001b[0;34m()\u001b[0m\n\u001b[0;32m----> 1\u001b[0;31m \u001b[0mmatch_ids\u001b[0m \u001b[0;34m=\u001b[0m \u001b[0;34m[\u001b[0m\u001b[0mx\u001b[0m\u001b[0;34m[\u001b[0m\u001b[0;36m0\u001b[0m\u001b[0;34m]\u001b[0m \u001b[0;32mfor\u001b[0m \u001b[0mx\u001b[0m \u001b[0;32min\u001b[0m \u001b[0msims\u001b[0m\u001b[0;34m]\u001b[0m\u001b[0;34m\u001b[0m\u001b[0m\n\u001b[0m",
      "\u001b[0;31mIndexError\u001b[0m: invalid index to scalar variable."
     ]
    }
   ],
   "source": [
    "#match_ids = [x[0] for x in sims]"
   ]
  },
  {
   "cell_type": "code",
   "execution_count": 77,
   "metadata": {
    "collapsed": false
   },
   "outputs": [
    {
     "data": {
      "text/html": [
       "<div>\n",
       "<table border=\"1\" class=\"dataframe\">\n",
       "  <thead>\n",
       "    <tr style=\"text-align: right;\">\n",
       "      <th></th>\n",
       "      <th>similarity</th>\n",
       "    </tr>\n",
       "  </thead>\n",
       "  <tbody>\n",
       "    <tr>\n",
       "      <th>0</th>\n",
       "      <td>0.028572</td>\n",
       "    </tr>\n",
       "    <tr>\n",
       "      <th>1</th>\n",
       "      <td>0.094265</td>\n",
       "    </tr>\n",
       "    <tr>\n",
       "      <th>2</th>\n",
       "      <td>0.128070</td>\n",
       "    </tr>\n",
       "    <tr>\n",
       "      <th>3</th>\n",
       "      <td>0.064543</td>\n",
       "    </tr>\n",
       "    <tr>\n",
       "      <th>4</th>\n",
       "      <td>0.056373</td>\n",
       "    </tr>\n",
       "  </tbody>\n",
       "</table>\n",
       "</div>"
      ],
      "text/plain": [
       "   similarity\n",
       "0    0.028572\n",
       "1    0.094265\n",
       "2    0.128070\n",
       "3    0.064543\n",
       "4    0.056373"
      ]
     },
     "execution_count": 77,
     "metadata": {},
     "output_type": "execute_result"
    }
   ],
   "source": [
    "sim_df = pd.DataFrame({\"similarity\" : sims})\n",
    "sim_df.head()"
   ]
  },
  {
   "cell_type": "code",
   "execution_count": 78,
   "metadata": {
    "collapsed": false
   },
   "outputs": [],
   "source": [
    "podcast_ids.columns = ['podcast_id']"
   ]
  },
  {
   "cell_type": "code",
   "execution_count": 81,
   "metadata": {
    "collapsed": false
   },
   "outputs": [],
   "source": [
    "sim_df = pd.concat([sim_df, podcast_ids], axis = 1)"
   ]
  },
  {
   "cell_type": "code",
   "execution_count": 85,
   "metadata": {
    "collapsed": false
   },
   "outputs": [],
   "source": [
    "sim_df = sim_df.sort_values('similarity', ascending=False)"
   ]
  },
  {
   "cell_type": "code",
   "execution_count": 86,
   "metadata": {
    "collapsed": false
   },
   "outputs": [
    {
     "data": {
      "text/html": [
       "<div>\n",
       "<table border=\"1\" class=\"dataframe\">\n",
       "  <thead>\n",
       "    <tr style=\"text-align: right;\">\n",
       "      <th></th>\n",
       "      <th>similarity</th>\n",
       "      <th>podcast_id</th>\n",
       "    </tr>\n",
       "  </thead>\n",
       "  <tbody>\n",
       "    <tr>\n",
       "      <th>2904</th>\n",
       "      <td>0.820921</td>\n",
       "      <td>15427</td>\n",
       "    </tr>\n",
       "    <tr>\n",
       "      <th>3862</th>\n",
       "      <td>0.809803</td>\n",
       "      <td>16512</td>\n",
       "    </tr>\n",
       "    <tr>\n",
       "      <th>1804</th>\n",
       "      <td>0.803452</td>\n",
       "      <td>16522</td>\n",
       "    </tr>\n",
       "    <tr>\n",
       "      <th>4191</th>\n",
       "      <td>0.800901</td>\n",
       "      <td>18296</td>\n",
       "    </tr>\n",
       "    <tr>\n",
       "      <th>1036</th>\n",
       "      <td>0.796088</td>\n",
       "      <td>16962</td>\n",
       "    </tr>\n",
       "    <tr>\n",
       "      <th>2278</th>\n",
       "      <td>0.795028</td>\n",
       "      <td>17540</td>\n",
       "    </tr>\n",
       "    <tr>\n",
       "      <th>4507</th>\n",
       "      <td>0.788274</td>\n",
       "      <td>16617</td>\n",
       "    </tr>\n",
       "    <tr>\n",
       "      <th>7</th>\n",
       "      <td>0.782280</td>\n",
       "      <td>16399</td>\n",
       "    </tr>\n",
       "    <tr>\n",
       "      <th>3581</th>\n",
       "      <td>0.780547</td>\n",
       "      <td>16139</td>\n",
       "    </tr>\n",
       "    <tr>\n",
       "      <th>3533</th>\n",
       "      <td>0.769447</td>\n",
       "      <td>18251</td>\n",
       "    </tr>\n",
       "    <tr>\n",
       "      <th>5425</th>\n",
       "      <td>0.764824</td>\n",
       "      <td>15305</td>\n",
       "    </tr>\n",
       "    <tr>\n",
       "      <th>3364</th>\n",
       "      <td>0.764318</td>\n",
       "      <td>15878</td>\n",
       "    </tr>\n",
       "    <tr>\n",
       "      <th>5347</th>\n",
       "      <td>0.761875</td>\n",
       "      <td>15061</td>\n",
       "    </tr>\n",
       "    <tr>\n",
       "      <th>5130</th>\n",
       "      <td>0.761658</td>\n",
       "      <td>14360</td>\n",
       "    </tr>\n",
       "    <tr>\n",
       "      <th>891</th>\n",
       "      <td>0.755901</td>\n",
       "      <td>13312</td>\n",
       "    </tr>\n",
       "    <tr>\n",
       "      <th>2310</th>\n",
       "      <td>0.751250</td>\n",
       "      <td>14757</td>\n",
       "    </tr>\n",
       "    <tr>\n",
       "      <th>2498</th>\n",
       "      <td>0.749813</td>\n",
       "      <td>17672</td>\n",
       "    </tr>\n",
       "    <tr>\n",
       "      <th>475</th>\n",
       "      <td>0.747695</td>\n",
       "      <td>12868</td>\n",
       "    </tr>\n",
       "    <tr>\n",
       "      <th>1052</th>\n",
       "      <td>0.732810</td>\n",
       "      <td>13466</td>\n",
       "    </tr>\n",
       "    <tr>\n",
       "      <th>4285</th>\n",
       "      <td>0.727887</td>\n",
       "      <td>15096</td>\n",
       "    </tr>\n",
       "    <tr>\n",
       "      <th>4081</th>\n",
       "      <td>0.727486</td>\n",
       "      <td>17577</td>\n",
       "    </tr>\n",
       "    <tr>\n",
       "      <th>1172</th>\n",
       "      <td>0.727138</td>\n",
       "      <td>13597</td>\n",
       "    </tr>\n",
       "    <tr>\n",
       "      <th>1971</th>\n",
       "      <td>0.726095</td>\n",
       "      <td>17396</td>\n",
       "    </tr>\n",
       "    <tr>\n",
       "      <th>3518</th>\n",
       "      <td>0.724894</td>\n",
       "      <td>18229</td>\n",
       "    </tr>\n",
       "    <tr>\n",
       "      <th>1518</th>\n",
       "      <td>0.715841</td>\n",
       "      <td>13970</td>\n",
       "    </tr>\n",
       "    <tr>\n",
       "      <th>5636</th>\n",
       "      <td>0.714921</td>\n",
       "      <td>16005</td>\n",
       "    </tr>\n",
       "    <tr>\n",
       "      <th>1628</th>\n",
       "      <td>0.713104</td>\n",
       "      <td>17231</td>\n",
       "    </tr>\n",
       "    <tr>\n",
       "      <th>5311</th>\n",
       "      <td>0.710408</td>\n",
       "      <td>14941</td>\n",
       "    </tr>\n",
       "    <tr>\n",
       "      <th>916</th>\n",
       "      <td>0.709945</td>\n",
       "      <td>16906</td>\n",
       "    </tr>\n",
       "    <tr>\n",
       "      <th>1590</th>\n",
       "      <td>0.705334</td>\n",
       "      <td>17216</td>\n",
       "    </tr>\n",
       "    <tr>\n",
       "      <th>...</th>\n",
       "      <td>...</td>\n",
       "      <td>...</td>\n",
       "    </tr>\n",
       "    <tr>\n",
       "      <th>3055</th>\n",
       "      <td>-0.065377</td>\n",
       "      <td>17947</td>\n",
       "    </tr>\n",
       "    <tr>\n",
       "      <th>380</th>\n",
       "      <td>-0.066276</td>\n",
       "      <td>12763</td>\n",
       "    </tr>\n",
       "    <tr>\n",
       "      <th>3811</th>\n",
       "      <td>-0.066889</td>\n",
       "      <td>16439</td>\n",
       "    </tr>\n",
       "    <tr>\n",
       "      <th>5137</th>\n",
       "      <td>-0.069034</td>\n",
       "      <td>14339</td>\n",
       "    </tr>\n",
       "    <tr>\n",
       "      <th>4272</th>\n",
       "      <td>-0.072539</td>\n",
       "      <td>12946</td>\n",
       "    </tr>\n",
       "    <tr>\n",
       "      <th>961</th>\n",
       "      <td>-0.072559</td>\n",
       "      <td>16931</td>\n",
       "    </tr>\n",
       "    <tr>\n",
       "      <th>817</th>\n",
       "      <td>-0.075309</td>\n",
       "      <td>13239</td>\n",
       "    </tr>\n",
       "    <tr>\n",
       "      <th>250</th>\n",
       "      <td>-0.075333</td>\n",
       "      <td>16664</td>\n",
       "    </tr>\n",
       "    <tr>\n",
       "      <th>363</th>\n",
       "      <td>-0.083181</td>\n",
       "      <td>12747</td>\n",
       "    </tr>\n",
       "    <tr>\n",
       "      <th>1243</th>\n",
       "      <td>-0.083597</td>\n",
       "      <td>17078</td>\n",
       "    </tr>\n",
       "    <tr>\n",
       "      <th>2149</th>\n",
       "      <td>-0.084335</td>\n",
       "      <td>17483</td>\n",
       "    </tr>\n",
       "    <tr>\n",
       "      <th>4166</th>\n",
       "      <td>-0.086502</td>\n",
       "      <td>18149</td>\n",
       "    </tr>\n",
       "    <tr>\n",
       "      <th>96</th>\n",
       "      <td>-0.096401</td>\n",
       "      <td>12465</td>\n",
       "    </tr>\n",
       "    <tr>\n",
       "      <th>3683</th>\n",
       "      <td>-0.098170</td>\n",
       "      <td>16271</td>\n",
       "    </tr>\n",
       "    <tr>\n",
       "      <th>5449</th>\n",
       "      <td>-0.098427</td>\n",
       "      <td>15423</td>\n",
       "    </tr>\n",
       "    <tr>\n",
       "      <th>400</th>\n",
       "      <td>-0.103201</td>\n",
       "      <td>12787</td>\n",
       "    </tr>\n",
       "    <tr>\n",
       "      <th>777</th>\n",
       "      <td>-0.107328</td>\n",
       "      <td>13192</td>\n",
       "    </tr>\n",
       "    <tr>\n",
       "      <th>933</th>\n",
       "      <td>-0.108663</td>\n",
       "      <td>13498</td>\n",
       "    </tr>\n",
       "    <tr>\n",
       "      <th>3996</th>\n",
       "      <td>-0.109167</td>\n",
       "      <td>16948</td>\n",
       "    </tr>\n",
       "    <tr>\n",
       "      <th>973</th>\n",
       "      <td>-0.112947</td>\n",
       "      <td>16934</td>\n",
       "    </tr>\n",
       "    <tr>\n",
       "      <th>4540</th>\n",
       "      <td>-0.117425</td>\n",
       "      <td>12925</td>\n",
       "    </tr>\n",
       "    <tr>\n",
       "      <th>3348</th>\n",
       "      <td>-0.123906</td>\n",
       "      <td>18076</td>\n",
       "    </tr>\n",
       "    <tr>\n",
       "      <th>121</th>\n",
       "      <td>-0.144254</td>\n",
       "      <td>12580</td>\n",
       "    </tr>\n",
       "    <tr>\n",
       "      <th>987</th>\n",
       "      <td>-0.148772</td>\n",
       "      <td>13499</td>\n",
       "    </tr>\n",
       "    <tr>\n",
       "      <th>4312</th>\n",
       "      <td>-0.154272</td>\n",
       "      <td>13322</td>\n",
       "    </tr>\n",
       "    <tr>\n",
       "      <th>4830</th>\n",
       "      <td>-0.175458</td>\n",
       "      <td>13334</td>\n",
       "    </tr>\n",
       "    <tr>\n",
       "      <th>2243</th>\n",
       "      <td>-0.177660</td>\n",
       "      <td>14694</td>\n",
       "    </tr>\n",
       "    <tr>\n",
       "      <th>1592</th>\n",
       "      <td>-0.181881</td>\n",
       "      <td>14055</td>\n",
       "    </tr>\n",
       "    <tr>\n",
       "      <th>4818</th>\n",
       "      <td>-0.182556</td>\n",
       "      <td>13297</td>\n",
       "    </tr>\n",
       "    <tr>\n",
       "      <th>1244</th>\n",
       "      <td>-0.238417</td>\n",
       "      <td>17079</td>\n",
       "    </tr>\n",
       "  </tbody>\n",
       "</table>\n",
       "<p>5803 rows × 2 columns</p>\n",
       "</div>"
      ],
      "text/plain": [
       "      similarity  podcast_id\n",
       "2904    0.820921       15427\n",
       "3862    0.809803       16512\n",
       "1804    0.803452       16522\n",
       "4191    0.800901       18296\n",
       "1036    0.796088       16962\n",
       "2278    0.795028       17540\n",
       "4507    0.788274       16617\n",
       "7       0.782280       16399\n",
       "3581    0.780547       16139\n",
       "3533    0.769447       18251\n",
       "5425    0.764824       15305\n",
       "3364    0.764318       15878\n",
       "5347    0.761875       15061\n",
       "5130    0.761658       14360\n",
       "891     0.755901       13312\n",
       "2310    0.751250       14757\n",
       "2498    0.749813       17672\n",
       "475     0.747695       12868\n",
       "1052    0.732810       13466\n",
       "4285    0.727887       15096\n",
       "4081    0.727486       17577\n",
       "1172    0.727138       13597\n",
       "1971    0.726095       17396\n",
       "3518    0.724894       18229\n",
       "1518    0.715841       13970\n",
       "5636    0.714921       16005\n",
       "1628    0.713104       17231\n",
       "5311    0.710408       14941\n",
       "916     0.709945       16906\n",
       "1590    0.705334       17216\n",
       "...          ...         ...\n",
       "3055   -0.065377       17947\n",
       "380    -0.066276       12763\n",
       "3811   -0.066889       16439\n",
       "5137   -0.069034       14339\n",
       "4272   -0.072539       12946\n",
       "961    -0.072559       16931\n",
       "817    -0.075309       13239\n",
       "250    -0.075333       16664\n",
       "363    -0.083181       12747\n",
       "1243   -0.083597       17078\n",
       "2149   -0.084335       17483\n",
       "4166   -0.086502       18149\n",
       "96     -0.096401       12465\n",
       "3683   -0.098170       16271\n",
       "5449   -0.098427       15423\n",
       "400    -0.103201       12787\n",
       "777    -0.107328       13192\n",
       "933    -0.108663       13498\n",
       "3996   -0.109167       16948\n",
       "973    -0.112947       16934\n",
       "4540   -0.117425       12925\n",
       "3348   -0.123906       18076\n",
       "121    -0.144254       12580\n",
       "987    -0.148772       13499\n",
       "4312   -0.154272       13322\n",
       "4830   -0.175458       13334\n",
       "2243   -0.177660       14694\n",
       "1592   -0.181881       14055\n",
       "4818   -0.182556       13297\n",
       "1244   -0.238417       17079\n",
       "\n",
       "[5803 rows x 2 columns]"
      ]
     },
     "execution_count": 86,
     "metadata": {},
     "output_type": "execute_result"
    }
   ],
   "source": [
    "sim_df[sim_df['podcast_id'] != podcast_id]"
   ]
  },
  {
   "cell_type": "code",
   "execution_count": 87,
   "metadata": {
    "collapsed": true
   },
   "outputs": [],
   "source": [
    "sim_df_no_self = sim_df[sim_df['podcast_id'] != podcast_id]"
   ]
  },
  {
   "cell_type": "code",
   "execution_count": 91,
   "metadata": {
    "collapsed": false
   },
   "outputs": [],
   "source": [
    "# take top ids\n",
    "ids = list(sim_df_no_self['podcast_id'].values)\n",
    "ids = [str(int(x)) for x in ids]\n",
    "ids = ids[:100]"
   ]
  },
  {
   "cell_type": "code",
   "execution_count": 95,
   "metadata": {
    "collapsed": false
   },
   "outputs": [],
   "source": [
    "import psycopg2\n",
    "user = 'lindsay'          \n",
    "host = 'localhost'\n",
    "dbname = 'podcast'\n",
    "con = None\n",
    "con = psycopg2.connect(database = dbname, user = user)\n",
    "cursor = con.cursor()\n",
    "\n",
    "def pg_int_array(the_list):\n",
    "  return '(' + ','.join(the_list) + ')'\n",
    "\n",
    "query = \"\"\"\n",
    "SELECT name, view_url, artwork_url100, id\n",
    "FROM podcast\n",
    "WHERE id IN %s;\n",
    "\"\"\"\n",
    "query = query.replace('\\n', ' ')\n",
    "\n",
    "cursor.execute(query % (pg_int_array(ids)))\n",
    "query_results = cursor.fetchall()"
   ]
  },
  {
   "cell_type": "code",
   "execution_count": 104,
   "metadata": {
    "collapsed": false
   },
   "outputs": [],
   "source": [
    "columnNames = ['name', 'view_url', 'artwork_url100', 'id']\n",
    "podcast_results = pd.DataFrame(columns=columnNames)"
   ]
  },
  {
   "cell_type": "code",
   "execution_count": 106,
   "metadata": {
    "collapsed": false
   },
   "outputs": [
    {
     "data": {
      "text/html": [
       "<div>\n",
       "<table border=\"1\" class=\"dataframe\">\n",
       "  <thead>\n",
       "    <tr style=\"text-align: right;\">\n",
       "      <th></th>\n",
       "      <th>name</th>\n",
       "      <th>view_url</th>\n",
       "      <th>artwork_url100</th>\n",
       "      <th>id</th>\n",
       "    </tr>\n",
       "  </thead>\n",
       "  <tbody>\n",
       "    <tr>\n",
       "      <th>0</th>\n",
       "      <td>AACONS</td>\n",
       "      <td>https://itunes.apple.com/us/podcast/aacons/id5...</td>\n",
       "      <td>http://is3.mzstatic.com/image/thumb/Music5/v4/...</td>\n",
       "      <td>12357</td>\n",
       "    </tr>\n",
       "    <tr>\n",
       "      <th>1</th>\n",
       "      <td>Aaron Rand Show</td>\n",
       "      <td>https://itunes.apple.com/us/podcast/aaron-rand...</td>\n",
       "      <td>http://is1.mzstatic.com/image/thumb/Music/v4/0...</td>\n",
       "      <td>12359</td>\n",
       "    </tr>\n",
       "    <tr>\n",
       "      <th>2</th>\n",
       "      <td>Adam Thompson Show</td>\n",
       "      <td>https://itunes.apple.com/us/podcast/adam-thomp...</td>\n",
       "      <td>http://is4.mzstatic.com/image/thumb/Music5/v4/...</td>\n",
       "      <td>12416</td>\n",
       "    </tr>\n",
       "    <tr>\n",
       "      <th>3</th>\n",
       "      <td>AirTalk</td>\n",
       "      <td>https://itunes.apple.com/us/podcast/airtalk/id...</td>\n",
       "      <td>http://is3.mzstatic.com/image/thumb/Music69/v4...</td>\n",
       "      <td>12458</td>\n",
       "    </tr>\n",
       "    <tr>\n",
       "      <th>4</th>\n",
       "      <td>Alonzo Bodden: Who's Paying Attention</td>\n",
       "      <td>https://itunes.apple.com/us/podcast/alonzo-bod...</td>\n",
       "      <td>http://is1.mzstatic.com/image/thumb/Music3/v4/...</td>\n",
       "      <td>12532</td>\n",
       "    </tr>\n",
       "  </tbody>\n",
       "</table>\n",
       "</div>"
      ],
      "text/plain": [
       "                                    name  \\\n",
       "0                                 AACONS   \n",
       "1                        Aaron Rand Show   \n",
       "2                     Adam Thompson Show   \n",
       "3                                AirTalk   \n",
       "4  Alonzo Bodden: Who's Paying Attention   \n",
       "\n",
       "                                            view_url  \\\n",
       "0  https://itunes.apple.com/us/podcast/aacons/id5...   \n",
       "1  https://itunes.apple.com/us/podcast/aaron-rand...   \n",
       "2  https://itunes.apple.com/us/podcast/adam-thomp...   \n",
       "3  https://itunes.apple.com/us/podcast/airtalk/id...   \n",
       "4  https://itunes.apple.com/us/podcast/alonzo-bod...   \n",
       "\n",
       "                                      artwork_url100     id  \n",
       "0  http://is3.mzstatic.com/image/thumb/Music5/v4/...  12357  \n",
       "1  http://is1.mzstatic.com/image/thumb/Music/v4/0...  12359  \n",
       "2  http://is4.mzstatic.com/image/thumb/Music5/v4/...  12416  \n",
       "3  http://is3.mzstatic.com/image/thumb/Music69/v4...  12458  \n",
       "4  http://is1.mzstatic.com/image/thumb/Music3/v4/...  12532  "
      ]
     },
     "execution_count": 106,
     "metadata": {},
     "output_type": "execute_result"
    }
   ],
   "source": [
    "podcast_results['name'] = [x[0] for x in query_results]\n",
    "podcast_results['view_url'] = [x[1] for x in query_results]\n",
    "podcast_results['artwork_url100'] = [x[2] for x in query_results]\n",
    "podcast_results['id'] = [x[3] for x in query_results]\n",
    "podcast_results.head()"
   ]
  },
  {
   "cell_type": "code",
   "execution_count": 108,
   "metadata": {
    "collapsed": false
   },
   "outputs": [],
   "source": [
    "merge_results = pd.merge(sim_df_no_self, podcast_results, how = 'inner', left_on='podcast_id', right_on='id')"
   ]
  },
  {
   "cell_type": "code",
   "execution_count": 112,
   "metadata": {
    "collapsed": false
   },
   "outputs": [
    {
     "data": {
      "text/html": [
       "<div>\n",
       "<table border=\"1\" class=\"dataframe\">\n",
       "  <thead>\n",
       "    <tr style=\"text-align: right;\">\n",
       "      <th></th>\n",
       "      <th>similarity</th>\n",
       "      <th>podcast_id</th>\n",
       "      <th>name</th>\n",
       "      <th>view_url</th>\n",
       "      <th>artwork_url100</th>\n",
       "      <th>id</th>\n",
       "    </tr>\n",
       "  </thead>\n",
       "  <tbody>\n",
       "    <tr>\n",
       "      <th>0</th>\n",
       "      <td>0.820921</td>\n",
       "      <td>15427</td>\n",
       "      <td>Kudzu Vine</td>\n",
       "      <td>https://itunes.apple.com/us/podcast/kudzu-vine...</td>\n",
       "      <td>http://is4.mzstatic.com/image/thumb/Music3/v4/...</td>\n",
       "      <td>15427</td>\n",
       "    </tr>\n",
       "    <tr>\n",
       "      <th>1</th>\n",
       "      <td>0.809803</td>\n",
       "      <td>16512</td>\n",
       "      <td>PBS NewsHour » Shields and Brooks</td>\n",
       "      <td>https://itunes.apple.com/us/podcast/pbs-newsho...</td>\n",
       "      <td>http://is1.mzstatic.com/image/thumb/Music6/v4/...</td>\n",
       "      <td>16512</td>\n",
       "    </tr>\n",
       "    <tr>\n",
       "      <th>2</th>\n",
       "      <td>0.803452</td>\n",
       "      <td>16522</td>\n",
       "      <td>PennLive News Podcasts</td>\n",
       "      <td>https://itunes.apple.com/us/podcast/pennlive-n...</td>\n",
       "      <td>http://is1.mzstatic.com/image/thumb/Music/v4/e...</td>\n",
       "      <td>16522</td>\n",
       "    </tr>\n",
       "    <tr>\n",
       "      <th>3</th>\n",
       "      <td>0.800901</td>\n",
       "      <td>18296</td>\n",
       "      <td>WGN - The Rick Pearson Podcast</td>\n",
       "      <td>https://itunes.apple.com/us/podcast/wgn-the-ri...</td>\n",
       "      <td>http://is3.mzstatic.com/image/thumb/Music5/v4/...</td>\n",
       "      <td>18296</td>\n",
       "    </tr>\n",
       "    <tr>\n",
       "      <th>4</th>\n",
       "      <td>0.796088</td>\n",
       "      <td>16962</td>\n",
       "      <td>Rock Splitting Politics – Doc Holliday</td>\n",
       "      <td>https://itunes.apple.com/us/podcast/rock-split...</td>\n",
       "      <td>http://is1.mzstatic.com/image/thumb/Music4/v4/...</td>\n",
       "      <td>16962</td>\n",
       "    </tr>\n",
       "  </tbody>\n",
       "</table>\n",
       "</div>"
      ],
      "text/plain": [
       "   similarity  podcast_id                                    name  \\\n",
       "0    0.820921       15427                              Kudzu Vine   \n",
       "1    0.809803       16512       PBS NewsHour » Shields and Brooks   \n",
       "2    0.803452       16522                  PennLive News Podcasts   \n",
       "3    0.800901       18296          WGN - The Rick Pearson Podcast   \n",
       "4    0.796088       16962  Rock Splitting Politics – Doc Holliday   \n",
       "\n",
       "                                            view_url  \\\n",
       "0  https://itunes.apple.com/us/podcast/kudzu-vine...   \n",
       "1  https://itunes.apple.com/us/podcast/pbs-newsho...   \n",
       "2  https://itunes.apple.com/us/podcast/pennlive-n...   \n",
       "3  https://itunes.apple.com/us/podcast/wgn-the-ri...   \n",
       "4  https://itunes.apple.com/us/podcast/rock-split...   \n",
       "\n",
       "                                      artwork_url100     id  \n",
       "0  http://is4.mzstatic.com/image/thumb/Music3/v4/...  15427  \n",
       "1  http://is1.mzstatic.com/image/thumb/Music6/v4/...  16512  \n",
       "2  http://is1.mzstatic.com/image/thumb/Music/v4/e...  16522  \n",
       "3  http://is3.mzstatic.com/image/thumb/Music5/v4/...  18296  \n",
       "4  http://is1.mzstatic.com/image/thumb/Music4/v4/...  16962  "
      ]
     },
     "execution_count": 112,
     "metadata": {},
     "output_type": "execute_result"
    }
   ],
   "source": [
    "merge_results.head()"
   ]
  },
  {
   "cell_type": "code",
   "execution_count": 35,
   "metadata": {
    "collapsed": false
   },
   "outputs": [],
   "source": [
    "similarity_df = pd.DataFrame(columns=['search_id', 'match_id', 'similarity'])"
   ]
  },
  {
   "cell_type": "code",
   "execution_count": 39,
   "metadata": {
    "collapsed": false
   },
   "outputs": [
    {
     "name": "stderr",
     "output_type": "stream",
     "text": []
    }
   ],
   "source": [
    "for row_id in tqdm.tqdm(range(podcast_data.shape[0])):\n",
    "    search_id = int(podcast_data.iloc[row_id]['id'])\n",
    "    search_vec = lsi[corpus[row_id]]\n",
    "    sims = index[search_vec]\n",
    "    sims = sorted(enumerate(sims), key=lambda item: -item[1])\n",
    "    \n",
    "    # remove self match (should be first)\n",
    "    for i, (id, sim) in enumerate(sims):\n",
    "        if id == row_id:\n",
    "            del sims[i]\n",
    "            break\n",
    "    \n",
    "    # get match ids and similarities\n",
    "    match_id = [podcast_data.iloc[match[0]]['id'] for match in sims]\n",
    "    similarity = [match[1] for match in sims]\n",
    "    \n",
    "    similarity_df = similarity_df.append(pd.DataFrame({'search_id' : [[search_id] * len(match_id)],\n",
    "                                                      'match_id' : [match_id],\n",
    "                                                      'similarity' : [similarity]}))"
   ]
  },
  {
   "cell_type": "code",
   "execution_count": 40,
   "metadata": {
    "collapsed": true
   },
   "outputs": [],
   "source": [
    "similarity_df.to_pickle('gensim/similarity_df.pkl')"
   ]
  },
  {
   "cell_type": "code",
   "execution_count": 38,
   "metadata": {
    "collapsed": false
   },
   "outputs": [
    {
     "name": "stdout",
     "output_type": "stream",
     "text": [
      "MatrixSimilarity<5804 docs, 100 features>\n"
     ]
    }
   ],
   "source": [
    "print index"
   ]
  },
  {
   "cell_type": "code",
   "execution_count": null,
   "metadata": {
    "collapsed": true
   },
   "outputs": [],
   "source": []
  }
 ],
 "metadata": {
  "kernelspec": {
   "display_name": "Python 2",
   "language": "python",
   "name": "python2"
  },
  "language_info": {
   "codemirror_mode": {
    "name": "ipython",
    "version": 2
   },
   "file_extension": ".py",
   "mimetype": "text/x-python",
   "name": "python",
   "nbconvert_exporter": "python",
   "pygments_lexer": "ipython2",
   "version": "2.7.10"
  }
 },
 "nbformat": 4,
 "nbformat_minor": 0
}
