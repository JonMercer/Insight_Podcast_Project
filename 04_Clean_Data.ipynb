{
 "cells": [
  {
   "cell_type": "code",
   "execution_count": 10,
   "metadata": {
    "collapsed": true
   },
   "outputs": [],
   "source": [
    "import pandas as pd\n",
    "import re\n",
    "import guess_language"
   ]
  },
  {
   "cell_type": "code",
   "execution_count": 2,
   "metadata": {
    "collapsed": true
   },
   "outputs": [],
   "source": [
    "# load data\n",
    "scrapeDf = pd.read_pickle('pkl/scraped_podcasts_COMPLETE.pkl')\n",
    "apiDf = pd.read_pickle('pkl/itunes_podcasts_v3_COMPLETE.pkl')"
   ]
  },
  {
   "cell_type": "code",
   "execution_count": 3,
   "metadata": {
    "collapsed": false
   },
   "outputs": [],
   "source": [
    "# clean column names because SQL doesn't like camelCase\n",
    "def convert(name):\n",
    "    \"\"\"Converts camelCase to camel_case.\"\"\"\n",
    "    s1 = re.sub('(.)([A-Z][a-z]+)', r'\\1_\\2', name)\n",
    "    return re.sub('([a-z0-9])([A-Z])', r'\\1_\\2', s1).lower()\n",
    "\n",
    "scrapeDf.columns = [convert(x) for x in scrapeDf.columns]\n",
    "apiDf.columns = [convert(x) for x in apiDf.columns]"
   ]
  },
  {
   "cell_type": "code",
   "execution_count": 11,
   "metadata": {
    "collapsed": true
   },
   "outputs": [],
   "source": [
    "podcastDf = pd.merge(apiDf, scrapeDf, how = 'inner', on = 'collection_id')"
   ]
  },
  {
   "cell_type": "code",
   "execution_count": 15,
   "metadata": {
    "collapsed": false
   },
   "outputs": [
    {
     "data": {
      "text/plain": [
       "(6284, 40)"
      ]
     },
     "execution_count": 15,
     "metadata": {},
     "output_type": "execute_result"
    }
   ],
   "source": [
    "podcastDf.shape"
   ]
  },
  {
   "cell_type": "code",
   "execution_count": 14,
   "metadata": {
    "collapsed": true
   },
   "outputs": [],
   "source": [
    "# convert to int\n",
    "podcastDf['collection_id'] = [int(x) for x in podcastDf['collection_id']]"
   ]
  },
  {
   "cell_type": "code",
   "execution_count": 16,
   "metadata": {
    "collapsed": false
   },
   "outputs": [
    {
     "data": {
      "text/plain": [
       "(5950, 41)"
      ]
     },
     "execution_count": 16,
     "metadata": {},
     "output_type": "execute_result"
    }
   ],
   "source": [
    "# guess language of summary\n",
    "podcastDf['language'] = [guess_language.guessLanguageName(x) for x in podcastDf['podcast_summary']]\n",
    "podcastDf = podcastDf[podcastDf['language'] == 'English']\n",
    "podcastDf.shape"
   ]
  },
  {
   "cell_type": "code",
   "execution_count": 36,
   "metadata": {
    "collapsed": false
   },
   "outputs": [
    {
     "data": {
      "text/plain": [
       "Index([               u'artist_id',              u'artist_name',\n",
       "                u'artist_view_url',           u'artwork_url100',\n",
       "                  u'artwork_url30',            u'artwork_url60',\n",
       "                 u'artwork_url600', u'collection_censored_name',\n",
       "        u'collection_explicitness',      u'collection_hd_price',\n",
       "                  u'collection_id',          u'collection_name',\n",
       "               u'collection_price',      u'collection_view_url',\n",
       "        u'content_advisory_rating',                  u'country',\n",
       "                       u'currency',                 u'feed_url',\n",
       "                      u'genre_ids',                   u'genres',\n",
       "                             u'id',                     u'kind',\n",
       "             u'primary_genre_name',        u'radio_station_url',\n",
       "                   u'release_date',      u'track_censored_name',\n",
       "                    u'track_count',       u'track_explicitness',\n",
       "                 u'track_hd_price',    u'track_hd_rental_price',\n",
       "                       u'track_id',               u'track_name',\n",
       "                    u'track_price',       u'track_rental_price',\n",
       "                 u'track_view_url',             u'wrapper_type',\n",
       "                u'also_subscribed',     u'episode_descriptions',\n",
       "                  u'episode_names',          u'podcast_summary',\n",
       "                       u'language'],\n",
       "      dtype='object')"
      ]
     },
     "execution_count": 36,
     "metadata": {},
     "output_type": "execute_result"
    }
   ],
   "source": [
    "podcastDf.columns"
   ]
  },
  {
   "cell_type": "code",
   "execution_count": 37,
   "metadata": {
    "collapsed": true
   },
   "outputs": [],
   "source": [
    "episodeDf = podcastDf[['collection_id','episode_descriptions', 'episode_names']]"
   ]
  },
  {
   "cell_type": "code",
   "execution_count": 39,
   "metadata": {
    "collapsed": false
   },
   "outputs": [
    {
     "name": "stderr",
     "output_type": "stream",
     "text": [
      "/anaconda/lib/python2.7/site-packages/ipykernel/__main__.py:1: SettingWithCopyWarning: \n",
      "A value is trying to be set on a copy of a slice from a DataFrame.\n",
      "Try using .loc[row_indexer,col_indexer] = value instead\n",
      "\n",
      "See the caveats in the documentation: http://pandas.pydata.org/pandas-docs/stable/indexing.html#indexing-view-versus-copy\n",
      "  if __name__ == '__main__':\n",
      "/anaconda/lib/python2.7/site-packages/ipykernel/__main__.py:2: SettingWithCopyWarning: \n",
      "A value is trying to be set on a copy of a slice from a DataFrame.\n",
      "Try using .loc[row_indexer,col_indexer] = value instead\n",
      "\n",
      "See the caveats in the documentation: http://pandas.pydata.org/pandas-docs/stable/indexing.html#indexing-view-versus-copy\n",
      "  from ipykernel import kernelapp as app\n"
     ]
    }
   ],
   "source": [
    "# convert to list\n",
    "episodeDf['episode_descriptions'] = [x.split(\"\\',\") for x in episodeDf['episode_descriptions']]\n",
    "episodeDf['episode_names'] = [x.split(\"\\',\") for x in episodeDf['episode_names']]"
   ]
  },
  {
   "cell_type": "code",
   "execution_count": 59,
   "metadata": {
    "collapsed": false
   },
   "outputs": [],
   "source": [
    "test_description = episodeDf.iloc[0:10]['episode_descriptions']"
   ]
  },
  {
   "cell_type": "code",
   "execution_count": 68,
   "metadata": {
    "collapsed": true
   },
   "outputs": [],
   "source": [
    "def clean_text(text):\n",
    "    # remove mixed alphanumeric\n",
    "    text = re.sub(r\"\"\"(?x) # verbose regex\n",
    "                            \\b    # Start of word\n",
    "                            (?=   # Look ahead to ensure that this word contains...\n",
    "                             \\w*  # (after any number of alphanumeric characters)\n",
    "                             \\d   # ...at least one digit.\n",
    "                            )     # End of lookahead\n",
    "                            \\w+   # Match the alphanumeric word\n",
    "                            \\s*   # Match any following whitespace\"\"\", \n",
    "                             \"\", text)\n",
    "    \n",
    "    # remove urls\n",
    "    text = re.sub(r'\\s([\\S]*.com[\\S]*)\\b', '', text)\n",
    "    text = re.sub(r'\\s([\\S]*.org[\\S]*)\\b', '', text)\n",
    "\n",
    "    \n",
    "    \n",
    "    # remove non-alphanumeric, non-space\n",
    "    text = re.sub(r'([^\\s\\w]|_)+', '', text)\n",
    "    \n",
    "    \n",
    "    \n",
    "    return text"
   ]
  },
  {
   "cell_type": "code",
   "execution_count": 75,
   "metadata": {
    "collapsed": false
   },
   "outputs": [],
   "source": [
    "clean_episode_description = []\n",
    "for pod in episodeDf['episode_descriptions']:\n",
    "    clean_list = []\n",
    "    for ep in pod:\n",
    "        clean_list.append(clean_text(ep))\n",
    "    clean_episode_description.append(clean_list)\n",
    "\n",
    "#episodeDf['episode_descriptions'] = [clean_text(ep) for pod in episodeDf['episode_descriptions'] for ep in pod]\n",
    "    "
   ]
  },
  {
   "cell_type": "code",
   "execution_count": 78,
   "metadata": {
    "collapsed": false
   },
   "outputs": [
    {
     "name": "stderr",
     "output_type": "stream",
     "text": [
      "/anaconda/lib/python2.7/site-packages/ipykernel/__main__.py:1: SettingWithCopyWarning: \n",
      "A value is trying to be set on a copy of a slice from a DataFrame.\n",
      "Try using .loc[row_indexer,col_indexer] = value instead\n",
      "\n",
      "See the caveats in the documentation: http://pandas.pydata.org/pandas-docs/stable/indexing.html#indexing-view-versus-copy\n",
      "  if __name__ == '__main__':\n"
     ]
    }
   ],
   "source": [
    "episodeDf['clean_episode_description'] = clean_episode_description"
   ]
  },
  {
   "cell_type": "code",
   "execution_count": 80,
   "metadata": {
    "collapsed": false
   },
   "outputs": [],
   "source": [
    "clean_episode_name = []\n",
    "for pod in episodeDf['episode_names']:\n",
    "    clean_list = []\n",
    "    for ep in pod:\n",
    "        clean_list.append(clean_text(ep))\n",
    "    clean_episode_name.append(clean_list)"
   ]
  },
  {
   "cell_type": "code",
   "execution_count": 81,
   "metadata": {
    "collapsed": false
   },
   "outputs": [
    {
     "name": "stderr",
     "output_type": "stream",
     "text": [
      "/anaconda/lib/python2.7/site-packages/ipykernel/__main__.py:1: SettingWithCopyWarning: \n",
      "A value is trying to be set on a copy of a slice from a DataFrame.\n",
      "Try using .loc[row_indexer,col_indexer] = value instead\n",
      "\n",
      "See the caveats in the documentation: http://pandas.pydata.org/pandas-docs/stable/indexing.html#indexing-view-versus-copy\n",
      "  if __name__ == '__main__':\n"
     ]
    }
   ],
   "source": [
    "episodeDf['clean_episode_name'] = clean_episode_name"
   ]
  },
  {
   "cell_type": "code",
   "execution_count": 82,
   "metadata": {
    "collapsed": false
   },
   "outputs": [
    {
     "data": {
      "text/html": [
       "<div>\n",
       "<table border=\"1\" class=\"dataframe\">\n",
       "  <thead>\n",
       "    <tr style=\"text-align: right;\">\n",
       "      <th></th>\n",
       "      <th>collection_id</th>\n",
       "      <th>episode_descriptions</th>\n",
       "      <th>episode_names</th>\n",
       "      <th>clean_episode_description</th>\n",
       "      <th>clean_episode_name</th>\n",
       "    </tr>\n",
       "  </thead>\n",
       "  <tbody>\n",
       "    <tr>\n",
       "      <th>0</th>\n",
       "      <td>515836681</td>\n",
       "      <td>[['In this episode of \"A Cast of Kings,\" Joann...</td>\n",
       "      <td>[['A Cast of Kings S1E10 - Fire and Blood,  'A...</td>\n",
       "      <td>[In this episode of A Cast of Kings Joanna and...</td>\n",
       "      <td>[A Cast of Kings  Fire and Blood,  A Cast of K...</td>\n",
       "    </tr>\n",
       "    <tr>\n",
       "      <th>1</th>\n",
       "      <td>126723118</td>\n",
       "      <td>[['Insurance news, interviews, rating announce...</td>\n",
       "      <td>[['BestDay - Friday, January 22, 2016,  'BestD...</td>\n",
       "      <td>[Insurance news interviews rating announcement...</td>\n",
       "      <td>[BestDay  Friday January  ,  BestDay  Thursday...</td>\n",
       "    </tr>\n",
       "    <tr>\n",
       "      <th>2</th>\n",
       "      <td>699748055</td>\n",
       "      <td>[[\"They said they'd do it and they're followin...</td>\n",
       "      <td>[['Embrace the Spoilers: \"Star Wars: The Force...</td>\n",
       "      <td>[They said theyd do it and theyre following th...</td>\n",
       "      <td>[Embrace the Spoilers Star Wars The Force Awak...</td>\n",
       "    </tr>\n",
       "    <tr>\n",
       "      <th>3</th>\n",
       "      <td>80693391</td>\n",
       "      <td>[['Adultery is a very real danger to every mar...</td>\n",
       "      <td>[['\"How to Divorce-Proof Your Marriage - II\", ...</td>\n",
       "      <td>[Adultery is a very real danger to every marri...</td>\n",
       "      <td>[How to DivorceProof Your Marriage  II,  How t...</td>\n",
       "    </tr>\n",
       "    <tr>\n",
       "      <th>4</th>\n",
       "      <td>579605641</td>\n",
       "      <td>[['hai, toiukotode, Jin Hui de10Hui Mu noHeng ...</td>\n",
       "      <td>[['yuku2015Nian kuru2016Nian ~ He Zheng ,  'ar...</td>\n",
       "      <td>[hai toiukotode Jin Hui Mu noHeng Li Ji Li Yua...</td>\n",
       "      <td>[ He Zheng ,  Nian Te Fan woShu Hui niDu tsute...</td>\n",
       "    </tr>\n",
       "  </tbody>\n",
       "</table>\n",
       "</div>"
      ],
      "text/plain": [
       "   collection_id                               episode_descriptions  \\\n",
       "0      515836681  [['In this episode of \"A Cast of Kings,\" Joann...   \n",
       "1      126723118  [['Insurance news, interviews, rating announce...   \n",
       "2      699748055  [[\"They said they'd do it and they're followin...   \n",
       "3       80693391  [['Adultery is a very real danger to every mar...   \n",
       "4      579605641  [['hai, toiukotode, Jin Hui de10Hui Mu noHeng ...   \n",
       "\n",
       "                                       episode_names  \\\n",
       "0  [['A Cast of Kings S1E10 - Fire and Blood,  'A...   \n",
       "1  [['BestDay - Friday, January 22, 2016,  'BestD...   \n",
       "2  [['Embrace the Spoilers: \"Star Wars: The Force...   \n",
       "3  [['\"How to Divorce-Proof Your Marriage - II\", ...   \n",
       "4  [['yuku2015Nian kuru2016Nian ~ He Zheng ,  'ar...   \n",
       "\n",
       "                           clean_episode_description  \\\n",
       "0  [In this episode of A Cast of Kings Joanna and...   \n",
       "1  [Insurance news interviews rating announcement...   \n",
       "2  [They said theyd do it and theyre following th...   \n",
       "3  [Adultery is a very real danger to every marri...   \n",
       "4  [hai toiukotode Jin Hui Mu noHeng Li Ji Li Yua...   \n",
       "\n",
       "                                  clean_episode_name  \n",
       "0  [A Cast of Kings  Fire and Blood,  A Cast of K...  \n",
       "1  [BestDay  Friday January  ,  BestDay  Thursday...  \n",
       "2  [Embrace the Spoilers Star Wars The Force Awak...  \n",
       "3  [How to DivorceProof Your Marriage  II,  How t...  \n",
       "4  [ He Zheng ,  Nian Te Fan woShu Hui niDu tsute...  "
      ]
     },
     "execution_count": 82,
     "metadata": {},
     "output_type": "execute_result"
    }
   ],
   "source": [
    "episodeDf.head()"
   ]
  },
  {
   "cell_type": "code",
   "execution_count": 83,
   "metadata": {
    "collapsed": true
   },
   "outputs": [],
   "source": [
    "del episodeDf['episode_descriptions']\n",
    "del episodeDf['episode_names']"
   ]
  },
  {
   "cell_type": "code",
   "execution_count": 84,
   "metadata": {
    "collapsed": false
   },
   "outputs": [
    {
     "data": {
      "text/plain": [
       "Index([               u'artist_id',              u'artist_name',\n",
       "                u'artist_view_url',           u'artwork_url100',\n",
       "                  u'artwork_url30',            u'artwork_url60',\n",
       "                 u'artwork_url600', u'collection_censored_name',\n",
       "        u'collection_explicitness',      u'collection_hd_price',\n",
       "                  u'collection_id',          u'collection_name',\n",
       "               u'collection_price',      u'collection_view_url',\n",
       "        u'content_advisory_rating',                  u'country',\n",
       "                       u'currency',                 u'feed_url',\n",
       "                      u'genre_ids',                   u'genres',\n",
       "                             u'id',                     u'kind',\n",
       "             u'primary_genre_name',        u'radio_station_url',\n",
       "                   u'release_date',      u'track_censored_name',\n",
       "                    u'track_count',       u'track_explicitness',\n",
       "                 u'track_hd_price',    u'track_hd_rental_price',\n",
       "                       u'track_id',               u'track_name',\n",
       "                    u'track_price',       u'track_rental_price',\n",
       "                 u'track_view_url',             u'wrapper_type',\n",
       "                u'also_subscribed',     u'episode_descriptions',\n",
       "                  u'episode_names',          u'podcast_summary',\n",
       "                       u'language'],\n",
       "      dtype='object')"
      ]
     },
     "execution_count": 84,
     "metadata": {},
     "output_type": "execute_result"
    }
   ],
   "source": [
    "podcastDf.columns"
   ]
  },
  {
   "cell_type": "code",
   "execution_count": 85,
   "metadata": {
    "collapsed": true
   },
   "outputs": [],
   "source": [
    "del podcastDf['episode_descriptions']\n",
    "del podcastDf['episode_names']"
   ]
  },
  {
   "cell_type": "code",
   "execution_count": 86,
   "metadata": {
    "collapsed": true
   },
   "outputs": [],
   "source": [
    "podcastDf = pd.merge(podcastDf, episodeDf, how = 'inner', on='collection_id')"
   ]
  },
  {
   "cell_type": "code",
   "execution_count": 89,
   "metadata": {
    "collapsed": false
   },
   "outputs": [],
   "source": [
    "# clean podcast summary\n",
    "podcastDf['podcast_summary'] = [clean_text(x) for x in podcastDf['podcast_summary']]"
   ]
  },
  {
   "cell_type": "code",
   "execution_count": 92,
   "metadata": {
    "collapsed": false
   },
   "outputs": [],
   "source": [
    "# save clean data\n",
    "podcastDf.to_pickle('pkl/clean_podcast_data.pkl')"
   ]
  },
  {
   "cell_type": "code",
   "execution_count": null,
   "metadata": {
    "collapsed": true
   },
   "outputs": [],
   "source": []
  }
 ],
 "metadata": {
  "kernelspec": {
   "display_name": "Python 2",
   "language": "python",
   "name": "python2"
  },
  "language_info": {
   "codemirror_mode": {
    "name": "ipython",
    "version": 2
   },
   "file_extension": ".py",
   "mimetype": "text/x-python",
   "name": "python",
   "nbconvert_exporter": "python",
   "pygments_lexer": "ipython2",
   "version": "2.7.10"
  }
 },
 "nbformat": 4,
 "nbformat_minor": 0
}
