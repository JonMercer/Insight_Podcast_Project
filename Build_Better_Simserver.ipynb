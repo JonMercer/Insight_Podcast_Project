{
 "cells": [
  {
   "cell_type": "code",
   "execution_count": 41,
   "metadata": {
    "collapsed": true
   },
   "outputs": [],
   "source": [
    "from gensim import utils, corpora, models, similarities\n",
    "from simserver import SessionServer\n",
    "import simserver\n",
    "import pandas as pd\n",
    "import numpy as np\n",
    "import logging\n",
    "logging.basicConfig(format='%(asctime)s : %(levelname)s : %(message)s', level=logging.INFO)"
   ]
  },
  {
   "cell_type": "code",
   "execution_count": 42,
   "metadata": {
    "collapsed": false
   },
   "outputs": [
    {
     "name": "stderr",
     "output_type": "stream",
     "text": [
      "ERROR:sqlitedict:failed to delete /var/folders/hg/kw83c_j57xqd055hr739mhvm0000gn/T/sqldict903ddb\n",
      "Traceback (most recent call last):\n",
      "  File \"//anaconda/lib/python2.7/site-packages/sqlitedict.py\", line 283, in terminate\n",
      "    os.remove(self.filename)\n",
      "OSError: [Errno 2] No such file or directory: '/var/folders/hg/kw83c_j57xqd055hr739mhvm0000gn/T/sqldict903ddb'\n"
     ]
    }
   ],
   "source": [
    "server = SessionServer('/tmp/simserver/')"
   ]
  },
  {
   "cell_type": "code",
   "execution_count": 43,
   "metadata": {
    "collapsed": true
   },
   "outputs": [],
   "source": [
    "preproc_text = pd.read_pickle('gensim/preprocessed_text_v2.pkl')"
   ]
  },
  {
   "cell_type": "code",
   "execution_count": 44,
   "metadata": {
    "collapsed": true
   },
   "outputs": [],
   "source": [
    "corpus = [{'id' : int(x['id']),\n",
    "           'tokens' : x['text']}\n",
    "         for ind, x in preproc_text.iterrows()]"
   ]
  },
  {
   "cell_type": "code",
   "execution_count": 50,
   "metadata": {
    "collapsed": false
   },
   "outputs": [
    {
     "data": {
      "text/html": [
       "<div>\n",
       "<table border=\"1\" class=\"dataframe\">\n",
       "  <thead>\n",
       "    <tr style=\"text-align: right;\">\n",
       "      <th></th>\n",
       "      <th>id</th>\n",
       "      <th>language</th>\n",
       "      <th>text</th>\n",
       "    </tr>\n",
       "  </thead>\n",
       "  <tbody>\n",
       "    <tr>\n",
       "      <th>0</th>\n",
       "      <td>16392</td>\n",
       "      <td>English</td>\n",
       "      <td>[host, review, favorit, favorit, classic, pro,...</td>\n",
       "    </tr>\n",
       "    <tr>\n",
       "      <th>0</th>\n",
       "      <td>18489</td>\n",
       "      <td>English</td>\n",
       "      <td>[everyon, need, hope, everyon, need, encourag,...</td>\n",
       "    </tr>\n",
       "    <tr>\n",
       "      <th>0</th>\n",
       "      <td>12350</td>\n",
       "      <td>English</td>\n",
       "      <td>[insur, news, interview, rate, announc, insur,...</td>\n",
       "    </tr>\n",
       "    <tr>\n",
       "      <th>0</th>\n",
       "      <td>12351</td>\n",
       "      <td>English</td>\n",
       "      <td>[amovetv, crew, talk, video, game, esport, lot...</td>\n",
       "    </tr>\n",
       "    <tr>\n",
       "      <th>0</th>\n",
       "      <td>12352</td>\n",
       "      <td>English</td>\n",
       "      <td>[pastor, greg, lauri, thirtyminut, daili, radi...</td>\n",
       "    </tr>\n",
       "  </tbody>\n",
       "</table>\n",
       "</div>"
      ],
      "text/plain": [
       "      id language                                               text\n",
       "0  16392  English  [host, review, favorit, favorit, classic, pro,...\n",
       "0  18489  English  [everyon, need, hope, everyon, need, encourag,...\n",
       "0  12350  English  [insur, news, interview, rate, announc, insur,...\n",
       "0  12351  English  [amovetv, crew, talk, video, game, esport, lot...\n",
       "0  12352  English  [pastor, greg, lauri, thirtyminut, daili, radi..."
      ]
     },
     "execution_count": 50,
     "metadata": {},
     "output_type": "execute_result"
    }
   ],
   "source": [
    "preproc_text.head()"
   ]
  },
  {
   "cell_type": "code",
   "execution_count": 45,
   "metadata": {
    "collapsed": true
   },
   "outputs": [],
   "source": [
    "# upload corpus to server\n",
    "utils.upload_chunked(server, corpus, chunksize=1000)"
   ]
  },
  {
   "cell_type": "code",
   "execution_count": 46,
   "metadata": {
    "collapsed": false
   },
   "outputs": [
    {
     "name": "stderr",
     "output_type": "stream",
     "text": [
      "ERROR:sqlitedict:failed to delete /var/folders/hg/kw83c_j57xqd055hr739mhvm0000gn/T/sqldict274df\n",
      "Traceback (most recent call last):\n",
      "  File \"//anaconda/lib/python2.7/site-packages/sqlitedict.py\", line 283, in terminate\n",
      "    os.remove(self.filename)\n",
      "OSError: [Errno 2] No such file or directory: '/var/folders/hg/kw83c_j57xqd055hr739mhvm0000gn/T/sqldict274df'\n",
      "ERROR:sqlitedict:failed to delete /var/folders/hg/kw83c_j57xqd055hr739mhvm0000gn/T/sqldictc60d3\n",
      "Traceback (most recent call last):\n",
      "  File \"//anaconda/lib/python2.7/site-packages/sqlitedict.py\", line 283, in terminate\n",
      "    os.remove(self.filename)\n",
      "OSError: [Errno 2] No such file or directory: '/var/folders/hg/kw83c_j57xqd055hr739mhvm0000gn/T/sqldictc60d3'\n",
      "ERROR:sqlitedict:failed to delete /var/folders/hg/kw83c_j57xqd055hr739mhvm0000gn/T/sqldictbe83c5\n",
      "Traceback (most recent call last):\n",
      "  File \"//anaconda/lib/python2.7/site-packages/sqlitedict.py\", line 283, in terminate\n",
      "    os.remove(self.filename)\n",
      "OSError: [Errno 2] No such file or directory: '/var/folders/hg/kw83c_j57xqd055hr739mhvm0000gn/T/sqldictbe83c5'\n"
     ]
    }
   ],
   "source": [
    "# train server (uses LSI and default dimensionality of 400 over a TF-IDF representation)\n",
    "server.train(corpus, method='lsi')"
   ]
  },
  {
   "cell_type": "code",
   "execution_count": 47,
   "metadata": {
    "collapsed": false
   },
   "outputs": [
    {
     "name": "stderr",
     "output_type": "stream",
     "text": [
      "ERROR:sqlitedict:failed to delete /var/folders/hg/kw83c_j57xqd055hr739mhvm0000gn/T/sqldict3f48ee\n",
      "Traceback (most recent call last):\n",
      "  File \"//anaconda/lib/python2.7/site-packages/sqlitedict.py\", line 283, in terminate\n",
      "    os.remove(self.filename)\n",
      "OSError: [Errno 2] No such file or directory: '/var/folders/hg/kw83c_j57xqd055hr739mhvm0000gn/T/sqldict3f48ee'\n",
      "ERROR:sqlitedict:failed to delete /var/folders/hg/kw83c_j57xqd055hr739mhvm0000gn/T/sqldictf266d9\n",
      "Traceback (most recent call last):\n",
      "  File \"//anaconda/lib/python2.7/site-packages/sqlitedict.py\", line 283, in terminate\n",
      "    os.remove(self.filename)\n",
      "OSError: [Errno 2] No such file or directory: '/var/folders/hg/kw83c_j57xqd055hr739mhvm0000gn/T/sqldictf266d9'\n",
      "ERROR:sqlitedict:failed to delete /var/folders/hg/kw83c_j57xqd055hr739mhvm0000gn/T/sqldict4ee475\n",
      "Traceback (most recent call last):\n",
      "  File \"//anaconda/lib/python2.7/site-packages/sqlitedict.py\", line 283, in terminate\n",
      "    os.remove(self.filename)\n",
      "OSError: [Errno 2] No such file or directory: '/var/folders/hg/kw83c_j57xqd055hr739mhvm0000gn/T/sqldict4ee475'\n"
     ]
    }
   ],
   "source": [
    "# index documents we trained on\n",
    "server.index(corpus)"
   ]
  },
  {
   "cell_type": "code",
   "execution_count": 51,
   "metadata": {
    "collapsed": false
   },
   "outputs": [
    {
     "data": {
      "text/plain": [
       "[('12352', 0.9999999403953552, None),\n",
       " ('14750', 0.6050654649734497, None),\n",
       " ('13187', 0.5843561291694641, None),\n",
       " ('12704', 0.582093358039856, None),\n",
       " ('13161', 0.581702470779419, None),\n",
       " ('12713', 0.5795562267303467, None),\n",
       " ('14749', 0.577563464641571, None),\n",
       " ('15572', 0.576737642288208, None),\n",
       " ('12995', 0.5716740489006042, None),\n",
       " ('13495', 0.569753885269165, None),\n",
       " ('13575', 0.567162811756134, None),\n",
       " ('17974', 0.5638824701309204, None),\n",
       " ('16431', 0.5635524988174438, None),\n",
       " ('12966', 0.5620397329330444, None),\n",
       " ('12638', 0.5609506368637085, None),\n",
       " ('13361', 0.5493387579917908, None),\n",
       " ('18501', 0.5474936962127686, None),\n",
       " ('13542', 0.5447313785552979, None),\n",
       " ('14310', 0.544440507888794, None),\n",
       " ('12997', 0.5440084338188171, None),\n",
       " ('12991', 0.5435882806777954, None),\n",
       " ('13619', 0.542359471321106, None),\n",
       " ('12927', 0.5351123213768005, None),\n",
       " ('15853', 0.5350795388221741, None),\n",
       " ('13420', 0.5290814638137817, None),\n",
       " ('13352', 0.5258800983428955, None),\n",
       " ('17298', 0.5246575474739075, None),\n",
       " ('13004', 0.521208643913269, None),\n",
       " ('12486', 0.5209083557128906, None),\n",
       " ('17457', 0.5160309672355652, None),\n",
       " ('13060', 0.5116598606109619, None),\n",
       " ('16288', 0.511576235294342, None),\n",
       " ('13228', 0.5107397437095642, None),\n",
       " ('13414', 0.5082435011863708, None),\n",
       " ('18487', 0.5057471394538879, None),\n",
       " ('12381', 0.5052161812782288, None),\n",
       " ('13434', 0.5033133625984192, None),\n",
       " ('15459', 0.5021969676017761, None),\n",
       " ('16810', 0.5007847547531128, None),\n",
       " ('17097', 0.4983360171318054, None),\n",
       " ('13418', 0.4975786805152893, None),\n",
       " ('13574', 0.49729740619659424, None),\n",
       " ('13433', 0.4940148591995239, None),\n",
       " ('13380', 0.4925793409347534, None),\n",
       " ('13524', 0.48913466930389404, None),\n",
       " ('13532', 0.48772668838500977, None),\n",
       " ('12744', 0.48380589485168457, None),\n",
       " ('13193', 0.48094597458839417, None),\n",
       " ('16146', 0.4775238037109375, None),\n",
       " ('13529', 0.474206805229187, None),\n",
       " ('13299', 0.474100798368454, None),\n",
       " ('13039', 0.4672074019908905, None),\n",
       " ('12707', 0.4621438980102539, None),\n",
       " ('18384', 0.46133607625961304, None),\n",
       " ('12869', 0.45762723684310913, None),\n",
       " ('14249', 0.457302987575531, None),\n",
       " ('17469', 0.4564186632633209, None),\n",
       " ('12633', 0.45095235109329224, None),\n",
       " ('14436', 0.4508306384086609, None),\n",
       " ('13639', 0.44881847500801086, None),\n",
       " ('17694', 0.44467097520828247, None),\n",
       " ('13415', 0.4420607089996338, None),\n",
       " ('13474', 0.43643060326576233, None),\n",
       " ('13657', 0.4364207983016968, None),\n",
       " ('13242', 0.43623799085617065, None),\n",
       " ('16131', 0.4128839373588562, None),\n",
       " ('17747', 0.41167232394218445, None),\n",
       " ('13351', 0.40902891755104065, None),\n",
       " ('12854', 0.4017791748046875, None),\n",
       " ('13001', 0.4005966782569885, None),\n",
       " ('13364', 0.38305288553237915, None),\n",
       " ('12856', 0.37743687629699707, None),\n",
       " ('12743', 0.37624943256378174, None),\n",
       " ('13368', 0.3686710596084595, None),\n",
       " ('17743', 0.36608150601387024, None),\n",
       " ('13417', 0.3638298213481903, None),\n",
       " ('13424', 0.35460200905799866, None),\n",
       " ('14377', 0.3525359332561493, None),\n",
       " ('13442', 0.35246938467025757, None),\n",
       " ('13078', 0.352199912071228, None),\n",
       " ('13562', 0.35066065192222595, None),\n",
       " ('17372', 0.34877073764801025, None),\n",
       " ('12654', 0.3479841351509094, None),\n",
       " ('16610', 0.34725672006607056, None),\n",
       " ('13232', 0.34669581055641174, None),\n",
       " ('15821', 0.34614476561546326, None),\n",
       " ('16603', 0.3438248932361603, None),\n",
       " ('12994', 0.33771824836730957, None),\n",
       " ('18229', 0.33719199895858765, None),\n",
       " ('12998', 0.33631986379623413, None),\n",
       " ('14374', 0.3360239267349243, None),\n",
       " ('18162', 0.33200183510780334, None),\n",
       " ('12762', 0.3310807943344116, None),\n",
       " ('13335', 0.32615000009536743, None),\n",
       " ('13640', 0.3256824016571045, None),\n",
       " ('13573', 0.32458236813545227, None),\n",
       " ('15045', 0.32021164894104004, None),\n",
       " ('14627', 0.3137122094631195, None),\n",
       " ('17825', 0.3104119598865509, None),\n",
       " ('13327', 0.30973681807518005, None)]"
      ]
     },
     "execution_count": 51,
     "metadata": {},
     "output_type": "execute_result"
    }
   ],
   "source": [
    "# query for similar documents\n",
    "sim_result = server.find_similar('12352')\n",
    "sim_result"
   ]
  },
  {
   "cell_type": "code",
   "execution_count": 11,
   "metadata": {
    "collapsed": false
   },
   "outputs": [
    {
     "name": "stderr",
     "output_type": "stream",
     "text": [
      "ERROR:sqlitedict:failed to delete /var/folders/hg/kw83c_j57xqd055hr739mhvm0000gn/T/sqldict8fa077\n",
      "Traceback (most recent call last):\n",
      "  File \"//anaconda/lib/python2.7/site-packages/sqlitedict.py\", line 283, in terminate\n",
      "    os.remove(self.filename)\n",
      "OSError: [Errno 2] No such file or directory: '/var/folders/hg/kw83c_j57xqd055hr739mhvm0000gn/T/sqldict8fa077'\n"
     ]
    }
   ],
   "source": [
    "server.optimize()"
   ]
  },
  {
   "cell_type": "code",
   "execution_count": 12,
   "metadata": {
    "collapsed": false
   },
   "outputs": [
    {
     "name": "stdout",
     "output_type": "stream",
     "text": [
      "1 loops, best of 3: 3.34 s per loop\n"
     ]
    }
   ],
   "source": [
    "%timeit sim_result = server.find_similar('18183', max_results = 5000)"
   ]
  },
  {
   "cell_type": "code",
   "execution_count": 22,
   "metadata": {
    "collapsed": false
   },
   "outputs": [],
   "source": [
    "index = similarities.MatrixSimilarity.load('/tmp/simserver/a/index_fresh.idx.0')"
   ]
  },
  {
   "cell_type": "code",
   "execution_count": 23,
   "metadata": {
    "collapsed": false
   },
   "outputs": [
    {
     "name": "stdout",
     "output_type": "stream",
     "text": [
      "MatrixSimilarity<5804 docs, 400 features>\n"
     ]
    }
   ],
   "source": [
    "print index"
   ]
  },
  {
   "cell_type": "code",
   "execution_count": 32,
   "metadata": {
    "collapsed": false
   },
   "outputs": [
    {
     "data": {
      "text/plain": [
       "(5804, 400)"
      ]
     },
     "execution_count": 32,
     "metadata": {},
     "output_type": "execute_result"
    }
   ],
   "source": [
    "index.index.shape"
   ]
  },
  {
   "cell_type": "code",
   "execution_count": 34,
   "metadata": {
    "collapsed": false
   },
   "outputs": [],
   "source": [
    "sim_test = index.get_similarities(index.index[0])"
   ]
  },
  {
   "cell_type": "code",
   "execution_count": 38,
   "metadata": {
    "collapsed": false
   },
   "outputs": [],
   "source": [
    "# initialize similarit\n",
    "sim_matrix = np.zeros([5804,5804])"
   ]
  },
  {
   "cell_type": "code",
   "execution_count": 39,
   "metadata": {
    "collapsed": true
   },
   "outputs": [],
   "source": [
    "sim_matrix[0,] = sim_test"
   ]
  },
  {
   "cell_type": "code",
   "execution_count": 40,
   "metadata": {
    "collapsed": false
   },
   "outputs": [
    {
     "data": {
      "text/plain": [
       "array([[ 0.99999988,  0.04214434, -0.01995548, ..., -0.00236259,\n",
       "         0.09006798,  0.0032719 ],\n",
       "       [ 0.        ,  0.        ,  0.        , ...,  0.        ,\n",
       "         0.        ,  0.        ],\n",
       "       [ 0.        ,  0.        ,  0.        , ...,  0.        ,\n",
       "         0.        ,  0.        ],\n",
       "       ..., \n",
       "       [ 0.        ,  0.        ,  0.        , ...,  0.        ,\n",
       "         0.        ,  0.        ],\n",
       "       [ 0.        ,  0.        ,  0.        , ...,  0.        ,\n",
       "         0.        ,  0.        ],\n",
       "       [ 0.        ,  0.        ,  0.        , ...,  0.        ,\n",
       "         0.        ,  0.        ]])"
      ]
     },
     "execution_count": 40,
     "metadata": {},
     "output_type": "execute_result"
    }
   ],
   "source": [
    "sim_matrix"
   ]
  },
  {
   "cell_type": "code",
   "execution_count": null,
   "metadata": {
    "collapsed": true
   },
   "outputs": [],
   "source": []
  }
 ],
 "metadata": {
  "kernelspec": {
   "display_name": "Python 2",
   "language": "python",
   "name": "python2"
  },
  "language_info": {
   "codemirror_mode": {
    "name": "ipython",
    "version": 2
   },
   "file_extension": ".py",
   "mimetype": "text/x-python",
   "name": "python",
   "nbconvert_exporter": "python",
   "pygments_lexer": "ipython2",
   "version": "2.7.10"
  }
 },
 "nbformat": 4,
 "nbformat_minor": 0
}
