{
 "cells": [
  {
   "cell_type": "code",
   "execution_count": 73,
   "metadata": {
    "collapsed": true
   },
   "outputs": [],
   "source": [
    "import Pyro4\n",
    "import pandas as pd\n",
    "import numpy as np\n",
    "import psycopg2\n",
    "from sklearn import manifold\n",
    "from matplotlib import pyplot as plt\n",
    "from matplotlib.collections import LineCollection\n",
    "%matplotlib inline"
   ]
  },
  {
   "cell_type": "code",
   "execution_count": 30,
   "metadata": {
    "collapsed": false
   },
   "outputs": [],
   "source": [
    "# connect to db\n",
    "user = 'lindsay'         \n",
    "host = 'localhost'\n",
    "dbname = 'podcast'\n",
    "con = None\n",
    "con = psycopg2.connect(database = dbname, user = user)\n",
    "cursor = con.cursor()\n",
    "\n",
    "# connect to simserver\n",
    "service = Pyro4.Proxy(Pyro4.locateNS().lookup('gensim.testserver'))"
   ]
  },
  {
   "cell_type": "code",
   "execution_count": 43,
   "metadata": {
    "collapsed": true
   },
   "outputs": [],
   "source": [
    "# load distance matrix\n",
    "distance_matrix = np.load('gensim/distance_matrix.npy')"
   ]
  },
  {
   "cell_type": "code",
   "execution_count": 31,
   "metadata": {
    "collapsed": true
   },
   "outputs": [],
   "source": [
    "# retrieve top 100 similarities for a podcast\n",
    "sim_results = service.find_similar('17233')"
   ]
  },
  {
   "cell_type": "code",
   "execution_count": 90,
   "metadata": {
    "collapsed": true
   },
   "outputs": [],
   "source": [
    "# download the list of podcast IDs\n",
    "pod_ids = pd.read_sql_query(\"SELECT id, name FROM podcast;\", con)"
   ]
  },
  {
   "cell_type": "code",
   "execution_count": 92,
   "metadata": {
    "collapsed": false
   },
   "outputs": [],
   "source": [
    "# filter for top 100\n",
    "sim_results_ids = [int(x[0]) for x in sim_results]\n",
    "pod_ids = pod_ids[pod_ids['id'].isin(sim_results_ids)]"
   ]
  },
  {
   "cell_type": "code",
   "execution_count": 69,
   "metadata": {
    "collapsed": false
   },
   "outputs": [],
   "source": [
    "# select rows/columns from distance_matrix\n",
    "sub_matrix = distance_matrix[pod_ids.index,:][:,pod_ids.index]"
   ]
  },
  {
   "cell_type": "code",
   "execution_count": 70,
   "metadata": {
    "collapsed": false
   },
   "outputs": [
    {
     "data": {
      "text/plain": [
       "(100, 100)"
      ]
     },
     "execution_count": 70,
     "metadata": {},
     "output_type": "execute_result"
    }
   ],
   "source": [
    "sub_matrix.shape"
   ]
  },
  {
   "cell_type": "code",
   "execution_count": 80,
   "metadata": {
    "collapsed": false
   },
   "outputs": [],
   "source": [
    "mds = manifold.MDS(dissimilarity=\"precomputed\")"
   ]
  },
  {
   "cell_type": "code",
   "execution_count": 81,
   "metadata": {
    "collapsed": false
   },
   "outputs": [],
   "source": [
    "mds2d = mds.fit(sub_matrix).embedding_"
   ]
  },
  {
   "cell_type": "code",
   "execution_count": 89,
   "metadata": {
    "collapsed": false
   },
   "outputs": [
    {
     "data": {
      "text/plain": [
       "<matplotlib.collections.PathCollection at 0x1228337d0>"
      ]
     },
     "execution_count": 89,
     "metadata": {},
     "output_type": "execute_result"
    },
    {
     "data": {
      "image/png": "[encoded data removed]",
      "text/plain": [
       "<matplotlib.figure.Figure at 0x12296dd90>"
      ]
     },
     "metadata": {},
     "output_type": "display_data"
    }
   ],
   "source": [
    "plt.scatter(mds2d[:,0], mds2d[:,1])"
   ]
  },
  {
   "cell_type": "code",
   "execution_count": 100,
   "metadata": {
    "collapsed": false
   },
   "outputs": [
    {
     "name": "stderr",
     "output_type": "stream",
     "text": [
      "/anaconda/lib/python2.7/site-packages/ipykernel/__main__.py:2: SettingWithCopyWarning: \n",
      "A value is trying to be set on a copy of a slice from a DataFrame.\n",
      "Try using .loc[row_indexer,col_indexer] = value instead\n",
      "\n",
      "See the caveats in the documentation: http://pandas.pydata.org/pandas-docs/stable/indexing.html#indexing-view-versus-copy\n",
      "  from ipykernel import kernelapp as app\n",
      "/anaconda/lib/python2.7/site-packages/ipykernel/__main__.py:3: SettingWithCopyWarning: \n",
      "A value is trying to be set on a copy of a slice from a DataFrame.\n",
      "Try using .loc[row_indexer,col_indexer] = value instead\n",
      "\n",
      "See the caveats in the documentation: http://pandas.pydata.org/pandas-docs/stable/indexing.html#indexing-view-versus-copy\n",
      "  app.launch_new_instance()\n"
     ]
    }
   ],
   "source": [
    "# add MDS x & y to pod_ids\n",
    "pod_ids['x_coord'] = mds2d[:,0].tolist()\n",
    "pod_ids['y_coord'] = mds2d[:,1].tolist()"
   ]
  },
  {
   "cell_type": "code",
   "execution_count": 107,
   "metadata": {
    "collapsed": false
   },
   "outputs": [
    {
     "name": "stderr",
     "output_type": "stream",
     "text": [
      "/anaconda/lib/python2.7/site-packages/ipykernel/__main__.py:1: SettingWithCopyWarning: \n",
      "A value is trying to be set on a copy of a slice from a DataFrame.\n",
      "Try using .loc[row_indexer,col_indexer] = value instead\n",
      "\n",
      "See the caveats in the documentation: http://pandas.pydata.org/pandas-docs/stable/indexing.html#indexing-view-versus-copy\n",
      "  if __name__ == '__main__':\n"
     ]
    }
   ],
   "source": [
    "pod_ids['searched'] = [False] * pod_ids.shape[0]"
   ]
  },
  {
   "cell_type": "code",
   "execution_count": 112,
   "metadata": {
    "collapsed": false
   },
   "outputs": [
    {
     "name": "stderr",
     "output_type": "stream",
     "text": [
      "/anaconda/lib/python2.7/site-packages/ipykernel/__main__.py:1: SettingWithCopyWarning: \n",
      "A value is trying to be set on a copy of a slice from a DataFrame.\n",
      "Try using .loc[row_indexer,col_indexer] = value instead\n",
      "\n",
      "See the caveats in the documentation: http://pandas.pydata.org/pandas-docs/stable/indexing.html#indexing-view-versus-copy\n",
      "  if __name__ == '__main__':\n"
     ]
    }
   ],
   "source": [
    "pod_ids.loc[pod_ids['id'] == podcast_id]['searched'] = True"
   ]
  },
  {
   "cell_type": "code",
   "execution_count": 126,
   "metadata": {
    "collapsed": false
   },
   "outputs": [
    {
     "name": "stderr",
     "output_type": "stream",
     "text": [
      "/anaconda/lib/python2.7/site-packages/ipykernel/__main__.py:1: SettingWithCopyWarning: \n",
      "A value is trying to be set on a copy of a slice from a DataFrame\n",
      "\n",
      "See the caveats in the documentation: http://pandas.pydata.org/pandas-docs/stable/indexing.html#indexing-view-versus-copy\n",
      "  if __name__ == '__main__':\n",
      "//anaconda/lib/python2.7/site-packages/pandas/core/generic.py:4059: SettingWithCopyWarning: \n",
      "A value is trying to be set on a copy of a slice from a DataFrame\n",
      "\n",
      "See the caveats in the documentation: http://pandas.pydata.org/pandas-docs/stable/indexing.html#indexing-view-versus-copy\n",
      "  self._update_inplace(new_data)\n",
      "//anaconda/lib/python2.7/site-packages/IPython/core/interactiveshell.py:3066: SettingWithCopyWarning: \n",
      "A value is trying to be set on a copy of a slice from a DataFrame\n",
      "\n",
      "See the caveats in the documentation: http://pandas.pydata.org/pandas-docs/stable/indexing.html#indexing-view-versus-copy\n",
      "  exec(code_obj, self.user_global_ns, self.user_ns)\n"
     ]
    }
   ],
   "source": [
    "pod_ids['searched'][pod_ids['id'] == podcast_id] = True"
   ]
  },
  {
   "cell_type": "code",
   "execution_count": 127,
   "metadata": {
    "collapsed": false
   },
   "outputs": [
    {
     "data": {
      "text/html": [
       "<div>\n",
       "<table border=\"1\" class=\"dataframe\">\n",
       "  <thead>\n",
       "    <tr style=\"text-align: right;\">\n",
       "      <th></th>\n",
       "      <th>id</th>\n",
       "      <th>name</th>\n",
       "      <th>x_coord</th>\n",
       "      <th>y_coord</th>\n",
       "      <th>searched</th>\n",
       "    </tr>\n",
       "  </thead>\n",
       "  <tbody>\n",
       "    <tr>\n",
       "      <th>1634</th>\n",
       "      <td>17233</td>\n",
       "      <td>Slate's Political Gabfest</td>\n",
       "      <td>0.423313</td>\n",
       "      <td>-0.000045</td>\n",
       "      <td>True</td>\n",
       "    </tr>\n",
       "  </tbody>\n",
       "</table>\n",
       "</div>"
      ],
      "text/plain": [
       "         id                       name   x_coord   y_coord searched\n",
       "1634  17233  Slate's Political Gabfest  0.423313 -0.000045     True"
      ]
     },
     "execution_count": 127,
     "metadata": {},
     "output_type": "execute_result"
    }
   ],
   "source": [
    "pod_ids[pod_ids['searched'] == True]"
   ]
  },
  {
   "cell_type": "code",
   "execution_count": 120,
   "metadata": {
    "collapsed": false
   },
   "outputs": [
    {
     "data": {
      "text/plain": [
       "Int64Index([1634], dtype='int64')"
      ]
     },
     "execution_count": 120,
     "metadata": {},
     "output_type": "execute_result"
    }
   ],
   "source": []
  },
  {
   "cell_type": "code",
   "execution_count": 128,
   "metadata": {
    "collapsed": false
   },
   "outputs": [
    {
     "data": {
      "text/plain": [
       "[(u'17233', 1.0, None),\n",
       " (u'17231', 0.895520269871, None),\n",
       " (u'17227', 0.861769497395, None),\n",
       " (u'17230', 0.848702907562, None),\n",
       " (u'17229', 0.84683072567, None),\n",
       " (u'17234', 0.750077009201, None),\n",
       " (u'17232', 0.457496285439, None),\n",
       " (u'17132', 0.43675583601, None),\n",
       " (u'14682', 0.422378510237, None),\n",
       " (u'12834', 0.333756119013, None),\n",
       " (u'14976', 0.327730834484, None),\n",
       " (u'17142', 0.304219514132, None),\n",
       " (u'13624', 0.296823740005, None),\n",
       " (u'15712', 0.284045040607, None),\n",
       " (u'15640', 0.269756823778, None),\n",
       " (u'14360', 0.263869285583, None),\n",
       " (u'13312', 0.23943784833, None),\n",
       " (u'12521', 0.230023130774, None),\n",
       " (u'16139', 0.22893191874, None),\n",
       " (u'17749', 0.227231472731, None),\n",
       " (u'16512', 0.222497597337, None),\n",
       " (u'15878', 0.218795180321, None),\n",
       " (u'13503', 0.208373144269, None),\n",
       " (u'18251', 0.207704767585, None),\n",
       " (u'16399', 0.207693621516, None),\n",
       " (u'12841', 0.201917544007, None),\n",
       " (u'15566', 0.201799347997, None),\n",
       " (u'16962', 0.200307190418, None),\n",
       " (u'15539', 0.197928950191, None),\n",
       " (u'16513', 0.195284634829, None),\n",
       " (u'17577', 0.194288656116, None),\n",
       " (u'17389', 0.192360848188, None),\n",
       " (u'15061', 0.190828502178, None),\n",
       " (u'17396', 0.187108874321, None),\n",
       " (u'15305', 0.186327010393, None),\n",
       " (u'17718', 0.183351144195, None),\n",
       " (u'13466', 0.182697817683, None),\n",
       " (u'17895', 0.182414755225, None),\n",
       " (u'14152', 0.181522995234, None),\n",
       " (u'15096', 0.180435806513, None),\n",
       " (u'16906', 0.174671411514, None),\n",
       " (u'15312', 0.173937007785, None),\n",
       " (u'16784', 0.173765465617, None),\n",
       " (u'12532', 0.173164218664, None),\n",
       " (u'14126', 0.171964332461, None),\n",
       " (u'16615', 0.169962331653, None),\n",
       " (u'13234', 0.167924627662, None),\n",
       " (u'15706', 0.167863324285, None),\n",
       " (u'13181', 0.167063176632, None),\n",
       " (u'15308', 0.164293542504, None),\n",
       " (u'18295', 0.161097571254, None),\n",
       " (u'15573', 0.159679219127, None),\n",
       " (u'13094', 0.158776298165, None),\n",
       " (u'17804', 0.157647579908, None),\n",
       " (u'18113', 0.15693116188, None),\n",
       " (u'14492', 0.156524568796, None),\n",
       " (u'18296', 0.15632095933, None),\n",
       " (u'15269', 0.155485719442, None),\n",
       " (u'13451', 0.154903158545, None),\n",
       " (u'16706', 0.153607964516, None),\n",
       " (u'15174', 0.15297472477, None),\n",
       " (u'13031', 0.152742505074, None),\n",
       " (u'17824', 0.152335777879, None),\n",
       " (u'14358', 0.15077495575, None),\n",
       " (u'13169', 0.150114744902, None),\n",
       " (u'12479', 0.148761168122, None),\n",
       " (u'15495', 0.147974386811, None),\n",
       " (u'12676', 0.146594941616, None),\n",
       " (u'17179', 0.146121218801, None),\n",
       " (u'17449', 0.145832940936, None),\n",
       " (u'16522', 0.1445427984, None),\n",
       " (u'15891', 0.143770933151, None),\n",
       " (u'18266', 0.141748696566, None),\n",
       " (u'15699', 0.141350612044, None),\n",
       " (u'13067', 0.139979973435, None),\n",
       " (u'18142', 0.139329463243, None),\n",
       " (u'12416', 0.139021009207, None),\n",
       " (u'16138', 0.13870640099, None),\n",
       " (u'16736', 0.137574017048, None),\n",
       " (u'13260', 0.137167528272, None),\n",
       " (u'16808', 0.137073248625, None),\n",
       " (u'17450', 0.136583134532, None),\n",
       " (u'14989', 0.135521814227, None),\n",
       " (u'18435', 0.135521531105, None),\n",
       " (u'16511', 0.135277554393, None),\n",
       " (u'14517', 0.134774416685, None),\n",
       " (u'18373', 0.13299433887, None),\n",
       " (u'13041', 0.13260640204, None),\n",
       " (u'14405', 0.132380485535, None),\n",
       " (u'15497', 0.130482897162, None),\n",
       " (u'15809', 0.130196511745, None),\n",
       " (u'15017', 0.129102408886, None),\n",
       " (u'13970', 0.128948584199, None),\n",
       " (u'12517', 0.128838479519, None),\n",
       " (u'12811', 0.128829583526, None),\n",
       " (u'15018', 0.128716289997, None),\n",
       " (u'14465', 0.128652647138, None),\n",
       " (u'16661', 0.128372341394, None),\n",
       " (u'14757', 0.128173738718, None),\n",
       " (u'13471', 0.127929970622, None)]"
      ]
     },
     "execution_count": 128,
     "metadata": {},
     "output_type": "execute_result"
    }
   ],
   "source": [
    "sim_results"
   ]
  },
  {
   "cell_type": "code",
   "execution_count": null,
   "metadata": {
    "collapsed": true
   },
   "outputs": [],
   "source": []
  }
 ],
 "metadata": {
  "kernelspec": {
   "display_name": "Python 2",
   "language": "python",
   "name": "python2"
  },
  "language_info": {
   "codemirror_mode": {
    "name": "ipython",
    "version": 2
   },
   "file_extension": ".py",
   "mimetype": "text/x-python",
   "name": "python",
   "nbconvert_exporter": "python",
   "pygments_lexer": "ipython2",
   "version": "2.7.10"
  }
 },
 "nbformat": 4,
 "nbformat_minor": 0
}
