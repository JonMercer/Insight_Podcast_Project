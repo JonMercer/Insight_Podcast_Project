{
 "cells": [
  {
   "cell_type": "code",
   "execution_count": 23,
   "metadata": {
    "collapsed": true
   },
   "outputs": [],
   "source": [
    "from gensim import corpora\n",
    "from collections import defaultdict\n",
    "import re\n",
    "import pandas as pd\n",
    "import logging\n",
    "logging.basicConfig(format='%(asctime)s : %(levelname)s : %(message)s', level=logging.INFO)"
   ]
  },
  {
   "cell_type": "code",
   "execution_count": 10,
   "metadata": {
    "collapsed": true
   },
   "outputs": [],
   "source": [
    "documents = pd.read_pickle('gensim/preprocessed_text.pkl')"
   ]
  },
  {
   "cell_type": "code",
   "execution_count": 11,
   "metadata": {
    "collapsed": true
   },
   "outputs": [],
   "source": [
    "# remove words that only appear once in all documents\n",
    "frequency = defaultdict(int)\n",
    "for text in documents['text']:\n",
    "    for token in text:\n",
    "        frequency[token] += 1\n",
    "        \n",
    "documents['text'] = [[token for token in text if frequency[token] > 1]\n",
    "              for text in documents['text']]"
   ]
  },
  {
   "cell_type": "code",
   "execution_count": 39,
   "metadata": {
    "collapsed": false
   },
   "outputs": [],
   "source": [
    "# still some web address tokens, so remove tokens containing 'http' or 'www'\n",
    "documents_no_web = pd.DataFrame(columns=documents.columns)\n",
    "for ind, row in documents.iterrows():\n",
    "    text = row['text']\n",
    "    new_text = []\n",
    "    for word in text:\n",
    "        if re.search(r'http', word):\n",
    "            continue\n",
    "        if re.search(r'www', word):\n",
    "            continue\n",
    "        new_text.append(word)\n",
    "    row['text'] = new_text\n",
    "    documents_no_web = documents_no_web.append(row)"
   ]
  },
  {
   "cell_type": "code",
   "execution_count": 40,
   "metadata": {
    "collapsed": true
   },
   "outputs": [],
   "source": [
    "# create dictionary\n",
    "dictionary = corpora.Dictionary(documents_no_web['text'])\n",
    "dictionary.save('gensim/dictionary.dict')"
   ]
  },
  {
   "cell_type": "code",
   "execution_count": 43,
   "metadata": {
    "collapsed": true
   },
   "outputs": [],
   "source": [
    "# convert to bag of words\n",
    "corpus = [dictionary.doc2bow(text) for text in documents_no_web['text']]\n",
    "corpora.MmCorpus.serialize('gensim/corpus.mm', corpus)"
   ]
  }
 ],
 "metadata": {
  "kernelspec": {
   "display_name": "Python 2",
   "language": "python",
   "name": "python2"
  },
  "language_info": {
   "codemirror_mode": {
    "name": "ipython",
    "version": 2
   },
   "file_extension": ".py",
   "mimetype": "text/x-python",
   "name": "python",
   "nbconvert_exporter": "python",
   "pygments_lexer": "ipython2",
   "version": "2.7.10"
  }
 },
 "nbformat": 4,
 "nbformat_minor": 0
}
