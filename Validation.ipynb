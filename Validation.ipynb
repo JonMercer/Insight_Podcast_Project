{
 "cells": [
  {
   "cell_type": "code",
   "execution_count": 58,
   "metadata": {
    "collapsed": false
   },
   "outputs": [],
   "source": [
    "import psycopg2\n",
    "import pandas as pd\n",
    "from gensim import corpora, models, similarities\n",
    "import preprocess_text\n",
    "import get_similarity"
   ]
  },
  {
   "cell_type": "code",
   "execution_count": 2,
   "metadata": {
    "collapsed": true
   },
   "outputs": [],
   "source": [
    "dbname = 'podcast'\n",
    "username = 'lindsay'\n",
    "\n",
    "con = psycopg2.connect(database = dbname, user = username)\n",
    "cursor = con.cursor()"
   ]
  },
  {
   "cell_type": "code",
   "execution_count": 28,
   "metadata": {
    "collapsed": true
   },
   "outputs": [],
   "source": [
    "id_mapping = pd.read_pickle('flask_app/flask_podcast/static/data/podcast_id_to_gensim_id.pkl')"
   ]
  },
  {
   "cell_type": "code",
   "execution_count": 62,
   "metadata": {
    "collapsed": false
   },
   "outputs": [],
   "source": [
    "# load gensim data\n",
    "index = similarities.MatrixSimilarity.load('gensim/tfidf_lsi_similarities.index')\n",
    "corpus = corpora.MmCorpus('gensim/corpus_tfidf.mm')\n",
    "lsi = models.LsiModel.load('gensim/model.lsi')"
   ]
  },
  {
   "cell_type": "code",
   "execution_count": 8,
   "metadata": {
    "collapsed": false
   },
   "outputs": [],
   "source": [
    "query = \"\"\"\n",
    "SELECT name, podcast.id, podcast_has_genre.genre_id\n",
    "FROM podcast\n",
    "INNER JOIN podcast_has_genre\n",
    "ON podcast.id = podcast_has_genre.podcast_id;\n",
    "\"\"\"\n",
    "query = query.replace('\\n', ' ')\n",
    "cursor.execute(query)\n",
    "\n",
    "podcast_df = cursor.fetchall()"
   ]
  },
  {
   "cell_type": "code",
   "execution_count": 17,
   "metadata": {
    "collapsed": false
   },
   "outputs": [],
   "source": [
    "query = \"SELECT name, id FROM genre;\"\n",
    "cursor.execute(query)\n",
    "\n",
    "genre_df = cursor.fetchall()"
   ]
  },
  {
   "cell_type": "code",
   "execution_count": 11,
   "metadata": {
    "collapsed": false
   },
   "outputs": [],
   "source": [
    "podcast_df = pd.DataFrame({'podcast_name' : [x[0] for x in podcast_df],\n",
    "                           'podcast_id' : [x[1] for x in podcast_df],\n",
    "                           'genre_id' : [x[2] for x in podcast_df]})"
   ]
  },
  {
   "cell_type": "code",
   "execution_count": 19,
   "metadata": {
    "collapsed": false
   },
   "outputs": [],
   "source": [
    "genre_df = pd.DataFrame({'genre_name' : [x[0] for x in genre_df],\n",
    "                         'genre_id' : [x[1] for x in genre_df]})"
   ]
  },
  {
   "cell_type": "code",
   "execution_count": 38,
   "metadata": {
    "collapsed": false
   },
   "outputs": [],
   "source": [
    "podcast_genre = pd.merge(podcast_df, genre_df, how = 'inner', on='genre_id')"
   ]
  },
  {
   "cell_type": "code",
   "execution_count": 42,
   "metadata": {
    "collapsed": false
   },
   "outputs": [],
   "source": [
    "del(podcast_df['genre_id'])"
   ]
  },
  {
   "cell_type": "code",
   "execution_count": 30,
   "metadata": {
    "collapsed": true
   },
   "outputs": [],
   "source": [
    "# run query for subscribed data\n",
    "subscribed_query = \"SELECT initial_podcast, subscribed_podcast FROM also_subscribed;\"\n",
    "cursor.execute(subscribed_query)\n",
    "subscribed_df = cursor.fetchall()"
   ]
  },
  {
   "cell_type": "code",
   "execution_count": 32,
   "metadata": {
    "collapsed": false
   },
   "outputs": [],
   "source": [
    "subscribed_df = pd.DataFrame({'podcast_id' : [x[0] for x in subscribed_df],\n",
    "                              'subscribed_id' : [x[1] for x in subscribed_df]})"
   ]
  },
  {
   "cell_type": "code",
   "execution_count": 33,
   "metadata": {
    "collapsed": false
   },
   "outputs": [
    {
     "data": {
      "text/html": [
       "<div>\n",
       "<table border=\"1\" class=\"dataframe\">\n",
       "  <thead>\n",
       "    <tr style=\"text-align: right;\">\n",
       "      <th></th>\n",
       "      <th>podcast_id</th>\n",
       "      <th>subscribed_id</th>\n",
       "    </tr>\n",
       "  </thead>\n",
       "  <tbody>\n",
       "    <tr>\n",
       "      <th>0</th>\n",
       "      <td>12351</td>\n",
       "      <td>12824</td>\n",
       "    </tr>\n",
       "    <tr>\n",
       "      <th>1</th>\n",
       "      <td>15884</td>\n",
       "      <td>12824</td>\n",
       "    </tr>\n",
       "    <tr>\n",
       "      <th>2</th>\n",
       "      <td>16597</td>\n",
       "      <td>12824</td>\n",
       "    </tr>\n",
       "    <tr>\n",
       "      <th>3</th>\n",
       "      <td>17423</td>\n",
       "      <td>12824</td>\n",
       "    </tr>\n",
       "    <tr>\n",
       "      <th>4</th>\n",
       "      <td>12351</td>\n",
       "      <td>13129</td>\n",
       "    </tr>\n",
       "  </tbody>\n",
       "</table>\n",
       "</div>"
      ],
      "text/plain": [
       "   podcast_id  subscribed_id\n",
       "0       12351          12824\n",
       "1       15884          12824\n",
       "2       16597          12824\n",
       "3       17423          12824\n",
       "4       12351          13129"
      ]
     },
     "execution_count": 33,
     "metadata": {},
     "output_type": "execute_result"
    }
   ],
   "source": [
    "subscribed_df.head()"
   ]
  },
  {
   "cell_type": "code",
   "execution_count": 45,
   "metadata": {
    "collapsed": true
   },
   "outputs": [],
   "source": [
    "podcast_subscribed = pd.merge(podcast_df, subscribed_df, how = 'inner', on='podcast_id')"
   ]
  },
  {
   "cell_type": "code",
   "execution_count": 46,
   "metadata": {
    "collapsed": false
   },
   "outputs": [
    {
     "data": {
      "text/html": [
       "<div>\n",
       "<table border=\"1\" class=\"dataframe\">\n",
       "  <thead>\n",
       "    <tr style=\"text-align: right;\">\n",
       "      <th></th>\n",
       "      <th>podcast_id</th>\n",
       "      <th>podcast_name</th>\n",
       "      <th>subscribed_id</th>\n",
       "    </tr>\n",
       "  </thead>\n",
       "  <tbody>\n",
       "    <tr>\n",
       "      <th>0</th>\n",
       "      <td>12382</td>\n",
       "      <td>Aca-Media Podcast - Aca-Media</td>\n",
       "      <td>16087</td>\n",
       "    </tr>\n",
       "    <tr>\n",
       "      <th>1</th>\n",
       "      <td>12382</td>\n",
       "      <td>Aca-Media Podcast - Aca-Media</td>\n",
       "      <td>16082</td>\n",
       "    </tr>\n",
       "    <tr>\n",
       "      <th>2</th>\n",
       "      <td>12382</td>\n",
       "      <td>Aca-Media Podcast - Aca-Media</td>\n",
       "      <td>16087</td>\n",
       "    </tr>\n",
       "    <tr>\n",
       "      <th>3</th>\n",
       "      <td>12382</td>\n",
       "      <td>Aca-Media Podcast - Aca-Media</td>\n",
       "      <td>16082</td>\n",
       "    </tr>\n",
       "    <tr>\n",
       "      <th>4</th>\n",
       "      <td>12404</td>\n",
       "      <td>Acid Pop Cult</td>\n",
       "      <td>16620</td>\n",
       "    </tr>\n",
       "  </tbody>\n",
       "</table>\n",
       "</div>"
      ],
      "text/plain": [
       "   podcast_id                   podcast_name  subscribed_id\n",
       "0       12382  Aca-Media Podcast - Aca-Media          16087\n",
       "1       12382  Aca-Media Podcast - Aca-Media          16082\n",
       "2       12382  Aca-Media Podcast - Aca-Media          16087\n",
       "3       12382  Aca-Media Podcast - Aca-Media          16082\n",
       "4       12404                  Acid Pop Cult          16620"
      ]
     },
     "execution_count": 46,
     "metadata": {},
     "output_type": "execute_result"
    }
   ],
   "source": [
    "podcast_subscribed.head()"
   ]
  },
  {
   "cell_type": "code",
   "execution_count": 47,
   "metadata": {
    "collapsed": false
   },
   "outputs": [
    {
     "data": {
      "text/plain": [
       "32"
      ]
     },
     "execution_count": 47,
     "metadata": {},
     "output_type": "execute_result"
    }
   ],
   "source": [
    "get_similarity.map_id(podcast_subscribed.iloc[0]['podcast_id'], id_mapping)"
   ]
  },
  {
   "cell_type": "code",
   "execution_count": 49,
   "metadata": {
    "collapsed": false
   },
   "outputs": [],
   "source": [
    "# add in gensim IDs\n",
    "podcast_subscribed['podcast_gensim_id'] = [get_similarity.map_id(x, id_mapping) for x in podcast_subscribed['podcast_id']]\n",
    "podcast_subscribed['subscribed_gensim_id'] = [get_similarity.map_id(x, id_mapping) for x in podcast_subscribed['subscribed_id']]\n",
    "podcast_genre['podcast_gensim_id'] = [get_similarity.map_id(x, id_mapping) for x in podcast_genre['podcast_id']]"
   ]
  },
  {
   "cell_type": "code",
   "execution_count": 54,
   "metadata": {
    "collapsed": false
   },
   "outputs": [
    {
     "data": {
      "text/html": [
       "<div>\n",
       "<table border=\"1\" class=\"dataframe\">\n",
       "  <thead>\n",
       "    <tr style=\"text-align: right;\">\n",
       "      <th></th>\n",
       "      <th>genre_id</th>\n",
       "      <th>podcast_id</th>\n",
       "      <th>podcast_name</th>\n",
       "      <th>genre_name</th>\n",
       "      <th>podcast_gensim_id</th>\n",
       "    </tr>\n",
       "  </thead>\n",
       "  <tbody>\n",
       "    <tr>\n",
       "      <th>0</th>\n",
       "      <td>214</td>\n",
       "      <td>12349</td>\n",
       "      <td>A Cast of Kings - A Game of Thrones Podcast</td>\n",
       "      <td>TV &amp; Film</td>\n",
       "      <td>4221</td>\n",
       "    </tr>\n",
       "    <tr>\n",
       "      <th>1</th>\n",
       "      <td>214</td>\n",
       "      <td>12382</td>\n",
       "      <td>Aca-Media Podcast - Aca-Media</td>\n",
       "      <td>TV &amp; Film</td>\n",
       "      <td>32</td>\n",
       "    </tr>\n",
       "    <tr>\n",
       "      <th>2</th>\n",
       "      <td>214</td>\n",
       "      <td>12404</td>\n",
       "      <td>Acid Pop Cult</td>\n",
       "      <td>TV &amp; Film</td>\n",
       "      <td>39</td>\n",
       "    </tr>\n",
       "    <tr>\n",
       "      <th>3</th>\n",
       "      <td>214</td>\n",
       "      <td>12406</td>\n",
       "      <td>Across the Universe: The Chicks With Accents P...</td>\n",
       "      <td>TV &amp; Film</td>\n",
       "      <td>41</td>\n",
       "    </tr>\n",
       "    <tr>\n",
       "      <th>4</th>\n",
       "      <td>214</td>\n",
       "      <td>12413</td>\n",
       "      <td>Actors Anonymous Podcast</td>\n",
       "      <td>TV &amp; Film</td>\n",
       "      <td>49</td>\n",
       "    </tr>\n",
       "  </tbody>\n",
       "</table>\n",
       "</div>"
      ],
      "text/plain": [
       "   genre_id  podcast_id                                       podcast_name  \\\n",
       "0       214       12349        A Cast of Kings - A Game of Thrones Podcast   \n",
       "1       214       12382                      Aca-Media Podcast - Aca-Media   \n",
       "2       214       12404                                      Acid Pop Cult   \n",
       "3       214       12406  Across the Universe: The Chicks With Accents P...   \n",
       "4       214       12413                           Actors Anonymous Podcast   \n",
       "\n",
       "  genre_name  podcast_gensim_id  \n",
       "0  TV & Film               4221  \n",
       "1  TV & Film                 32  \n",
       "2  TV & Film                 39  \n",
       "3  TV & Film                 41  \n",
       "4  TV & Film                 49  "
      ]
     },
     "execution_count": 54,
     "metadata": {},
     "output_type": "execute_result"
    }
   ],
   "source": [
    "podcast_genre.head()"
   ]
  },
  {
   "cell_type": "code",
   "execution_count": 64,
   "metadata": {
    "collapsed": true
   },
   "outputs": [],
   "source": [
    "# podcast_genre similarity analysis\n",
    "test_sim = get_similarity.sim(podcast_genre.iloc[0]['podcast_id'], id_mapping, corpus, lsi, index)"
   ]
  },
  {
   "cell_type": "code",
   "execution_count": 78,
   "metadata": {
    "collapsed": false
   },
   "outputs": [],
   "source": [
    "# sample random podcasts\n",
    "frac_podcasts = 10\n",
    "sub_sample = id_mapping.sample(frac = frac_podcasts)"
   ]
  },
  {
   "cell_type": "code",
   "execution_count": 79,
   "metadata": {
    "collapsed": false
   },
   "outputs": [],
   "source": [
    "# get similarity scores for sub_sample\n",
    "sim_scores = pd.DataFrame(columns = ['search_podcast_id', 'result_podcast_id', 'similarity'])\n",
    "for ind, row in sub_sample.iterrows():\n",
    "    sim_result = get_similarity.sim(row['podcast_id'], id_mapping, corpus, lsi, index)\n",
    "    this_result = pd.DataFrame({'search_podcast_id' : [int(row['podcast_id'])] * sim_result.shape[0],\n",
    "                                'result_podcast_id' : sim_result['podcast_id'],\n",
    "                                'similarity' : sim_result['similarity']})\n",
    "    sim_scores = sim_scores.append(this_result)"
   ]
  },
  {
   "cell_type": "code",
   "execution_count": 85,
   "metadata": {
    "collapsed": false
   },
   "outputs": [],
   "source": [
    "# drop rows where result_podcast_id == search_podcast_id\n",
    "sim_scores = sim_scores[sim_scores['result_podcast_id'] != sim_scores['search_podcast_id']]"
   ]
  },
  {
   "cell_type": "code",
   "execution_count": 86,
   "metadata": {
    "collapsed": true
   },
   "outputs": [],
   "source": [
    "podcast_subscribed_sim = pd.merge(podcast_subscribed, sim_scores, how = 'inner', left_on=['podcast_id', 'subscribed_id'], right_on=['search_podcast_id', 'result_podcast_id'])"
   ]
  },
  {
   "cell_type": "code",
   "execution_count": 93,
   "metadata": {
    "collapsed": false
   },
   "outputs": [
    {
     "data": {
      "text/plain": [
       "(686, 8)"
      ]
     },
     "execution_count": 93,
     "metadata": {},
     "output_type": "execute_result"
    }
   ],
   "source": [
    "# for some reason duplicates rows, so remove now\n",
    "podcast_subscribed_sim = podcast_subscribed_sim.drop_duplicates()\n",
    "podcast_subscribed_sim.shape"
   ]
  },
  {
   "cell_type": "code",
   "execution_count": 95,
   "metadata": {
    "collapsed": false
   },
   "outputs": [],
   "source": [
    "# remove duplicate columns\n",
    "del(podcast_subscribed_sim['podcast_gensim_id'])\n",
    "del(podcast_subscribed_sim['subscribed_gensim_id'])\n",
    "del(podcast_subscribed_sim['result_podcast_id'])\n",
    "del(podcast_subscribed_sim['search_podcast_id'])"
   ]
  },
  {
   "cell_type": "code",
   "execution_count": 96,
   "metadata": {
    "collapsed": false
   },
   "outputs": [
    {
     "data": {
      "text/html": [
       "<div>\n",
       "<table border=\"1\" class=\"dataframe\">\n",
       "  <thead>\n",
       "    <tr style=\"text-align: right;\">\n",
       "      <th></th>\n",
       "      <th>podcast_id</th>\n",
       "      <th>podcast_name</th>\n",
       "      <th>subscribed_id</th>\n",
       "      <th>similarity</th>\n",
       "    </tr>\n",
       "  </thead>\n",
       "  <tbody>\n",
       "    <tr>\n",
       "      <th>0</th>\n",
       "      <td>12382</td>\n",
       "      <td>Aca-Media Podcast - Aca-Media</td>\n",
       "      <td>16087</td>\n",
       "      <td>0.763451</td>\n",
       "    </tr>\n",
       "    <tr>\n",
       "      <th>2</th>\n",
       "      <td>12382</td>\n",
       "      <td>Aca-Media Podcast - Aca-Media</td>\n",
       "      <td>16082</td>\n",
       "      <td>0.622512</td>\n",
       "    </tr>\n",
       "    <tr>\n",
       "      <th>4</th>\n",
       "      <td>12505</td>\n",
       "      <td>All My Heroes Wear Masks</td>\n",
       "      <td>14949</td>\n",
       "      <td>0.599157</td>\n",
       "    </tr>\n",
       "    <tr>\n",
       "      <th>6</th>\n",
       "      <td>12505</td>\n",
       "      <td>All My Heroes Wear Masks</td>\n",
       "      <td>16319</td>\n",
       "      <td>0.452908</td>\n",
       "    </tr>\n",
       "    <tr>\n",
       "      <th>8</th>\n",
       "      <td>13098</td>\n",
       "      <td>BLACK TRIBBLES</td>\n",
       "      <td>16054</td>\n",
       "      <td>0.708524</td>\n",
       "    </tr>\n",
       "  </tbody>\n",
       "</table>\n",
       "</div>"
      ],
      "text/plain": [
       "   podcast_id                   podcast_name  subscribed_id  similarity\n",
       "0       12382  Aca-Media Podcast - Aca-Media          16087    0.763451\n",
       "2       12382  Aca-Media Podcast - Aca-Media          16082    0.622512\n",
       "4       12505       All My Heroes Wear Masks          14949    0.599157\n",
       "6       12505       All My Heroes Wear Masks          16319    0.452908\n",
       "8       13098                 BLACK TRIBBLES          16054    0.708524"
      ]
     },
     "execution_count": 96,
     "metadata": {},
     "output_type": "execute_result"
    }
   ],
   "source": [
    "podcast_subscribed_sim.head()"
   ]
  },
  {
   "cell_type": "code",
   "execution_count": 101,
   "metadata": {
    "collapsed": false
   },
   "outputs": [
    {
     "name": "stderr",
     "output_type": "stream",
     "text": [
      "//anaconda/lib/python2.7/site-packages/pandas/core/indexing.py:266: SettingWithCopyWarning: \n",
      "A value is trying to be set on a copy of a slice from a DataFrame.\n",
      "Try using .loc[row_indexer,col_indexer] = value instead\n",
      "\n",
      "See the caveats in the documentation: http://pandas.pydata.org/pandas-docs/stable/indexing.html#indexing-view-versus-copy\n",
      "  self.obj[key] = _infer_fill_value(value)\n",
      "//anaconda/lib/python2.7/site-packages/pandas/core/indexing.py:426: SettingWithCopyWarning: \n",
      "A value is trying to be set on a copy of a slice from a DataFrame.\n",
      "Try using .loc[row_indexer,col_indexer] = value instead\n",
      "\n",
      "See the caveats in the documentation: http://pandas.pydata.org/pandas-docs/stable/indexing.html#indexing-view-versus-copy\n",
      "  self.obj[item] = s\n"
     ]
    }
   ],
   "source": [
    "podcast_subscribed_sim.loc[:, 'subscribe_status'] = True"
   ]
  },
  {
   "cell_type": "code",
   "execution_count": 103,
   "metadata": {
    "collapsed": true
   },
   "outputs": [],
   "source": [
    "# get similarity for not subscribed\n",
    "podcast_unsubscribed_sim = pd.merge(sim_scores, podcast_subscribed, how = 'left', right_on=['podcast_id', 'subscribed_id'], left_on=['search_podcast_id', 'result_podcast_id'])"
   ]
  },
  {
   "cell_type": "code",
   "execution_count": 106,
   "metadata": {
    "collapsed": false
   },
   "outputs": [],
   "source": [
    "# remove unneeded rows\n",
    "del(podcast_unsubscribed_sim['podcast_id'])\n",
    "del(podcast_unsubscribed_sim['podcast_name'])\n",
    "del(podcast_unsubscribed_sim['subscribed_id'])\n",
    "del(podcast_unsubscribed_sim['podcast_gensim_id'])\n",
    "del(podcast_unsubscribed_sim['subscribed_gensim_id'])"
   ]
  },
  {
   "cell_type": "code",
   "execution_count": 107,
   "metadata": {
    "collapsed": true
   },
   "outputs": [],
   "source": [
    "podcast_unsubscribed_sim.loc[:, 'subscribe_status'] = False"
   ]
  },
  {
   "cell_type": "code",
   "execution_count": 108,
   "metadata": {
    "collapsed": false
   },
   "outputs": [
    {
     "data": {
      "text/html": [
       "<div>\n",
       "<table border=\"1\" class=\"dataframe\">\n",
       "  <thead>\n",
       "    <tr style=\"text-align: right;\">\n",
       "      <th></th>\n",
       "      <th>result_podcast_id</th>\n",
       "      <th>search_podcast_id</th>\n",
       "      <th>similarity</th>\n",
       "      <th>subscribe_status</th>\n",
       "    </tr>\n",
       "  </thead>\n",
       "  <tbody>\n",
       "    <tr>\n",
       "      <th>0</th>\n",
       "      <td>13596</td>\n",
       "      <td>18463</td>\n",
       "      <td>0.695872</td>\n",
       "      <td>False</td>\n",
       "    </tr>\n",
       "    <tr>\n",
       "      <th>1</th>\n",
       "      <td>16583</td>\n",
       "      <td>18463</td>\n",
       "      <td>0.655369</td>\n",
       "      <td>False</td>\n",
       "    </tr>\n",
       "    <tr>\n",
       "      <th>2</th>\n",
       "      <td>14124</td>\n",
       "      <td>18463</td>\n",
       "      <td>0.622745</td>\n",
       "      <td>False</td>\n",
       "    </tr>\n",
       "    <tr>\n",
       "      <th>3</th>\n",
       "      <td>14484</td>\n",
       "      <td>18463</td>\n",
       "      <td>0.620272</td>\n",
       "      <td>False</td>\n",
       "    </tr>\n",
       "    <tr>\n",
       "      <th>4</th>\n",
       "      <td>16251</td>\n",
       "      <td>18463</td>\n",
       "      <td>0.596339</td>\n",
       "      <td>False</td>\n",
       "    </tr>\n",
       "  </tbody>\n",
       "</table>\n",
       "</div>"
      ],
      "text/plain": [
       "   result_podcast_id  search_podcast_id  similarity subscribe_status\n",
       "0              13596              18463    0.695872            False\n",
       "1              16583              18463    0.655369            False\n",
       "2              14124              18463    0.622745            False\n",
       "3              14484              18463    0.620272            False\n",
       "4              16251              18463    0.596339            False"
      ]
     },
     "execution_count": 108,
     "metadata": {},
     "output_type": "execute_result"
    }
   ],
   "source": [
    "podcast_unsubscribed_sim.head()"
   ]
  },
  {
   "cell_type": "code",
   "execution_count": 109,
   "metadata": {
    "collapsed": true
   },
   "outputs": [],
   "source": [
    "del(podcast_subscribed_sim['podcast_name'])"
   ]
  },
  {
   "cell_type": "code",
   "execution_count": 111,
   "metadata": {
    "collapsed": false
   },
   "outputs": [
    {
     "data": {
      "text/plain": [
       "(3367306, 8)"
      ]
     },
     "execution_count": 111,
     "metadata": {},
     "output_type": "execute_result"
    }
   ],
   "source": [
    "podcast_sim_by_subscribe.shape"
   ]
  },
  {
   "cell_type": "code",
   "execution_count": 112,
   "metadata": {
    "collapsed": false
   },
   "outputs": [
    {
     "data": {
      "text/plain": [
       "3367992"
      ]
     },
     "execution_count": 112,
     "metadata": {},
     "output_type": "execute_result"
    }
   ],
   "source": [
    "podcast_unsubscribed_sim.shape[0] + podcast_subscribed_sim.shape[0]"
   ]
  },
  {
   "cell_type": "code",
   "execution_count": 121,
   "metadata": {
    "collapsed": false
   },
   "outputs": [],
   "source": [
    "podcast_subscribed_sim.columns=['search_podcast_id', 'result_podcast_id', 'similarity', 'subscribe_status']"
   ]
  },
  {
   "cell_type": "code",
   "execution_count": 115,
   "metadata": {
    "collapsed": false
   },
   "outputs": [
    {
     "data": {
      "text/html": [
       "<div>\n",
       "<table border=\"1\" class=\"dataframe\">\n",
       "  <thead>\n",
       "    <tr style=\"text-align: right;\">\n",
       "      <th></th>\n",
       "      <th>result_podcast_id</th>\n",
       "      <th>search_podcast_id</th>\n",
       "      <th>similarity</th>\n",
       "      <th>subscribe_status</th>\n",
       "    </tr>\n",
       "  </thead>\n",
       "  <tbody>\n",
       "    <tr>\n",
       "      <th>0</th>\n",
       "      <td>13596</td>\n",
       "      <td>18463</td>\n",
       "      <td>0.695872</td>\n",
       "      <td>False</td>\n",
       "    </tr>\n",
       "    <tr>\n",
       "      <th>1</th>\n",
       "      <td>16583</td>\n",
       "      <td>18463</td>\n",
       "      <td>0.655369</td>\n",
       "      <td>False</td>\n",
       "    </tr>\n",
       "    <tr>\n",
       "      <th>2</th>\n",
       "      <td>14124</td>\n",
       "      <td>18463</td>\n",
       "      <td>0.622745</td>\n",
       "      <td>False</td>\n",
       "    </tr>\n",
       "    <tr>\n",
       "      <th>3</th>\n",
       "      <td>14484</td>\n",
       "      <td>18463</td>\n",
       "      <td>0.620272</td>\n",
       "      <td>False</td>\n",
       "    </tr>\n",
       "    <tr>\n",
       "      <th>4</th>\n",
       "      <td>16251</td>\n",
       "      <td>18463</td>\n",
       "      <td>0.596339</td>\n",
       "      <td>False</td>\n",
       "    </tr>\n",
       "  </tbody>\n",
       "</table>\n",
       "</div>"
      ],
      "text/plain": [
       "   result_podcast_id  search_podcast_id  similarity subscribe_status\n",
       "0              13596              18463    0.695872            False\n",
       "1              16583              18463    0.655369            False\n",
       "2              14124              18463    0.622745            False\n",
       "3              14484              18463    0.620272            False\n",
       "4              16251              18463    0.596339            False"
      ]
     },
     "execution_count": 115,
     "metadata": {},
     "output_type": "execute_result"
    }
   ],
   "source": [
    "podcast_unsubscribed_sim.head()"
   ]
  },
  {
   "cell_type": "code",
   "execution_count": 117,
   "metadata": {
    "collapsed": false
   },
   "outputs": [
    {
     "data": {
      "text/html": [
       "<div>\n",
       "<table border=\"1\" class=\"dataframe\">\n",
       "  <thead>\n",
       "    <tr style=\"text-align: right;\">\n",
       "      <th></th>\n",
       "      <th>search_podcast_id</th>\n",
       "      <th>result_pocast_id</th>\n",
       "      <th>similarity</th>\n",
       "      <th>subscribe_status</th>\n",
       "    </tr>\n",
       "  </thead>\n",
       "  <tbody>\n",
       "    <tr>\n",
       "      <th>0</th>\n",
       "      <td>12382</td>\n",
       "      <td>16087</td>\n",
       "      <td>0.763451</td>\n",
       "      <td>True</td>\n",
       "    </tr>\n",
       "    <tr>\n",
       "      <th>2</th>\n",
       "      <td>12382</td>\n",
       "      <td>16082</td>\n",
       "      <td>0.622512</td>\n",
       "      <td>True</td>\n",
       "    </tr>\n",
       "    <tr>\n",
       "      <th>4</th>\n",
       "      <td>12505</td>\n",
       "      <td>14949</td>\n",
       "      <td>0.599157</td>\n",
       "      <td>True</td>\n",
       "    </tr>\n",
       "    <tr>\n",
       "      <th>6</th>\n",
       "      <td>12505</td>\n",
       "      <td>16319</td>\n",
       "      <td>0.452908</td>\n",
       "      <td>True</td>\n",
       "    </tr>\n",
       "    <tr>\n",
       "      <th>8</th>\n",
       "      <td>13098</td>\n",
       "      <td>16054</td>\n",
       "      <td>0.708524</td>\n",
       "      <td>True</td>\n",
       "    </tr>\n",
       "  </tbody>\n",
       "</table>\n",
       "</div>"
      ],
      "text/plain": [
       "   search_podcast_id  result_pocast_id  similarity subscribe_status\n",
       "0              12382             16087    0.763451             True\n",
       "2              12382             16082    0.622512             True\n",
       "4              12505             14949    0.599157             True\n",
       "6              12505             16319    0.452908             True\n",
       "8              13098             16054    0.708524             True"
      ]
     },
     "execution_count": 117,
     "metadata": {},
     "output_type": "execute_result"
    }
   ],
   "source": [
    "podcast_subscribed_sim.head()"
   ]
  },
  {
   "cell_type": "code",
   "execution_count": 122,
   "metadata": {
    "collapsed": false
   },
   "outputs": [
    {
     "data": {
      "text/plain": [
       "(3367992, 4)"
      ]
     },
     "execution_count": 122,
     "metadata": {},
     "output_type": "execute_result"
    }
   ],
   "source": [
    "podcast_sim_by_subscribe = pd.concat([podcast_subscribed_sim, podcast_unsubscribed_sim], axis=0, ignore_index=True)\n",
    "podcast_sim_by_subscribe.shape"
   ]
  },
  {
   "cell_type": "code",
   "execution_count": 123,
   "metadata": {
    "collapsed": false
   },
   "outputs": [
    {
     "data": {
      "text/html": [
       "<div>\n",
       "<table border=\"1\" class=\"dataframe\">\n",
       "  <thead>\n",
       "    <tr style=\"text-align: right;\">\n",
       "      <th></th>\n",
       "      <th>result_podcast_id</th>\n",
       "      <th>search_podcast_id</th>\n",
       "      <th>similarity</th>\n",
       "      <th>subscribe_status</th>\n",
       "    </tr>\n",
       "  </thead>\n",
       "  <tbody>\n",
       "    <tr>\n",
       "      <th>0</th>\n",
       "      <td>16087</td>\n",
       "      <td>12382</td>\n",
       "      <td>0.763451</td>\n",
       "      <td>True</td>\n",
       "    </tr>\n",
       "    <tr>\n",
       "      <th>1</th>\n",
       "      <td>16082</td>\n",
       "      <td>12382</td>\n",
       "      <td>0.622512</td>\n",
       "      <td>True</td>\n",
       "    </tr>\n",
       "    <tr>\n",
       "      <th>2</th>\n",
       "      <td>14949</td>\n",
       "      <td>12505</td>\n",
       "      <td>0.599157</td>\n",
       "      <td>True</td>\n",
       "    </tr>\n",
       "    <tr>\n",
       "      <th>3</th>\n",
       "      <td>16319</td>\n",
       "      <td>12505</td>\n",
       "      <td>0.452908</td>\n",
       "      <td>True</td>\n",
       "    </tr>\n",
       "    <tr>\n",
       "      <th>4</th>\n",
       "      <td>16054</td>\n",
       "      <td>13098</td>\n",
       "      <td>0.708524</td>\n",
       "      <td>True</td>\n",
       "    </tr>\n",
       "  </tbody>\n",
       "</table>\n",
       "</div>"
      ],
      "text/plain": [
       "   result_podcast_id  search_podcast_id  similarity subscribe_status\n",
       "0              16087              12382    0.763451             True\n",
       "1              16082              12382    0.622512             True\n",
       "2              14949              12505    0.599157             True\n",
       "3              16319              12505    0.452908             True\n",
       "4              16054              13098    0.708524             True"
      ]
     },
     "execution_count": 123,
     "metadata": {},
     "output_type": "execute_result"
    }
   ],
   "source": [
    "podcast_sim_by_subscribe.head()"
   ]
  },
  {
   "cell_type": "code",
   "execution_count": 124,
   "metadata": {
    "collapsed": true
   },
   "outputs": [],
   "source": [
    "# save to csv\n",
    "podcast_sim_by_subscribe.to_csv('csv/podcast_sim_by_subscribe.csv')"
   ]
  },
  {
   "cell_type": "code",
   "execution_count": 125,
   "metadata": {
    "collapsed": false
   },
   "outputs": [
    {
     "data": {
      "text/html": [
       "<div>\n",
       "<table border=\"1\" class=\"dataframe\">\n",
       "  <thead>\n",
       "    <tr style=\"text-align: right;\">\n",
       "      <th></th>\n",
       "      <th>result_podcast_id</th>\n",
       "      <th>search_podcast_id</th>\n",
       "      <th>similarity</th>\n",
       "    </tr>\n",
       "  </thead>\n",
       "  <tbody>\n",
       "    <tr>\n",
       "      <th>1171</th>\n",
       "      <td>13596</td>\n",
       "      <td>18463</td>\n",
       "      <td>0.695872</td>\n",
       "    </tr>\n",
       "    <tr>\n",
       "      <th>3914</th>\n",
       "      <td>16583</td>\n",
       "      <td>18463</td>\n",
       "      <td>0.655369</td>\n",
       "    </tr>\n",
       "    <tr>\n",
       "      <th>1663</th>\n",
       "      <td>14124</td>\n",
       "      <td>18463</td>\n",
       "      <td>0.622745</td>\n",
       "    </tr>\n",
       "    <tr>\n",
       "      <th>2031</th>\n",
       "      <td>14484</td>\n",
       "      <td>18463</td>\n",
       "      <td>0.620272</td>\n",
       "    </tr>\n",
       "    <tr>\n",
       "      <th>3666</th>\n",
       "      <td>16251</td>\n",
       "      <td>18463</td>\n",
       "      <td>0.596339</td>\n",
       "    </tr>\n",
       "  </tbody>\n",
       "</table>\n",
       "</div>"
      ],
      "text/plain": [
       "      result_podcast_id  search_podcast_id  similarity\n",
       "1171              13596              18463    0.695872\n",
       "3914              16583              18463    0.655369\n",
       "1663              14124              18463    0.622745\n",
       "2031              14484              18463    0.620272\n",
       "3666              16251              18463    0.596339"
      ]
     },
     "execution_count": 125,
     "metadata": {},
     "output_type": "execute_result"
    }
   ],
   "source": [
    "sim_scores.head()"
   ]
  },
  {
   "cell_type": "code",
   "execution_count": 126,
   "metadata": {
    "collapsed": false
   },
   "outputs": [
    {
     "data": {
      "text/html": [
       "<div>\n",
       "<table border=\"1\" class=\"dataframe\">\n",
       "  <thead>\n",
       "    <tr style=\"text-align: right;\">\n",
       "      <th></th>\n",
       "      <th>genre_id</th>\n",
       "      <th>podcast_id</th>\n",
       "      <th>podcast_name</th>\n",
       "      <th>genre_name</th>\n",
       "      <th>podcast_gensim_id</th>\n",
       "    </tr>\n",
       "  </thead>\n",
       "  <tbody>\n",
       "    <tr>\n",
       "      <th>0</th>\n",
       "      <td>214</td>\n",
       "      <td>12349</td>\n",
       "      <td>A Cast of Kings - A Game of Thrones Podcast</td>\n",
       "      <td>TV &amp; Film</td>\n",
       "      <td>4221</td>\n",
       "    </tr>\n",
       "    <tr>\n",
       "      <th>1</th>\n",
       "      <td>214</td>\n",
       "      <td>12382</td>\n",
       "      <td>Aca-Media Podcast - Aca-Media</td>\n",
       "      <td>TV &amp; Film</td>\n",
       "      <td>32</td>\n",
       "    </tr>\n",
       "    <tr>\n",
       "      <th>2</th>\n",
       "      <td>214</td>\n",
       "      <td>12404</td>\n",
       "      <td>Acid Pop Cult</td>\n",
       "      <td>TV &amp; Film</td>\n",
       "      <td>39</td>\n",
       "    </tr>\n",
       "    <tr>\n",
       "      <th>3</th>\n",
       "      <td>214</td>\n",
       "      <td>12406</td>\n",
       "      <td>Across the Universe: The Chicks With Accents P...</td>\n",
       "      <td>TV &amp; Film</td>\n",
       "      <td>41</td>\n",
       "    </tr>\n",
       "    <tr>\n",
       "      <th>4</th>\n",
       "      <td>214</td>\n",
       "      <td>12413</td>\n",
       "      <td>Actors Anonymous Podcast</td>\n",
       "      <td>TV &amp; Film</td>\n",
       "      <td>49</td>\n",
       "    </tr>\n",
       "  </tbody>\n",
       "</table>\n",
       "</div>"
      ],
      "text/plain": [
       "   genre_id  podcast_id                                       podcast_name  \\\n",
       "0       214       12349        A Cast of Kings - A Game of Thrones Podcast   \n",
       "1       214       12382                      Aca-Media Podcast - Aca-Media   \n",
       "2       214       12404                                      Acid Pop Cult   \n",
       "3       214       12406  Across the Universe: The Chicks With Accents P...   \n",
       "4       214       12413                           Actors Anonymous Podcast   \n",
       "\n",
       "  genre_name  podcast_gensim_id  \n",
       "0  TV & Film               4221  \n",
       "1  TV & Film                 32  \n",
       "2  TV & Film                 39  \n",
       "3  TV & Film                 41  \n",
       "4  TV & Film                 49  "
      ]
     },
     "execution_count": 126,
     "metadata": {},
     "output_type": "execute_result"
    }
   ],
   "source": [
    "podcast_genre.head()"
   ]
  },
  {
   "cell_type": "code",
   "execution_count": 128,
   "metadata": {
    "collapsed": false
   },
   "outputs": [],
   "source": [
    "podcast_same_genre = pd.merge(podcast_genre, podcast_genre, how='inner', on='genre_id')"
   ]
  },
  {
   "cell_type": "code",
   "execution_count": 130,
   "metadata": {
    "collapsed": false
   },
   "outputs": [],
   "source": [
    "del(podcast_same_genre['podcast_name_x'])\n",
    "del(podcast_same_genre['genre_name_x'])\n",
    "del(podcast_same_genre['podcast_gensim_id_x'])\n",
    "del(podcast_same_genre['podcast_name_y'])\n",
    "del(podcast_same_genre['genre_name_y'])\n",
    "del(podcast_same_genre['podcast_gensim_id_y'])"
   ]
  },
  {
   "cell_type": "code",
   "execution_count": 132,
   "metadata": {
    "collapsed": false
   },
   "outputs": [
    {
     "data": {
      "text/html": [
       "<div>\n",
       "<table border=\"1\" class=\"dataframe\">\n",
       "  <thead>\n",
       "    <tr style=\"text-align: right;\">\n",
       "      <th></th>\n",
       "      <th>result_podcast_id</th>\n",
       "      <th>search_podcast_id</th>\n",
       "      <th>similarity</th>\n",
       "    </tr>\n",
       "  </thead>\n",
       "  <tbody>\n",
       "    <tr>\n",
       "      <th>1171</th>\n",
       "      <td>13596</td>\n",
       "      <td>18463</td>\n",
       "      <td>0.695872</td>\n",
       "    </tr>\n",
       "    <tr>\n",
       "      <th>3914</th>\n",
       "      <td>16583</td>\n",
       "      <td>18463</td>\n",
       "      <td>0.655369</td>\n",
       "    </tr>\n",
       "    <tr>\n",
       "      <th>1663</th>\n",
       "      <td>14124</td>\n",
       "      <td>18463</td>\n",
       "      <td>0.622745</td>\n",
       "    </tr>\n",
       "    <tr>\n",
       "      <th>2031</th>\n",
       "      <td>14484</td>\n",
       "      <td>18463</td>\n",
       "      <td>0.620272</td>\n",
       "    </tr>\n",
       "    <tr>\n",
       "      <th>3666</th>\n",
       "      <td>16251</td>\n",
       "      <td>18463</td>\n",
       "      <td>0.596339</td>\n",
       "    </tr>\n",
       "  </tbody>\n",
       "</table>\n",
       "</div>"
      ],
      "text/plain": [
       "      result_podcast_id  search_podcast_id  similarity\n",
       "1171              13596              18463    0.695872\n",
       "3914              16583              18463    0.655369\n",
       "1663              14124              18463    0.622745\n",
       "2031              14484              18463    0.620272\n",
       "3666              16251              18463    0.596339"
      ]
     },
     "execution_count": 132,
     "metadata": {},
     "output_type": "execute_result"
    }
   ],
   "source": [
    "sim_scores.head()"
   ]
  },
  {
   "cell_type": "code",
   "execution_count": 131,
   "metadata": {
    "collapsed": false
   },
   "outputs": [
    {
     "data": {
      "text/html": [
       "<div>\n",
       "<table border=\"1\" class=\"dataframe\">\n",
       "  <thead>\n",
       "    <tr style=\"text-align: right;\">\n",
       "      <th></th>\n",
       "      <th>genre_id</th>\n",
       "      <th>podcast_id_x</th>\n",
       "      <th>podcast_id_y</th>\n",
       "    </tr>\n",
       "  </thead>\n",
       "  <tbody>\n",
       "    <tr>\n",
       "      <th>0</th>\n",
       "      <td>214</td>\n",
       "      <td>12349</td>\n",
       "      <td>12349</td>\n",
       "    </tr>\n",
       "    <tr>\n",
       "      <th>1</th>\n",
       "      <td>214</td>\n",
       "      <td>12349</td>\n",
       "      <td>12382</td>\n",
       "    </tr>\n",
       "    <tr>\n",
       "      <th>2</th>\n",
       "      <td>214</td>\n",
       "      <td>12349</td>\n",
       "      <td>12404</td>\n",
       "    </tr>\n",
       "    <tr>\n",
       "      <th>3</th>\n",
       "      <td>214</td>\n",
       "      <td>12349</td>\n",
       "      <td>12406</td>\n",
       "    </tr>\n",
       "    <tr>\n",
       "      <th>4</th>\n",
       "      <td>214</td>\n",
       "      <td>12349</td>\n",
       "      <td>12413</td>\n",
       "    </tr>\n",
       "  </tbody>\n",
       "</table>\n",
       "</div>"
      ],
      "text/plain": [
       "   genre_id  podcast_id_x  podcast_id_y\n",
       "0       214         12349         12349\n",
       "1       214         12349         12382\n",
       "2       214         12349         12404\n",
       "3       214         12349         12406\n",
       "4       214         12349         12413"
      ]
     },
     "execution_count": 131,
     "metadata": {},
     "output_type": "execute_result"
    }
   ],
   "source": [
    "podcast_same_genre.head()"
   ]
  },
  {
   "cell_type": "code",
   "execution_count": 133,
   "metadata": {
    "collapsed": true
   },
   "outputs": [],
   "source": [
    "podcast_sim_same_genre = pd.merge(podcast_same_genre, sim_scores, how='inner', left_on=['podcast_id_x', 'podcast_id_y'], right_on=['search_podcast_id', 'result_podcast_id'])"
   ]
  },
  {
   "cell_type": "code",
   "execution_count": 135,
   "metadata": {
    "collapsed": false
   },
   "outputs": [],
   "source": [
    "del(podcast_sim_same_genre['podcast_id_x'])\n",
    "del(podcast_sim_same_genre['podcast_id_y'])"
   ]
  },
  {
   "cell_type": "code",
   "execution_count": 136,
   "metadata": {
    "collapsed": true
   },
   "outputs": [],
   "source": [
    "podcast_sim_same_genre.loc[:, 'genre_status'] = True"
   ]
  },
  {
   "cell_type": "code",
   "execution_count": 138,
   "metadata": {
    "collapsed": false
   },
   "outputs": [],
   "source": [
    "podcast_sim_diff_genre = pd.merge(sim_scores, podcast_same_genre, how='left', right_on=['podcast_id_x', 'podcast_id_y'], left_on=['search_podcast_id', 'result_podcast_id'])"
   ]
  },
  {
   "cell_type": "code",
   "execution_count": 139,
   "metadata": {
    "collapsed": false
   },
   "outputs": [
    {
     "data": {
      "text/plain": [
       "(4149385, 5)"
      ]
     },
     "execution_count": 139,
     "metadata": {},
     "output_type": "execute_result"
    }
   ],
   "source": [
    "podcast_sim_same_genre.shape"
   ]
  },
  {
   "cell_type": "code",
   "execution_count": 140,
   "metadata": {
    "collapsed": false
   },
   "outputs": [
    {
     "data": {
      "text/plain": [
       "(4149385, 6)"
      ]
     },
     "execution_count": 140,
     "metadata": {},
     "output_type": "execute_result"
    }
   ],
   "source": [
    "podcast_sim_diff_genre.shape"
   ]
  },
  {
   "cell_type": "code",
   "execution_count": 141,
   "metadata": {
    "collapsed": false
   },
   "outputs": [
    {
     "data": {
      "text/html": [
       "<div>\n",
       "<table border=\"1\" class=\"dataframe\">\n",
       "  <thead>\n",
       "    <tr style=\"text-align: right;\">\n",
       "      <th></th>\n",
       "      <th>result_podcast_id</th>\n",
       "      <th>search_podcast_id</th>\n",
       "      <th>similarity</th>\n",
       "      <th>genre_id</th>\n",
       "      <th>podcast_id_x</th>\n",
       "      <th>podcast_id_y</th>\n",
       "    </tr>\n",
       "  </thead>\n",
       "  <tbody>\n",
       "    <tr>\n",
       "      <th>0</th>\n",
       "      <td>13596</td>\n",
       "      <td>18463</td>\n",
       "      <td>0.695872</td>\n",
       "      <td>267</td>\n",
       "      <td>18463</td>\n",
       "      <td>13596</td>\n",
       "    </tr>\n",
       "    <tr>\n",
       "      <th>1</th>\n",
       "      <td>13596</td>\n",
       "      <td>18463</td>\n",
       "      <td>0.695872</td>\n",
       "      <td>234</td>\n",
       "      <td>18463</td>\n",
       "      <td>13596</td>\n",
       "    </tr>\n",
       "    <tr>\n",
       "      <th>2</th>\n",
       "      <td>13596</td>\n",
       "      <td>18463</td>\n",
       "      <td>0.695872</td>\n",
       "      <td>210</td>\n",
       "      <td>18463</td>\n",
       "      <td>13596</td>\n",
       "    </tr>\n",
       "    <tr>\n",
       "      <th>3</th>\n",
       "      <td>16583</td>\n",
       "      <td>18463</td>\n",
       "      <td>0.655369</td>\n",
       "      <td>267</td>\n",
       "      <td>18463</td>\n",
       "      <td>16583</td>\n",
       "    </tr>\n",
       "    <tr>\n",
       "      <th>4</th>\n",
       "      <td>16583</td>\n",
       "      <td>18463</td>\n",
       "      <td>0.655369</td>\n",
       "      <td>234</td>\n",
       "      <td>18463</td>\n",
       "      <td>16583</td>\n",
       "    </tr>\n",
       "  </tbody>\n",
       "</table>\n",
       "</div>"
      ],
      "text/plain": [
       "   result_podcast_id  search_podcast_id  similarity  genre_id  podcast_id_x  \\\n",
       "0              13596              18463    0.695872       267         18463   \n",
       "1              13596              18463    0.695872       234         18463   \n",
       "2              13596              18463    0.695872       210         18463   \n",
       "3              16583              18463    0.655369       267         18463   \n",
       "4              16583              18463    0.655369       234         18463   \n",
       "\n",
       "   podcast_id_y  \n",
       "0         13596  \n",
       "1         13596  \n",
       "2         13596  \n",
       "3         16583  \n",
       "4         16583  "
      ]
     },
     "execution_count": 141,
     "metadata": {},
     "output_type": "execute_result"
    }
   ],
   "source": [
    "podcast_sim_diff_genre.head()"
   ]
  },
  {
   "cell_type": "code",
   "execution_count": null,
   "metadata": {
    "collapsed": true
   },
   "outputs": [],
   "source": []
  }
 ],
 "metadata": {
  "kernelspec": {
   "display_name": "Python 2",
   "language": "python",
   "name": "python2"
  },
  "language_info": {
   "codemirror_mode": {
    "name": "ipython",
    "version": 2
   },
   "file_extension": ".py",
   "mimetype": "text/x-python",
   "name": "python",
   "nbconvert_exporter": "python",
   "pygments_lexer": "ipython2",
   "version": "2.7.10"
  }
 },
 "nbformat": 4,
 "nbformat_minor": 0
}
