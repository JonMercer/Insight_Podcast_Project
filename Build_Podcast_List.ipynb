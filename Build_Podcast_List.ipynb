{
 "cells": [
  {
   "cell_type": "code",
   "execution_count": 74,
   "metadata": {
    "collapsed": false
   },
   "outputs": [],
   "source": [
    "%matplotlib inline\n",
    "\n",
    "import pandas as pd\n",
    "import seaborn as sns\n",
    "import numpy as np\n",
    "import guess_language"
   ]
  },
  {
   "cell_type": "code",
   "execution_count": 50,
   "metadata": {
    "collapsed": false
   },
   "outputs": [],
   "source": [
    "# load all .tsv files\n",
    "# source: https://github.com/ageitgey/all-podcasts-dataset\n",
    "colNames = ['slug', 'name', 'image_url', 'feed_url', 'website_url', 'itunes_owner_name', 'itunes_owner_email', 'managing_editor_name', 'managing_editor_email', 'explicit', 'description', 'itunes_summary'] \n",
    "podcastDf = pd.DataFrame(columns=colNames)\n",
    "files = !ls data/*.tsv\n",
    "\n",
    "for file in files:\n",
    "    podcastDf = podcastDf.append(pd.read_table(file, header=None, names=colNames), ignore_index=True)"
   ]
  },
  {
   "cell_type": "code",
   "execution_count": 69,
   "metadata": {
    "collapsed": false
   },
   "outputs": [],
   "source": [
    "# remove podcasts that don't have itunes summary or itunes explicit rating (probably not in itunes)\n",
    "# remove podcasts that don't have feed url\n",
    "podcastDf = podcastDf.dropna(subset=['itunes_summary', 'explicit', 'feed_url'])"
   ]
  },
  {
   "cell_type": "code",
   "execution_count": 87,
   "metadata": {
    "collapsed": false
   },
   "outputs": [],
   "source": [
    "# guess language based on itunes_summary\n",
    "lang_guess = []\n",
    "for x in podcastDf['itunes_summary']:\n",
    "    lang_guess.append(guess_language.guessLanguageName(x))"
   ]
  },
  {
   "cell_type": "code",
   "execution_count": 89,
   "metadata": {
    "collapsed": false
   },
   "outputs": [],
   "source": [
    "podcastDf['language'] = pd.Series(lang_guess, index = podcastDf.index)"
   ]
  },
  {
   "cell_type": "code",
   "execution_count": 96,
   "metadata": {
    "collapsed": false
   },
   "outputs": [],
   "source": [
    "# keep only English podcasts\n",
    "podcastDf = podcastDf.query(\"language == 'English'\")"
   ]
  },
  {
   "cell_type": "code",
   "execution_count": 98,
   "metadata": {
    "collapsed": false
   },
   "outputs": [],
   "source": [
    "# save df to pickle\n",
    "podcastDf.to_pickle('pkl/english_podcasts.pkl')"
   ]
  }
 ],
 "metadata": {
  "kernelspec": {
   "display_name": "Python 2",
   "language": "python",
   "name": "python2"
  },
  "language_info": {
   "codemirror_mode": {
    "name": "ipython",
    "version": 2
   },
   "file_extension": ".py",
   "mimetype": "text/x-python",
   "name": "python",
   "nbconvert_exporter": "python",
   "pygments_lexer": "ipython2",
   "version": "2.7.10"
  }
 },
 "nbformat": 4,
 "nbformat_minor": 0
}
