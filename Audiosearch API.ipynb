{
 "cells": [
  {
   "cell_type": "code",
   "execution_count": 2,
   "metadata": {
    "collapsed": false
   },
   "outputs": [
    {
     "name": "stdout",
     "output_type": "stream",
     "text": [
      "Collecting git+git://github.com/popuparchive/audiosearch-client-python\n",
      "  Cloning git://github.com/popuparchive/audiosearch-client-python to /var/folders/hg/kw83c_j57xqd055hr739mhvm0000gn/T/pip-2HL6e0-build\n",
      "Installing collected packages: audiosearch\n",
      "  Running setup.py install for audiosearch\n",
      "Successfully installed audiosearch-1.0.0\n"
     ]
    }
   ],
   "source": [
    "!pip install git+git://github.com/popuparchive/audiosearch-client-python"
   ]
  },
  {
   "cell_type": "code",
   "execution_count": 4,
   "metadata": {
    "collapsed": false
   },
   "outputs": [],
   "source": [
    "from Audiosearch import Client"
   ]
  },
  {
   "cell_type": "code",
   "execution_count": 8,
   "metadata": {
    "collapsed": false
   },
   "outputs": [],
   "source": [
    "# login credentials\n",
    "apiId = '3fd9f6c6eb92d9596c419d998eab88f3fceb021d5c047a373e8cf91a97daa3b6'\n",
    "apiSecret = 'c2972bd0c854920469fb2f5eed934a0975688250ac58e790dc1e0537d6c2fca7'\n",
    "\n",
    "# create a client\n",
    "client = Client(apiId, apiSecret)"
   ]
  },
  {
   "cell_type": "code",
   "execution_count": 13,
   "metadata": {
    "collapsed": false
   },
   "outputs": [],
   "source": [
    "# get show info\n",
    "showId = 466 # political gabfest\n",
    "show = client.get_show(showId)"
   ]
  },
  {
   "cell_type": "code",
   "execution_count": 18,
   "metadata": {
    "collapsed": true
   },
   "outputs": [],
   "source": [
    "# get episode info\n",
    "episodeId = show['episode_ids'][5]\n",
    "episode = client.get_episode(episodeId)"
   ]
  },
  {
   "cell_type": "code",
   "execution_count": 23,
   "metadata": {
    "collapsed": false
   },
   "outputs": [
    {
     "data": {
      "text/plain": [
       "18931"
      ]
     },
     "execution_count": 23,
     "metadata": {},
     "output_type": "execute_result"
    }
   ],
   "source": [
    "episodeId"
   ]
  },
  {
   "cell_type": "code",
   "execution_count": 25,
   "metadata": {
    "collapsed": false
   },
   "outputs": [
    {
     "data": {
      "text/plain": [
       "[u'extra',\n",
       " u'entities',\n",
       " u'show_id',\n",
       " u'description',\n",
       " u'title',\n",
       " u'audio_files',\n",
       " u'itunes_episode',\n",
       " u'digital_location',\n",
       " u'tags',\n",
       " u'updated_at',\n",
       " u'highlights',\n",
       " u'image_files',\n",
       " u'urls',\n",
       " u'physical_location',\n",
       " u'date_added',\n",
       " u'duration',\n",
       " u'date_created',\n",
       " u'identifier',\n",
       " u'show_title',\n",
       " u'id',\n",
       " u'categories']"
      ]
     },
     "execution_count": 25,
     "metadata": {},
     "output_type": "execute_result"
    }
   ],
   "source": [
    "episode.keys()"
   ]
  },
  {
   "cell_type": "code",
   "execution_count": 32,
   "metadata": {
    "collapsed": false
   },
   "outputs": [
    {
     "data": {
      "text/plain": [
       "[{u'id': 7,\n",
       "  u'name': u'News & Politics',\n",
       "  u'name_lc': u'news & politics',\n",
       "  u'parent_id': None},\n",
       " {u'id': 53,\n",
       "  u'name': u'Government & Organizations',\n",
       "  u'name_lc': u'government & organizations',\n",
       "  u'parent_id': 7},\n",
       " {u'id': 54, u'name': u'National', u'name_lc': u'national', u'parent_id': 7}]"
      ]
     },
     "execution_count": 32,
     "metadata": {},
     "output_type": "execute_result"
    }
   ],
   "source": [
    "episode['categories']"
   ]
  },
  {
   "cell_type": "code",
   "execution_count": null,
   "metadata": {
    "collapsed": true
   },
   "outputs": [],
   "source": []
  }
 ],
 "metadata": {
  "kernelspec": {
   "display_name": "Python 2",
   "language": "python",
   "name": "python2"
  },
  "language_info": {
   "codemirror_mode": {
    "name": "ipython",
    "version": 2
   },
   "file_extension": ".py",
   "mimetype": "text/x-python",
   "name": "python",
   "nbconvert_exporter": "python",
   "pygments_lexer": "ipython2",
   "version": "2.7.10"
  }
 },
 "nbformat": 4,
 "nbformat_minor": 0
}
