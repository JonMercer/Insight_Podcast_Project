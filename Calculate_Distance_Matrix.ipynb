{
 "cells": [
  {
   "cell_type": "code",
   "execution_count": 1,
   "metadata": {
    "collapsed": true
   },
   "outputs": [],
   "source": [
    "from gensim import utils, corpora, models, similarities\n",
    "import pandas as pd\n",
    "import numpy as np\n",
    "import logging\n",
    "logging.basicConfig(format='%(asctime)s : %(levelname)s : %(message)s', level=logging.INFO)"
   ]
  },
  {
   "cell_type": "code",
   "execution_count": 9,
   "metadata": {
    "collapsed": true
   },
   "outputs": [],
   "source": [
    "# load document similarity data\n",
    "corpus = corpora.MmCorpus('gensim/corpus_tfidf.mm')\n",
    "lsi = models.LsiModel.load('gensim/model.lsi')\n",
    "index = similarities.MatrixSimilarity.load('gensim/tfidf_lsi_similarities.index')\n",
    "id_mapping = pd.read_pickle('gensim/podcast_id_to_gensim_id.pkl')"
   ]
  },
  {
   "cell_type": "code",
   "execution_count": 13,
   "metadata": {
    "collapsed": true
   },
   "outputs": [],
   "source": [
    "# initialize similarity matrix\n",
    "mat_size = index.index.shape[0]\n",
    "sim_matrix = np.zeros([mat_size, mat_size])"
   ]
  },
  {
   "cell_type": "code",
   "execution_count": 14,
   "metadata": {
    "collapsed": true
   },
   "outputs": [],
   "source": [
    "# populate similarity matrix\n",
    "for i in range(mat_size):\n",
    "    sim_matrix[i,] = index.get_similarities(index.index[i])"
   ]
  },
  {
   "cell_type": "code",
   "execution_count": 15,
   "metadata": {
    "collapsed": false
   },
   "outputs": [
    {
     "data": {
      "text/plain": [
       "array([[ 1.00000012,  0.19962205,  0.12194061, ...,  0.00368411,\n",
       "         0.21953507,  0.00601853],\n",
       "       [ 0.19962205,  1.        ,  0.21413304, ...,  0.06572066,\n",
       "         0.50981921, -0.12356023],\n",
       "       [ 0.12194061,  0.21413304,  0.99999994, ..., -0.03393359,\n",
       "         0.01746151, -0.00876458],\n",
       "       ..., \n",
       "       [ 0.00368411,  0.06572066, -0.03393359, ...,  1.        ,\n",
       "         0.08506828,  0.0961953 ],\n",
       "       [ 0.21953507,  0.50981921,  0.01746151, ...,  0.08506828,\n",
       "         1.        ,  0.05457357],\n",
       "       [ 0.00601854, -0.12356027, -0.00876458, ...,  0.09619528,\n",
       "         0.05457357,  1.        ]])"
      ]
     },
     "execution_count": 15,
     "metadata": {},
     "output_type": "execute_result"
    }
   ],
   "source": [
    "sim_matrix"
   ]
  },
  {
   "cell_type": "code",
   "execution_count": 16,
   "metadata": {
    "collapsed": true
   },
   "outputs": [],
   "source": [
    "distance_matrix = 1 - sim_matrix"
   ]
  },
  {
   "cell_type": "code",
   "execution_count": 17,
   "metadata": {
    "collapsed": true
   },
   "outputs": [],
   "source": [
    "np.save('gensim/distance_matrix.npy', distance_matrix)"
   ]
  },
  {
   "cell_type": "code",
   "execution_count": null,
   "metadata": {
    "collapsed": true
   },
   "outputs": [],
   "source": []
  }
 ],
 "metadata": {
  "kernelspec": {
   "display_name": "Python 2",
   "language": "python",
   "name": "python2"
  },
  "language_info": {
   "codemirror_mode": {
    "name": "ipython",
    "version": 2
   },
   "file_extension": ".py",
   "mimetype": "text/x-python",
   "name": "python",
   "nbconvert_exporter": "python",
   "pygments_lexer": "ipython2",
   "version": "2.7.10"
  }
 },
 "nbformat": 4,
 "nbformat_minor": 0
}
