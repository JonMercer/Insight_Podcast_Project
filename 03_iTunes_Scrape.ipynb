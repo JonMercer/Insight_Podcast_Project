{
 "cells": [
  {
   "cell_type": "code",
   "execution_count": 389,
   "metadata": {
    "collapsed": true
   },
   "outputs": [],
   "source": [
    "import pycurl, json, sys\n",
    "import re\n",
    "import pandas as pd\n",
    "import numpy as np\n",
    "import datetime as dt\n",
    "from common_func import check_url\n",
    "from BeautifulSoup import BeautifulSoup\n",
    "import urllib2\n",
    "import unidecode"
   ]
  },
  {
   "cell_type": "code",
   "execution_count": 321,
   "metadata": {
    "collapsed": false
   },
   "outputs": [
    {
     "data": {
      "text/plain": [
       "(49930, 36)"
      ]
     },
     "execution_count": 321,
     "metadata": {},
     "output_type": "execute_result"
    }
   ],
   "source": [
    "pkls = !ls pkl/itunes*COMPLETE.pkl\n",
    "podcastDf = pd.read_pickle(pkls[-1])\n",
    "podcastDf.shape"
   ]
  },
  {
   "cell_type": "code",
   "execution_count": 322,
   "metadata": {
    "collapsed": false
   },
   "outputs": [
    {
     "data": {
      "text/plain": [
       "(33227, 36)"
      ]
     },
     "execution_count": 322,
     "metadata": {},
     "output_type": "execute_result"
    }
   ],
   "source": [
    "# filter out podcasts with no itunes collection id\n",
    "podcastDf = podcastDf[np.isfinite(podcastDf['collectionId'])]\n",
    "podcastDf.shape"
   ]
  },
  {
   "cell_type": "code",
   "execution_count": 323,
   "metadata": {
    "collapsed": false
   },
   "outputs": [
    {
     "data": {
      "text/plain": [
       "(6273, 36)"
      ]
     },
     "execution_count": 323,
     "metadata": {},
     "output_type": "execute_result"
    }
   ],
   "source": [
    "# filter out podcasts without recent episodes\n",
    "days_thresh = 45\n",
    "thresh_date = dt.datetime.today() - dt.timedelta(days=days_thresh)\n",
    "\n",
    "podcastDf['releaseDate'] = pd.to_datetime(podcastDf['releaseDate'])\n",
    "podcastDf = podcastDf[podcastDf.releaseDate > thresh_date]\n",
    "podcastDf.shape"
   ]
  },
  {
   "cell_type": "code",
   "execution_count": 324,
   "metadata": {
    "collapsed": false
   },
   "outputs": [],
   "source": [
    "# convert collectionId to int\n",
    "podcastDf['collectionId'] = [int(x) for x in podcastDf['collectionId']]"
   ]
  },
  {
   "cell_type": "code",
   "execution_count": 98,
   "metadata": {
    "collapsed": false
   },
   "outputs": [],
   "source": [
    "# make sample for testing\n",
    "testDf = podcastDf.sample(n=20)"
   ]
  },
  {
   "cell_type": "code",
   "execution_count": 205,
   "metadata": {
    "collapsed": false
   },
   "outputs": [],
   "source": [
    "baseUrl = 'https://itunes.apple.com/us/podcast/id'"
   ]
  },
  {
   "cell_type": "code",
   "execution_count": 173,
   "metadata": {
    "collapsed": true
   },
   "outputs": [],
   "source": [
    "# will store pycurl output\n",
    "class Test:\n",
    "   def __init__(self):\n",
    "       self.contents = ''\n",
    "\n",
    "   def body_callback(self, buf):\n",
    "       self.contents = self.contents + buf"
   ]
  },
  {
   "cell_type": "code",
   "execution_count": 313,
   "metadata": {
    "collapsed": true
   },
   "outputs": [],
   "source": [
    "def run_curl(url):\n",
    "    t = Test()\n",
    "    c = pycurl.Curl()\n",
    "    c.setopt(pycurl.URL, url)\n",
    "    c.setopt(pycurl.HTTPHEADER, ['X-Apple-Store-Front: 143441-1,12', 'X-Apple-Tz: 3600'])\n",
    "    c.setopt(pycurl.USERAGENT, 'iTunes/9.2.1 (Macintosh; Intel Mac OS X 10.5.8) AppleWebKit/533.16')\n",
    "    c.setopt(pycurl.SSL_VERIFYHOST, 0)\n",
    "    c.setopt(pycurl.SSL_VERIFYPEER, 0)\n",
    "    c.setopt(pycurl.WRITEFUNCTION, t.body_callback)\n",
    "    c.perform()\n",
    "    return t"
   ]
  },
  {
   "cell_type": "code",
   "execution_count": 426,
   "metadata": {
    "collapsed": true
   },
   "outputs": [],
   "source": [
    "def clean_description(d):\n",
    "    d = unidecode.unidecode(d)\n",
    "    d = d.replace('\\n', ' ')\n",
    "    if re.findall(r'(.*) brought to you by.*', d):\n",
    "       d = re.sub(r'brought to you by.*', '', d)\n",
    "    if re.search(r'(.*) sponsored by.*', d):\n",
    "       d = re.sub(r'sponsored by.*', '', d)\n",
    "    return d"
   ]
  },
  {
   "cell_type": "code",
   "execution_count": 430,
   "metadata": {
    "collapsed": false
   },
   "outputs": [
    {
     "name": "stdout",
     "output_type": "stream",
     "text": [
      "no data\n"
     ]
    }
   ],
   "source": [
    "for ind, row in testDf.iterrows():\n",
    "    itunesId = row['collectionId']\n",
    "    scrapeUrl = baseUrl + str(itunesId)\n",
    "    \n",
    "    # get podcast summary\n",
    "    t = run_curl(scrapeUrl)\n",
    "    soup = BeautifulSoup(t.contents)\n",
    "    p = soup.p\n",
    "    if p:\n",
    "        podcastSummary = soup.p.string\n",
    "    else: # redirect\n",
    "        newUrl = soup.findAll(text=re.compile(r'https'))\n",
    "        newUrl = newUrl[0]\n",
    "        newUrl = re.sub(r'&amp;', r'&', newUrl)\n",
    "        t = run_curl(newUrl)\n",
    "        soup = BeautifulSoup(t.contents)\n",
    "        p = soup.p\n",
    "        if p:\n",
    "            podcastSummary = soup.p.string\n",
    "        else:\n",
    "            podcastSummary = np.nan\n",
    "    \n",
    "    # get episode descriptions\n",
    "    episodeData = soup.findAll('button', kind='episode')\n",
    "    try:\n",
    "        episodeData = [clean_description(e['description']) for e in episodeData]\n",
    "    except: # no description\n",
    "        episodeData = np.nan"
   ]
  },
  {
   "cell_type": "code",
   "execution_count": 432,
   "metadata": {
    "collapsed": false
   },
   "outputs": [
    {
     "data": {
      "text/plain": [
       "279821049"
      ]
     },
     "execution_count": 432,
     "metadata": {},
     "output_type": "execute_result"
    }
   ],
   "source": [
    "itunesId"
   ]
  },
  {
   "cell_type": "code",
   "execution_count": 328,
   "metadata": {
    "collapsed": false
   },
   "outputs": [],
   "source": [
    "# get political gabfest data\n",
    "scrapeUrl = baseUrl + '158004641'\n",
    "t = run_curl(scrapeUrl)\n",
    "soup = BeautifulSoup(t.contents)\n",
    "newUrl = soup.findAll(text=re.compile(r'https'))\n",
    "newUrl = newUrl[0]\n",
    "newUrl = re.sub(r'&amp;', r'&', newUrl)\n",
    "t = run_curl(newUrl)\n",
    "soup = BeautifulSoup(t.contents)"
   ]
  },
  {
   "cell_type": "code",
   "execution_count": 422,
   "metadata": {
    "collapsed": false
   },
   "outputs": [],
   "source": [
    "# get savage lovecast data\n",
    "scrapeUrl = baseUrl + '201376301'\n",
    "t = run_curl(scrapeUrl)\n",
    "soup = BeautifulSoup(t.contents)\n",
    "newUrl = soup.findAll(text=re.compile(r'https'))\n",
    "newUrl = newUrl[0]\n",
    "newUrl = re.sub(r'&amp;', r'&', newUrl)\n",
    "t = run_curl(newUrl)\n",
    "soup = BeautifulSoup(t.contents)"
   ]
  },
  {
   "cell_type": "code",
   "execution_count": 424,
   "metadata": {
    "collapsed": false
   },
   "outputs": [],
   "source": [
    "episode_data = soup.findAll('button', kind='episode')"
   ]
  },
  {
   "cell_type": "code",
   "execution_count": 425,
   "metadata": {
    "collapsed": false
   },
   "outputs": [
    {
     "name": "stdout",
     "output_type": "stream",
     "text": [
      "A young woman is about to embark on a three-way with her boyfriend and another man. How can she make sure the experience isn't demeaning?  A gay man has incest fantasies. How can he find a man willing to role play a father-figure?  A married woman and her husband prefer to use condoms. So why is everyone around her so smug and condescending about it?  On the Magnum, Dan speaks with Dr. Robert Garofalo about a father whose kid calls himself transmale, but often presents as female. They discuss the challenges parents face in keeping an open mind and an open heart as kids and teens figure themselves out.  206-302-2064  This episode is \n",
      "What to do when your drunken cousin starts blabbing about all the affairs she's having and all the cocaine she's snorting and all the traffic accidents she's having?  A professor is in anguish because she is about to sleep with a much younger, very good looking FORMER student. A couple of her (male) colleagues think this is a bad idea. Most of them (all women) say \" Go for it.\" What do you, dear listener, think she should do?  On the Magnum, Dan chats with Dr. Lori Brotto, about a woman's numb clitoris. She feels nothing, poor thing.  And, a college student wonders if it's a good idea to chat about her schoolwork naked with a man she found on Craigslist. He would pay her. What could go wrong?  206-302-2064  This episode is \n",
      "In two separate calls, straight men are harassed by their gay male friends. One caller had his buddy drunkenly grope him. The other's pal assails him with aggressive sexual innuendo. Knock it off fellas!  A married woman has a husband who doesn't trust her. She comes home late from her bar job and he assumes she's cheating on him. She's never been unfaithful. How can she turn this ship around?  On the Magnum, Dan gets a Second Opinion from Mallory Ortberg, Slate's delightful, new \"Dear Prudie\" advice columnist. Dan throws Mallory in the deep end with a call from a woman whose 60 year-old housesitter might have riffled through her sex toy drawer, and concludes with a call from the brother of a child rapist. Welcome to the advice business, Mallory!  206-302-2064  The Savage Lovecast is \n",
      "A woman has started \"living her passion\" by working as a webcam girl. But she's nervous about telling her mother about her new career. How can she break the news?  A woman fulfilled a lifelong fantasy of having a super-hot threeway with two bi men. But now, she wants to escalate the situation and get with some gay men. How can she troll for homos while still respecting their boundaries?  On the Magnum, Dan chats with Dr. Justin Lehmiller for a \"What You Got?\" about  lower STI rates among the non-monogamous. Who'd a thunk it?  Dan also chats with Robby Soeve from Reason.com about the hideous phenomenon of police persecuting kids who send sexts to each other.  Doesn't it just make you SO MAD?  Happy New Year!  206-302-2064  The Savage Lovecast is \n",
      "A woman's husband makes unpleasant sexual innuendos and gropes her right in front of the kids. How can she get him to stop?  Are you into puke porn? OMG so am I!  Anyway, a very kind hearted, GGG woman wants to help her husband to realize his fantasy of having her throw up on him. But that might not be a healthy kink in the end, right?  Dan chats with Cass King of the Wetspots (creators of our fabulous \"What You Got?\" stinger) about their upcoming burlesque musical.  Also, are men becoming more modest in the locker room? Mark Stern from Slate weighs in.  On the Magnum, all hail Roberta Kaplan! She is the attorney who brought a welcome end to the despicable Defense of Marriage Act. She comes on the show to help answer a question from a lesbian who is applying for a job which only provides benefits to spouses of the \"opposite gender.\" Wha?  Oh no you din't.  206-302-2064  This episode of the Savage Lovecast is \n",
      "A stoned gentleman is wracked with guilt for making the dog he's caring for stop masturbating already! (Maybe he should be hitting the indica rather than the sativa, say the TSARY.)  \"Virginity is obsolete as a concept,\" declares this 20 year-old woman, who is seeing an 18 year-old lad with precious little experience. How can she take care of her little darling and gently guide him to the land of sexual pleasure, honoring the campsite rule?  A strident feminist has found a man who can really get her off. The problem is that he is a chauvenist pig! Is it ethical to sleep with the enemy?  On the Magnum, Dan and AIDS activist Peter Staley get into a dust-up over PreP and its effect on rising STD rates among gay men. (Don't worry, they're still friends.)  Get your Savage Lovecast coffee mugs over at www.thestranger.com/savageswag  206-302-2064  This episode is also \n",
      "It's the One-Minute Wonder Show! You asked your questions in one minute or less, and Dan tried to keep his answers brief, with diminishing success.  Here's a smattering of topics: The dangers of road head, olive oil as lube, haggling with your sex worker, tingly come, excluding dog-f*****s from your orgy and so much more. Also, Nancy gets riled up!  On the Magnum, the long-suffering Dr. Barak gently explains that no, men cannot get bacterial vaginosis, and answers a requisite question about pee.  206-302-2064  This podcast is \n",
      "A man's boyfriend went as a \"slut\" for Halloween. It turns out, this was a really bad idea.  A woman loves getting tied up. But she also needs to touch herself to get off. So...how is this gonna work?  On the Magnum, Dan chats with trans writer Parker Molloy about the challenges of transitioning for both partners in a relationship.  And, hear the story of a woman who enters \"The Land of Pleasure.\" By which she means having sex with over 30 men in one long evening. Dan chats with her about how to enjoy her gang-bang kink safely.  206-302-2064     The Savage Lovecast is \n",
      "As you gather around the Thanksgiving table to bask in the warmth and glow of your loved ones, here are some reasons you will feel thankful:  Your sister's boyfriend isn't beating her up, your wife isn't a transphobic Russian, your boyfriend's father doesn't beat him up, your mother isn't a toxic evil mess and your step-father (who is also your boss,) doesn't kick your dog.  If any of these things are true for you, well then this show will offer company for your misery. It's the Families Show!  Also, the preternaturally delightful Ken Jennings, 74-time winner of Jeopordy!, for heaven's sake, explains how he can reconcile his big, big brain with his Mormon faith.  And, on the Magnum, Dan breaks some disturbing news to his big brother Billy.  Listen in, won't you?  206-302-2064     This episode of the Savage Lovecast is \n",
      "\"Bark! Bark! Bark!\" That's what a kinky woman's dog will say when it hears her getting spanked. She worries that this might be a problem, and so, should she maybe not get a dog?  A divorced woman is sleeping with the repair man. Her ex-husband is sleeping with their children's former nanny. Were you just complaining about your life being too complicated?  On the Magnum, Dan chats with Jonathan Eig, author The Birth of the Pill.  Finally, a man's girlfriend catches him masturbating to a picture of her friend. And she's totally cool with it. Just kidding! All hell breaks loose.   206-302-2064  This episode is also \n",
      "Hear the sordid tale of what the gay man saw when he woke up to find his boyfriend absent from the guest bed while they were visiting a ...friend.  Meanwhile in another corner of the cheat-o-verse, a man sees his best friend's girlfriend on a daitng app. He thought they were monogamous. Should he rat her out to his pal?  On the Magnum, Dan brings on a couple of guests. Debra Soh is a writer whose latest article in Salon ruffled some feathers. She wrote about our dysfunctional approach to treating pedophiles and the people started freaking.  And, Dan brings on OB/GYN and writer Dr. Jen Gunter to discuss abortion and concept of a \"little soul.\"  Do you have a family? Do you want to ask a question about them? Call us!  206-302-2064  This podcast is \n",
      "It's episode 420!  Oh wait. No it isn't. We totally spaced episode 420. But better late than never! Dan, Nancy and the Tech-Savvy, At-Risk Youth journey to Denver, Colorado where we recorded a live show, baked out of our skulls. Because pot is legal in Colorado, you see.  Does pot enhance sex?  Does lube infused with THC actually work? Will Dan and his weed-addled panel end the show sounding even vaguely coherent?  You'll have to listen to find out.  206-302-2064  This episode is  \n",
      "In the opening rant, Dan finally opens up and tells us what he *really* thinks of the Catholic Church.  Hear the strange and seedy tale of a male lap dance gone horribly wrong.  On the Magnum, Dan chats with RIVAL sex advice podcaster Dr. Debby Herbenick about PReP for women and condom aversion for ladies.  And, your amazing, supportive calls to the 20 year-old lesbian from last week who feels trapped with her unkind family. You guys are the best.  Donate! To the following organizations:  Ali Forney Center: www.aliforneycenter.org  Lucie's Place: www.luciesplace.org  The True Colors Fund: https://truecolorsfund.org  Albert Kennedy Trust: www.akt.org.uk  206-302-2064  This episode of the Savage Lovecast is \n",
      "How can a man convince his lady to give him the kind of sloppy head that makes her gag? It's not like he's anti-feminist or anything!  A woman's mother-in-law does NOT APPROVE of her poly lifestyle. But mom doesn't know that her precious son is also as poly as the day is long. Should they cut off contact from his mother? Or is it time for him to come out already?  Tear jerker! Dan tries to talk a suffering, abused gay kid into leaving her parents' toxic home.  On the Magnum, get kinky with Mollena Williams, a.k.a The Perverted Negress.  206-302-2064  This episode is \n",
      "At the top of the show, Dan speaks with a clever lass with a foolproof plan to ensure the defeat of Canada's dreadful Stephen Harper.  A man is very close to an old childhood friend. Although they have always had a platonic relationship, his girlfriend of 6 months is beginning to freak out. If he attended a wedding as his pal's plus-one, would that be crossing a line?  A woman's new boyfriend told her he's into cuckolding. But how soon is too soon to indulge this complicated fetish?  A self-professed sex addict jerks it so hard and so often that he has a raw dick with scars to show for it. But is this really sex addiction? Dr. David Ley, author of \"The Myth of Sex Addiction\" begs to differ.  Dan chats with that hilarious, half-mulleted lesbian Cameron Esposito! They talk about shaving down there, letting go of exes and desperate, sex-starved, pregnant straight ladies. Some of their conversation is on the Micro and the whole dang thing is on the Magnum.  Cuz that's how we hook you in.  206-302-2064     The Savage Lovecast is \n",
      "Dan has some helpful suggestions for the NRA!  A woman saw a man exposing himself outside a family-friendly restaurant. She called the cops. Was this wrong?  In order to prove that his girlfriend doesn't put out as much as he would like, a man documents their sex life on an app. The girlfriend finds this creepy. Dear listener, do you?  Rachel Percelay from Media Matters has been studying Fox News' coverage of trans issues. She and Dan discuss what she found.  And finally, Christopher Frizzelle from The Stranger talks about the amazing social/sex lives of orca whales and plight of Lolita, an orca trapped in hell for the past 40 years.  FREE LOLITA!  206-302-2064  This episode is \n",
      "A woman who identified as lesbian of 15 years (with a wife even,) has taken a younger, male lover. So, how is this gonna work?  A man's girlfriend insists that if and when they have kids, he will have to go through \"labor simulation.\"  He thinks this is batty. But what does Dan Savage think?  On the Magnum, Dan chats with trans luminary Kate Bornstein about words vs slurs, the Caitlin Jenner effect and Kate's deep, dark past with Scientology.  206-302-2064  Today's episode is \n",
      "It's the dick show! Do you have one? (Or are you one?)  Gather around for a \"What You Got?\" with Dr. Cynthia Graham about condoms and male sensitivity, the poor things.  Then! On the Magnum, Mike Pearl, a writer for Vice Magazine discusses the science behind the need to rename Death Grip Syndrome.  Also, how do you deal with it when a flasher lives in your neighborhood?  And tons more.  206-302-2064  Today's episode is \n",
      "Have you ever loved someone so much, even though you've known them for only 6 weeks, that when they break up with you, you call a sex advice podcaster sobbing and sobbing?   Meanwhile, a married man with his wife for 11 years, is working on forgiving her for cheating on him, and on opening their relationship so she can be her full self. Also, he thinks it's kind of hot.   On the Magnum, Dan chats with trans porn star/occultist Bailey Jay about the effects of hormone therapy on libido.   Also, what to do when your boyfriend is TOO NICE.   206-302-2064  This episode is \n",
      "It's the \"Let's Decriminalize Sex Work\" episode! Dan chats with Vox writer German Lopez on the evidence which shows the benefits of legalizing sex work. (Like duh...)   And on on the Magnum, Dan chats with adult film actor Dirk Caber about the real effects of the federal raid on Rentboy.com.   Also, you've heard what Dan thinks about the Republican field, but what does he think about the Dems?   And, how would you deal with a roommate who shows up in your room wearing nothing but a lecherous smile?   206-302-2064  This episode is \n",
      "A man has entered into a committed poly triad... and mom's not having it. How can the caller get his mother to accept his other girlfriend?   Dan's take on the shenanigans of hilarious comedian, Bill Cosby.   A woman's boyfriend REALLY wants to do anal. He wants this so badly that he's willing to try it without warning, lube or consent. And it causes her tremendous pain. Can any of you guess what Dan's advice is?   On the Magnum, Dan chats with New York Times religion writer Mark Oppenheimer about his new podcast \"Unorthodox,\" and the Jewish-Mormon connection.   Also, dating a chronic liar; super- fun or super-exhausting?  206-302-2064  The Savage Lovecast is \n",
      "Pee drinking in the UK: How common is it? Do mates drink each other's urine routinely, or do they have to kind of know each other a little better? A tale for the vault, folks.   How should you handle a nasty blabbing co-worker who tells everyone that you have herpes?   On the Magnum, slaves, Mistress Matisse joins us in the studio (on the 23rd floor of the Washington Mutual Building overlooking the beautiful Puget Sound,) to discuss the sex workers' rights movement and also how to overpower your willing sub. If, by some freak of life circumstances you haven't yet heard Mistress Matisse, you simply must tune in, so hard does she rock.   Also, If you are the godmother to your best friend's child, and you are also a swinger, are you honor-bound to disclose this to your friend?   And more.   206-302-2064  This episode is \n",
      "Dan and Peter Sagal, host of NPR's \"Wait Wait... Don't Tell Me\" join forces to discuss baptism, Jewish vs Catholic guilt, clingy, needy human doormats, and the special torture that open relationships can bring on. Peter is hilarious and delightful- this show is not to be missed. Some of it is on the Micro, all of it is on the Magnum.   Also, how to approach a cute amputee without causing offense.  206-302-2064  This episode is \n",
      "Dan on the Republican empathy gap. Why does the Republican party care so much about Fox News' Megyn Kelly, but not so much about you?   A woman doesn't understand how bondage, S&M, humiliation and rape fantasies can take place in the context of a loving relationship.   On the Magnum, Dan and writer/blogger Amanda Marcotte dish about the Republican primaries, and how the \"War Against Women\" is still very much ON.   A man keeps his past open relationship secret. How can he be an ambassador for open relationships without broadcasting his personal business?   And more!   206- 302-2064  The Savage Lovecast is \n",
      "Dan speaks to an actual lesbian about how to get started in the homosexual lifestyle.   Also hear the sordid tale of the evil rock star training an army of dick-biting groupies.   On the Magnum, Dan welcomes Dr. Vy Chu, to discuss a worst case ass scenario and how to care for your sweet, sweet bottom.   New Number! Use it. Live it.   206-302-2064  This episode is \n",
      "A woman feels so insecure about the way her vagina looks, she won't let her boyfriend near it. How can he convince her that she is beautiful all over?  A disabled gay man has a boyfriend who refuses to have sex with him. His psychiatrist thinks they should stay together. Dan thinks otherwise.   On the Magnum, Dan speaks with Matt Baume, author of \"Defining Marriage\" about the heroes of the marriage equality struggle.   Also, a pestering professor asks his former student to sleep with him, right after she asked him for a recommendation. How should she handle this bit of unpleasantness?   And more.   Call us at our new number! 206-302-2064  This episode of theSavage Lovecastis supported by SundanceNow Doc Club: The new streaming service for everyone who loves documentaries. To get a free 30-day trial go to Docclub.com/Savage.  This episode is also brought you by JustWorks.com. Justworks helps businesses take care of their benefits, payroll and HR. Get 15% off your first year when you sign up with code LOVECAST.\n",
      "After a wedding guest sat and endured some anti-gay loony talk from a bigoted pastor, a woman wonders what she could have done better. Walk out? Audibly boo?  Hear a couple of calls from women who get off on lesbian porn, and the very different reactions their boyfriends have to this unspeakable perversity.  Dan welcomes Joan Price, author of Naked at Our Age, to answer some calls concerning sex for the senior set. If you're looking for sex toys for your parents or grandparents, this show is a must.   Also, hear the woeful tale of the woman whose father discovered her giving a blow job on the beach.   206-201-2720  This episode of the Savage Lovecast is \n",
      "An opening rant on Zachery Anderson, who was unfairly imprisoned and put on the sex offenders registry, because an uptight judge wants you to know that hook-up apps are terribly naughty.    A man wonders if he should personally confront a guy he knows who creeps on women.   On the Magnum, Dan chats with author and rival advice columnist Tristan Taormino about reclaiming the pleasure of anal sex after an assault.   And, hear the tale of the strangest job a housecleaner has ever been offered.   206-201-2720  Please sign the Change.org petition to exonerate Zachery Anderson: http://chn.ge/1Jed8oG  This episode of theSavage Lovecastis supported by SundanceNow Doc Club: The new streaming service for everyone who loves documentaries. To get a free 30-day trial go to Docclub.com/Savage.  This podcast is also \n",
      "While you and I danced in the streets, Dan was trapped in Australia, where marriage equality is NOT YET LEGAL. Hear his thoughts on the Supreme Court decision.  A woman is attractive, accomplished and has big plans. But when potential dates start talking to her, they quickly shut down and move on. What is she doing wrong? Is her grandmother correct that she talks to much?   A woman was sexually abused by her mother. Is she obligated to explain this to her 16 year-old son?   On the Magnum, Dan speaks with PhD neuroscientist and data scientist  Matthew Baggott about the therapeutic uses of MDMA. A.k.a ecstacy,a.k.a. the LOVE DRUG. Does it have a place in your therapists office?  This episode is \n",
      "This week we are delighted to welcome Hillary Frank, host and creator of The Longest Shortest Time podcast, to answer some questions about reclaiming your sex life after pregnancy.  Also, a woman tends to date messed-up, and/or addicted guys, because she likes to try to heal them in their \"time of darkness.\" How can she keep doing all this groovy healing without constantly dating damaged men?  A woman's husband is bisexual. He came out to a friend at their subtly anti-gay church group and the man ran screaming. How can she help her husband to get over the loss of this friend?   And more, more, more.   206-201-2720  This episode of theSavage Lovecastis supported by SundanceNow Doc Club: The new streaming service for everyone who loves documentaries. To get a free 30-day trial go to Docclub.com/Savage.  This episode of the Savage Lovecast is also \n",
      "OMG it's actual movie star famous guy celebrity JASON SCHWARTZMAN. And guess what? He's clever, funny and super-nice. He and Dan talk about his new movie The Overnight, swinging, swastika tattoos (spoiler: he's against them,) controlling mothers, and the famous people you want to sleep with. Don't miss it. There's some on the micro, and more on the Magnum.   Also, a man's new boyfriend has the same name of a former abuser of his. How can he get over the horrible association?   And, how can an experimenting bisexual lass get \"lesbian society\" to take her seriously?  206-201-2720  This episode is \n",
      "A divorced single mother can't seem to get it through her lovers' heads that she just wants casual relationships. How can she convince them that there's no ring required?   A woman's mouth is dick Kryptonite! Her boyfriend's penis always goes soft when she tries to go down. What on earth is she doing wrong?   On the Magnum, Dan talks to author and bioethics professor Alice Dreger as well as documentarian Liz Canner, who created Orgasm Inc, about the hype and general scumminess surrounding the new \"Female viagra\"- flibanserin.  And tons more.   206-201-2720  This episode of theSavage Lovecastis supported by SundanceNow Doc Club: The new streaming service for everyone who loves documentaries. To get a free 30-day trial go to Docclub.com/Savage.  Today's Lovecast is also \n",
      "An 18 year-old man and his girlfriend are learning how to get it on. She can make herself come, but he can't get her there himself. Would a vibrator be such a bad idea?   Dan welcomes comedian, writer and actress Ophira Eisenberg (host of NPR's \"Ask Me Another\") to discuss the wisdom of face tattoos and the sexiness of mansplaining.   On the Magnum, a family tiptoes around their gay son's atrocious behavior because they're afraid he'll call them homophobic.   Hey penis-havers! Do you ever have aftershock orgasms when you pee after sex?   Tell us all about it.   206-201-2720  The Savage Lovecast is \n",
      "The complicated nature of abusive relationships: Dan speaks with Seattle author Jason Schmidt about his memoir A List of Things That Didn't Kill Me, a raw, honest look at the mix of neglect, abuse and fierce love in his own upbringing. You should buy this book, and then read it.   Also, a gay man is about to go to drama school at a conservative Christian college. Should he stay in the closet just long enough to graduate and then begin the lifelong project of exacting his revenge?  On the Magnum, a straight man is friends with a transwoman. Once she got her surgery, she's suddenly super-hot to the caller. Is it time to make a move?  And, breast milk: It's not just for babies anymore!  206-201-2720  This podcast is \n",
      "Mom has been having an affair for 17 years, and dad just found out about it. How can this beleaguered daughter support both of her parents?   A gold star lesbian fell into bed with a man, and discovered that...she liked it. A lot. Now what?   On the Magnum, what makes people rat out their friends or family for infidelity?   Dan speaks with Dr. Dan Kruger for a \"What You Got?\" about why people blow the whistle.    Also, a woman is dating a man who happily accepts blow jobs, but won't go down on her because he only does that for \"slender ladies.\"   And tons more.   206-201-2720  The Savage Lovecast is \n",
      "A woman finds herself in the middle of a poly free-for-all when she falls for a guy who is sleeping with every woman he can get his mitts on. Is this the poly lifestyle, or just a dude with a harem?   A woman is nursing a crush on a man she suspects to be gay. Is there any way she can divine the truth?   On the Magnum, Dan speaks with Dr. Andreas Baranowski for a \"What You Got\" on what happens to women when you take fear out of casual sex in a sexy, sexy laboratory. (Warning! The sound quality in this interview is pretty bad. But we can't help it when science happens in Germany!)   And the show ends where it began- with poly heartbreak. A man is crushed to hear that his girlfriend wants him to take a step back, so her girlfriend can move into his primary slot. And he thought he was so cool with the whole poly thing...  It's not for everyone, kids.   206-201-2720  This podcast is \n",
      "This week we delight in welcoming the incomparable poet, writer and filmmaker Sherman Alexie. He and Dan discuss white chicks who embrace \"Native American spirituality,\"  how to pretend to be abstinent to placate your psychopathic preacher, and whether it's creepy to ask your younger girlfriend to call you \"daddy.\" Sherman is a treasure and this is not to be missed.   This episode is \n",
      "Conservatives smile with their mouths. But liberals smile with their eyes. So says social psychologist Andreas Wojcik in a \"What You Got\" proving once and for all that lefties are happier than right-wingers.   A young man suffers from CUNNILINGUS LOCKJAW. Although Dan has never experienced this particular ailment, he nonetheless  has some advice to give.  On the Magnum, Dan chats with trans rights activist Chelsea Poe about straight cis men who are attracted to transwomen.   A woman used to cut herself when she was depressed. She's better now, but has many scars to show from her dark times. How can she warn her new lovers and get over the shame and embarrassment she feels?  206-201-2720     The Savage Lovecast is \n",
      "A priest and a rabbi come onto a podcast...  This week Dan welcomes the retired gay Episcopal Bishop of New Hampshire, Gene Robinson, as well as a Rabbi Jeremy Gerber to tackle some thorny religion/sex issues.   How should straight men act at gay pride parades?   Are facials inherently misogynist?  A woman has just discovered that her husband had an affair. But when they finished fighting about it, the sex was hotter than ever!  A married man notices that when he and his wife fight, she tends to withhold sex. Is this a strategy, and how can he make it stop?  And a ton more.    206-201-2720  The Savage Lovecast is \n",
      "After a long dry spell, a woman's husband is finally going down on her. But his stubble is causing considerable discomfort! Dare she use her words and suggest he take a razor blade to his pretty face?   A teen girl in Utah has just discovered feminism. She realizes she has only seen images of passive women on the tee-vee, and worries that she won't know what to do in bed. How can she learn to take an active role?   On the Magnum, are you ready to rumble? From our live show in Portland this year, witness Dan vs. the mighty Cheryl Strayed from the Dear Sugar podcast in an ADVICE SLINGING CLASH OF THE TITANS.   Send us your one minute or less calls!   206-201-2720  This podcast is \n",
      "Can Dan convince a young woman to accept and forgive her father for having a 9-year-long affair with a married woman?   Listen in as Dan deftly navigates through the kind of  theoretical quandary that only a conservative silly person could present.   Dan interviews Laura Anderson about her Slate article covering the history of condoms and why they could be so much better.   On the Magnum, fall down the poly rabbit hole with us, won't you? Dan chats with poly activist and lawyer Diana Adams about the rise of polyamory in our cultural awareness, and how to live the poly lifestyle, while maintaining your precious sanity. Also, don't you want to learn about \"Poly Cocktails\"?  206-201-2720  Today's Lovecast is \n",
      "This week, we are delighted to welcome Dr. Kara Cadwallader from Planned Parenthood to answer a backlog of medical questions about herpes, meningitis, IUDs and the good ole flu.   When you cheat and cheat and cheat, is it time to call yourself poly?   On the Magnum, Dan chats with writer, journalist, and transgender woman Parker Molloy, about seeking the understanding and acceptance of family members when dating a trans person.   And, a gay man wants to try a threeway with a woman included. Does he have to turn in his gay card?   And MORE.   206-201-2720  This episode is \n",
      "Her fiance would rather enjoy congress with an unwashed blow-up doll than his betrothed. Does this spell ruin, or just a happy companionate marriage?   Hear the steamy tale of the nude model, the super-hot art teacher and the things he does with his laser pointer.   On the Magnum we've been saving up parenting questions for the indomitable Amy Lang, sex educator and creator of Birds + Bees + Kids, to help parents talk to their kids about s-e-x.   And, Dan interviews Alison Stevenson about her article in Vice Magazine, about not giving blow jobs  206-201-2720     This podcast is \n",
      "Trapped in LA, Dan chitty-chats with comedian Jeffery Self about self lubricating, bossy slaves, \"little brother\" role playing and three-ways with celebrities among other things. The Gay is strong with this one.   Also, on the Magnum Dan talks with Sex and Family Educator Stephanie Mitelman about the struggles people on the autism spectrum have with sexuality and dating.   206-201-2720  Today's Lovecast is \n",
      "The Lovecast is delighted to welcome Mistress Matisse. Dan and our favorite dominatrix/sex-worker rights activist talk about getting started with domination, the perils of being a sex worker and (what else?) 60 Shades of Grey.   When planning a three-way with your wife and a friend of yours, how do you choose the lucky friend? And how can you minimize the awkwardness when you make the ask?   On the Magnum, hear the spooky tale of a mother-in-law's mysterious vibrating couch.    206-201-2720  This episode is \n",
      "A self-professed \"pervert\" is married to a self-professed \"Christian.\" He wants to keep watching his porn in peace, she forbids it. Should he sneak to see Hump, or fess up and invite her along?   A hand-wringing lesbian feels guilty whenever she gets the foot massages that turn her on so.   Dan chats withJonathan Capehart (of the Washington Post and MSNBC)  about homophobia in black culture, and the CONSPIRACY to destroy black families by making black men gay.   On the Magnum, Dan welcomes Historian of Sexuality Alice Dreger to talk about her brave new book, \"Galileo's Middle Finger: Heretics, Activists, and the Search for Justice in Science.\"  Today's Lovecast is \n",
      "The Lovecast welcomes Anna Sale from WNYC's \"Death, Sex & Money\" podcast to pick over the nuances of Dan's thinking on non-monogamy.   We check in on a caller from last year who has recurring cancer, and a boyfriend who wasn't quite ready to marry her. Learn how she is doing, and whether they tied the knot.   Hear the tale of yet another deflowered, \"abstinence-only\" Christian. (It's kind of hot...)   So much. Always so much.   206-201-2720  This podcast is \n",
      "An amputee is offended when her new boyfriend warns his brother about her disabilities. Is she being too sensitive?   A man is being ask to lie about his sister-in-law's abortion. How should he handle the complicated family dynamics?   How do gay people happen? Do mommies cause them?   On the Magnum version of the show, a very smug Dan Savage interviews Dr. Amy Muise about her recent paper which proved, (PROVED!) that being GGG is beneficial to relationships. Science says so.   A woman is horrified to discover that her boyfriend has been sending off dick pics to anyone who will look on Craigslist. Dan gently talks her off the break-up ledge.     206-201-2720  The Savage Lovecast is \n",
      "A married woman has lost all sex drive. Her husband is willing to let her be with other men. But the thought of her husband with another woman makes her so jealous that her mouth goes dry. Is this gonna work out ok?  A straight man with a newly issued hall pass is having a hard time meeting ladies who will sleep with him because they know he's in a relationship. Why must it be this way? Why?!   On the Magnum, Dan chats with author Johann Hari, on our silly little drug war, and how drug abuse results from boredom and isolation, not drug availability.   And more!   206-201-2720  This podcast is \n",
      "A kinkster is worried that her feminist mother will see some bruises and assume the worst about her boyfriend. How can she explain that they are in a loving, mutually satisfying Dom/sub situation?   A woman doesn't like to swallow her boyfriend's come. Is this a rare condition?   On the Magnum, Dan chats with Zoe Tersche from the website ThisWink.com about how to comport yourself at kinky play parties.   And, a man with a heart condition is sick of his lovers going easy on him in bed. Can he ethically withhold the information that the exciting sex they are about to enjoy might make him keel over?   What a way to go.   206-201-2720  This episode is \n",
      "Gather round, heathens: It's Bible study time! Dan and gay Evangelical Christian Matthew Vines talk about how gay Christians can help the less \"affirming\" churches to come around to tolerance. They also geek out about the Bible like you wouldn't believe.   206-201-2720  This podcast is \n",
      "On this, the week of Dan and Terry's 20th anniversary, Dan grapples with some tricky, tricky questions:  At exactly what point in the dating process would it be polite to disclose that you are already in an open relationship?   A woman likes to be thin. Her man prefers a more hefty physique. How can she deal with his compliments if they only come when she feels bad about herself?   And, a woman's boyfriend is losing his hair, and plans to get a buzz cut. But she really likes a head of long, luxurious hair! If he won't wear a hat or a wig, is it...over?   On the Magnum, Dan speaks with Chicago Sun-Times columnist Neil Steinberg about tolerance in the wake of Charlie Hebdo.   And, a woman's boyfriend wants to spend a wild weekend in Vegas with his buddies. Fine! But does she really have to do the three hour drive each way to take him to the goddamn airport?   Both ways?   206-201-2720     This episode is also \n",
      "It's the Getting Women to Come Show! Sometimes ladies can't come and want to. Sometimes ladies can't come and they don't want to. Dan sure talks a lot about female orgasms on this show, considering he's never been near one.   Bad Science Alert! Female Ejaculate: Is it pee? Dan speaks with fearless blogger Amy Luna Manderino about some annoying hyperventilation in response to a recent study on squirting.   On the Magnum, Dan chats with Cooper Beckett from the Life on the Swingset podcast about the joys and perils of swinging.  And finally, a new image will come to mind when you hear \"She's smokin' hot!!\"  206-201-2720  This podcast is \n",
      "How can you tell when a slap to the face is welcome or unwelcome in a BDSM situation? A weepy slapper wants to know.   How much trouble can naughty photos on Tumblr cause your new boyfriend?   Chest tattoos: hot or not? Dan welcomes Heather Havrilesky of \"Ask Polly\" to tackle this one in a Second Opinion.  And on the Magnum, does a woman have a right to ask about her new boyfriend's prescription for Cialis? Nancy weighs in!   206-201-2720  This podcast is \n",
      "A husband can't be bothered to bring his wife to orgasm. Why? It's too much work! His hand gets tired!  A man is pretty sure his nephew is gay. The rest of the family is homophobic. How can he soften the ground with the family, and let him know he has support without outing or embarrassing him?   On the Magnum, Dan welcomes comedian Mike Birbiglia to tackle a question about REM sleep disorder. Also Annie.   A woman is willing to be a sub in the bedroom, but when her new boyfriend barks out orders in the kitchen, well, that's not cool!   206-201-2720  This podcast is \n",
      "A drunken lass has intellectual crushes on her professors. How can she express her \"love for their intellect?\"   A man is totes bummed when a date ditches him after discovering that he smokes cigarettes. Is this just what online dating is like?   One condom. Three people. Does this math add up?   On the Magnum, Dan chats with uber-lesbian author and sex educator Allison Moon about female ejaculation and the geyser that sometimes results.   And, listen to a cavalcade of remedies for PMS!  This podcast is \n",
      "Come all ye faithful. It's the Lovecast Live Christmas Extravaganza!   Recorded at Seattle's Neptune Theatre, this show features singer-songwriter Rachel Lark, comedian Derek Sheen, and a suddenly recruited, unwitting therapist! And Dan uses the scientific method to prove once and for all that Christmas. Isn't. Sexy.   But you be the judge. Photos are at www.thestranger.com/LovecastChristmasPics  206-201-2720  This podcast is \n",
      "If you're a bisexual man in a monogamous relationship with a woman, is a little twink porn so wrong?   When mothers move in: A woman's libido plummeted right around the time that her boyfriend's mother moved in to the apartment below them. Coincidence?   In an action-packed Magnum, Dan welcomes rival advice-giving powerhouse Carolyn Hax to grapple with some serious poly drama and super-freaky, non-communicative parents.   Also, all hail Evan Wolfson! He's the architect of the national gay marriage legalization campaign. He and Dan discuss the plight of a gay, married man who has to move to a state that doesn't recognize his marriage.   All that...and more.   206-201-2720     This episode is \n",
      "A bi man from a conservative Christian family had been through conversion therapy twice as a child. Strangely enough, it didn't work. He's all grown up now and coming out for real. How can he maintain a decent relationship with his \"family?\"  A high school teacher and his entire class is horrified to see a female student masturbating in class. How can he teach her the timeless lesson that wanking in pubic is more trouble than it's worth?  On the Magnum, Dan speaks with a researcher on the science of teen sexting. (Spoiler: Teens be horny.)   And, a gay man is attracted to transmen. Where can he find them?   And so much more.   206-201-2720  This podcast is \n",
      "A woman dating a water-sports enthusiast is having a hard time, just \"letting go.\"  A straight man is horrified by misogynistic, abusive porn. Why is it popular? How can he avoid it?   In another instance of straight male bewilderment, a man in his 50s doesn't \"get\" bondage. How can he find a woman who isn't interested in 50 Shades of anything?   On the Magnum, Dan spars with family therapist Damon L Jacobs on the PREP controversy.   And a sad tale of yet another rape at a fraternity, with a victim who didn't report it.   206-201-2720  This episode is \n",
      "If you or someone you love is considering coming out over Thanksgiving, you simply must listen to the Magnum version of the show. A lesbian's father is a religious leader, who begged her to stay in that deep, dark closet or he might lose his \"job.\" He's gonna have a rough holiday this year. Stay tuned.   Dan welcomes Erika Moen, graphic artist and creator of \"Oh Joy, Sex Toy,\" a must-read comic.   And, Dan issues a public service announcement for all you pee drinkers out there.   And so much more.   206-201-2720  The Savage Lovecast is \n",
      "Wait. You haven't yet heard \"My Brother, My Brother and Me?\"   Well, we've rectified that situation, as Dan joins forces with the Brothers McElroy for a Second Opinion on how to change your boyfriend's look, the cruel practice of \"sexile\" and a cold hard look at the institution of the \"dude's night out.\"     On the Magnum, hear Dan try to talk some sense into a young man whose fuckbuddy is a heroin enthusiast. She's twitchin' and scratchin' but he's \"leaning toward eating her pussy.\" Hhhhot!   This is kind of one of our favorite shows. Listen in, won't you?  206-201-2720  Listen to the brothers every single week at MBMBAM.com.   This episode is \n",
      "This week Dan speaks with Janet Yassen from the national rape support organization RAINN about recovering your sexuality after a sexual assault.   A father struggles to explain his affair to his 12 year old daughter.  On the Magnum, Dan dishes with Dan Pashman, host of WNYC's The Sporkful on the connection between food, sex, and general deliciousness.   And, does the HPV really vaccine work? The answer is yes. But in case you are still skeptical, Dan brings on an expert to confirm.    206-201-2720  Get tickets to our Christmas Extravaganza!!  December 5, at Seattle's Neptune Theatre: www.TheStranger.com/LovecastChristmas  This episode is \n",
      "Dan and the incomparable RuPaul chat about Drag Race, foot fetishes and living in Wyoming.   A man's girlfriend wants to seize control of his alcohol intake. But... he's a brewer.   A woman's boyfriend has a nasty, ill-tempered dog that licks and licks and licks him. Yuck?   On the Magnum, Dan speaks with Dr. Brock Bastian about his study which shows how pain brings people together. Awwww.   And, the developing story of \"The Cuddle, the Nipple and the Ask. \"  206-201-2720  This episode is \n",
      "It's the triumphant return of Dr. Barak, here to reassure us that drinking pee is still \"pretty darn safe.\"   Is guzzling j**z the equivalent of drinking a protein shake?   Should a man rat out his boss for watching porn on his phone after work?   On the Magnum version, Dan speaks with Katha Pollitt about her new book, Pro: Reclaiming Abortion Rights.   And more.   206-201-2720  This episode is \n",
      "Delusion and disfunction; this episode has more than it's fair share. Inevitable break-ups, sexless marriages, cheating and scheming. Feast your ears!   On the sweet, sweet Magnum, Dan chats with sex party luminary Polly Superstar!  Also, in a \"What You Got?\" Dan chats with Dr. Rachel Jones from the Guttmacher Institute about the much maligned withdrawal method.  206-201-2720  This episode is \n",
      "It's the Savage Lovecast LIVE from Vancouver BC. Featuring the super-delightful sex researcher Dr. Lori Brotto and the incomparably filthy singer-songwriter Rachel Lark.     You only live once...  206-201-2720  This podcast is \n",
      "A man is getting a yucky feeling from his best friend's new girlfriend. They've never met, mind you. But she seems kind of superficial? On social media? Should he speak up to protect his friend, or butt out already?   A very naughty woman is sexting with her ex-boyfriend. AND HE DOESN'T KNOW IT'S HER.   On the Magnum, Dan and comedian Cameron Esposito yak about straight men in lesbian bars, pathetic closet cases, and a woman who is trapped in and oppressed by her given name.      Cameron's got a real pretty voice.   206-201-2720     This episode is \n",
      "This week, Dan brings on heavy-hitter advice columnist Margo Howard (daughter of THE Ann Landers...) to cackle and spar about cooking your way into your boyfriend's heart, and TANTRIC SEX of all things.   Also, a very sad call about a woman who can only get off when she watches realistic date rape porn.   On the Magnum, Dan brings on super lawyer Diana Adams to discuss custody battles and whether your open relationship can be held against you in court.   And a lot more.   206-201-2720   This episode is \n",
      "A man's wife uses their dom/sub relationship as ammo when they are fighting. And THAT AIN'T FAIR!   Should it be a deal-breaker if your boyfriend doesn't like your sense of humor? (Hint: YES.)   A gay man is having some complicated orgy issues. Don't we all?   On the Magnum, Dan chats with Sarah Mirk- the online editor of Bitch Magazine about feminist-friendly porn; how to find it, and how to avoid the bad stuff.   And more, more, more.   206-201-2720  This episode is \n",
      "Hey Dan Savage! What do you think about waiting to have sex until marriage? Dan? Good idea?   A woman enjoys sharing naked photos of herself. Her friends warn her against it. But it gets her off, so why should she listen to them?   On the Magnum, we welcome Debby Herbenick to discuss the vibrator addiction epidemic plaguing ladies across the land.   And, a ton of kind, thoughtful responses from our listeners to the lass who was trapped in a hot & cold relationship with a cold-blooded sociopath. This is not to be missed.   You listeners are some kind of wonderful.   206-201-2720  This podcast is \n",
      "A woman is shocked to learn that her best friend is a trans woman. Why did she keep it secret? Should the caller feel betrayed?   Hear the tale of the French maid outfit that destroyed a relationship.   A college lesbian is horrified to discover that her roommate is an aggressively anti-gay Christian. A woman's former rapist continues to harass her online. In both cases the archangel Dan Savage raises his mighty sword to do some smiting.   We love a good smiting.  206-201-2720     This episode is \n",
      "What do you do when your potential new roommate comes with his very own stalker?   Dan chats with Dr. Vy Chu about the real risks of sleeping with honest, HIV-pos guys.  On the Magnum, we are delighted to bring back fashion force-of-nature Simon Doonan, to discuss the feminist implications of camel toes.   And a ton more.   206-201-2720  This episode is \n",
      "Dan and his old co-host Mary Martone talk about cat jealousy, mate poaching, and have an epic, drag-out battle over fat-shaming.   This episode is \n",
      "This week, Dan welcomes author Joan Price to talk about sexuality for older folks.  Meanwhile, back in high school, a gay lad is suffering because his boyfriend has suddenly decided he's straight.   On the Magnum, Dan chats and spars with prolific freelance writer Jillian Keenan about whether kink is a sexual orientation.   And, how can a gentle giant figure out how to dominate his lady in the way she really wants?   206-201-2720  This episode is \n",
      "Take it from us, whatever you do- don't offend the adult baby.   Also, how should you respond when you get hit on by a 13 year-old?   On the Magnum, Dan speaks with \"Lazlo\" -organizer of the Orgy Dome at Burning Man about sex at the sandy festival.    And, welcome to yet another abstinence-before-marriage train wreck.   206-201-2720  This episode is \n",
      "Starting the show, Dan invites co-ranter Congressman Patrick J. Murphy to discuss why democrats treat military personnel better than the Rs.   A gay man is getting cat-called by his horn-dog neighbor. How can he politely tell him to knock it off?  On the Magnum, you'll hear a \"What You Got\" with Sociology Professor Elizabeth Armstrong, about how rich girls slut-shame poor girls on college campuses.  Also, does anybody have a lead on really great Slovakian dating sites?   206-201-2720  This podcast is \n",
      "Dan and infectious disease doctor/science writer Jonathan Golob talk about people who are anti-vaccine and whether you should have sex with them.   On the Magnum, Dan chats with YouTube sensation Arielle Scarcella about the wide, wide world of lesbians.   Also, spunk up the nose; big problem, or little problem? Also, Dan knows NOTHING about he Bible.   206-201-2720  This episode is \n",
      "Dan and his buddy Lucy chat about spanking, cheating, pervy cousins and sleeping with the cab driver.   206-201-2720  This episode is \n",
      "When a guy uses concert tickets to entice you to spend time with him, should you accept, even if you feel no attraction? Or would that make you mercenary?   A lesbian wonders how to let her potential employers know that she's gay during her job interview.   On the Magnum, Dan chats with Japanese bondage trailblazer Midori, about getting what you want out of a kink relationship.   Also, is the X-men character Mystique bisexual or what?   And more.   206-201-2720  This podcast is \n",
      "Dan welcomes special guest ranter Martha Plimpton to talk about Hobby Lobby.  A gay male couple were locked in a pattern of cheating to get revenge on each other. Now that they've cut it out, how can they bring in some trust?   On the Magnum, how much do little children remember? WIll they remember the trip to Disneyland? Will they remember their first day of kindergarten? Will they remember the home video of mommy they stumbled on where she shows her bum-bum?  Also, Dan chats with perversity expert Jesse Bering on people who just LOVE animals.   And so much more.   206-201-2720  This episode is \n",
      "A gay man appears to be a straight man magnet. Straight men declare their love for him more than gay men do. Why? And how can he make it stop?!   Meanwhile, in the mountains of Alaska, a couple have reached the divide where one of them wants kids and the other doesn't. One of them will win. One will lose.   On the Magnum, it's our second Second Opinion! This time, with \"Ask Amy's\" Amy Dickinson who braves some raunchy territory with naughty Dan Savage.   Also, Alice Dreger on talking to your kid about pornography.   206-201-2720  This episode is \n",
      "A woman discovers through dubious sources that her step-mother might be cheating on her father. Dan walks her through a way to deal with this unpleasantness.   A woman still living with her ex-husband and son wonders how poly people balance all those boyfriends and girlfriends.   On the Magnum, Dan welcomes philosophy professor and gay marriage diplomat John Corvino to discuss ethics and the state of the gay rights movement.  And more.   This episode is \n",
      "A woman battling cancer wishes to marry her boyfriend. But he's not quite ready. Maybe a sex-advice podcaster can convince him?   Another woman doesn't understand why her married male friends keep kitting on her. What signal is she sending out and how can she make it stop?   On the Magnum, Dan chats with the trans-man filmmaker Buck Angel about the changes in sexual desire that can accompany transitioning.   And, the next time you orgasm, check out your toes.   206-201-2720  This podcast is \n",
      "A man has learned that his father was sadistic, abusive and cruel. The caller is in to S&M. Does this mean he is destined to be just like his reprehensible father?   A woman is offered a \"free\" trip to the Caribbean. But the trip is so NOT free, as the offer came from a work superior who clearly wants to f**k her and has to sign off on her upcoming promotion. Should she buy a new bikini?   On the Magnum, Dan and Global Health & Medicine Dr. Jared Baeten talk about the pros and cons of using Truvada for HIV prevention.  And more.   206-201-2720  This episode is \n",
      "A woman is going nuts because her boyfriend insists on keeping a memento of his previous girlfriend. Is he being unreasonable, or is she the mayor of Crazytown?   A straight man wonders if it's too weird to ask his martial arts partner to be his \"kink buddy.\"   On the Magnum, Dan chats with Salon writer Tracy Clark-Flory about the \"Involuntary Celibates\" community, and the rampant misogyny within it. Yikes!  Also, meet yet another casualty in the Kissing Wars.   206-201-2720  This episode is \n",
      "A woman notices that her gay friend is dating younger and younger guys. At what point does young become too young?   A bisexual woman feels stifled in her marriage because she misses ladies. Does this spell inevitable ruin?   On the Magnum, Dan and Dr. Debby Herbenick discuss premature ejaculation and why it doesn't have to be the end of the world.   Also, a public service announcement from a miffed college professor.   And more...  This episode is \n",
      "In our first installment of \"Second Opinion,\" Dan and Slate's Dear Prudence face off on how to deal with poisonous in-laws, and how much to tip when you receive an unexpected happy ending.   On the Magnum, Dan chats with Dr. Paul Vasey about feeders, and whether it's possible to re-wire your kinky brain.   And so much more.   206-201-2720  This episode is \n",
      "Can two Aquarians last as a couple? Can they really?   Pop quiz! When is the best time to tell your girlfriend that you have crabs: a) Before you make sweet love to her all weekend. b) After you make sweet love to her all weekend.   On the Magnum, Dan speaks with Dr. Christian Grov for a \"What you Got?\" about what genuinely concerns male sex workers.   Also Dan chats with filmmaker David Thorpe on gay voices, and why people have such strong reactions to them.   And so very much more.   206-201-2720  This podcast is \n",
      "He grew up conservative and Christian. Now that he's over it, he's dating an awesome lass. But she likes to talk about sex, and he's still shy and giggly about it.   A woman and her husband have embarked on a long-distance, open relationship. But that doesn't mean she wants to hear every damn thing about the girls he's yakking with on Chat Roulette.   On the Magnum version, Dan speaks with Ellen Forney, creator of the amazing graphic novel \"Marbles\" about dating and disclosure when you have bipolar disorder.   And finally, arguably one of the oddest calls we've ever gotten from a man whose son is caught looking at...well, what he's caught looking at may shock you.   And so much more.   206-201-2720  This episode is \n",
      "How can a man best comfort the woman he just dumped?   A woman is scared to tell her parents that she is engaged to a man thirty years her senior.   And, Cleveland Steamers demystified!   On the Magnum, our house urologist- Dr. Stephen King tells more than you'll ever want to know about Peyronie's disease.   Also, lying drunk, pregnant friends, breast implants, and teenaged caretakers all await you on the Magnum version of the show.   206-201-2720  This podcast is \n"
     ]
    },
    {
     "ename": "KeyError",
     "evalue": "'description'",
     "output_type": "error",
     "traceback": [
      "\u001b[0;31m---------------------------------------------------------------------------\u001b[0m",
      "\u001b[0;31mKeyError\u001b[0m                                  Traceback (most recent call last)",
      "\u001b[0;32m<ipython-input-425-a4cc5ea7c252>\u001b[0m in \u001b[0;36m<module>\u001b[0;34m()\u001b[0m\n\u001b[1;32m      1\u001b[0m \u001b[0;32mfor\u001b[0m \u001b[0me\u001b[0m \u001b[0;32min\u001b[0m \u001b[0mepisode_data\u001b[0m\u001b[0;34m:\u001b[0m\u001b[0;34m\u001b[0m\u001b[0m\n\u001b[0;32m----> 2\u001b[0;31m     \u001b[0mdescription\u001b[0m \u001b[0;34m=\u001b[0m \u001b[0me\u001b[0m\u001b[0;34m[\u001b[0m\u001b[0;34m'description'\u001b[0m\u001b[0;34m]\u001b[0m\u001b[0;34m\u001b[0m\u001b[0m\n\u001b[0m\u001b[1;32m      3\u001b[0m     \u001b[0mdescription\u001b[0m \u001b[0;34m=\u001b[0m \u001b[0munidecode\u001b[0m\u001b[0;34m.\u001b[0m\u001b[0munidecode\u001b[0m\u001b[0;34m(\u001b[0m\u001b[0mdescription\u001b[0m\u001b[0;34m)\u001b[0m\u001b[0;34m\u001b[0m\u001b[0m\n\u001b[1;32m      4\u001b[0m     \u001b[0mdescription\u001b[0m \u001b[0;34m=\u001b[0m \u001b[0mdescription\u001b[0m\u001b[0;34m.\u001b[0m\u001b[0mreplace\u001b[0m\u001b[0;34m(\u001b[0m\u001b[0;34m'\\n'\u001b[0m\u001b[0;34m,\u001b[0m \u001b[0;34m' '\u001b[0m\u001b[0;34m)\u001b[0m\u001b[0;34m\u001b[0m\u001b[0m\n\u001b[1;32m      5\u001b[0m     \u001b[0;32mif\u001b[0m \u001b[0mre\u001b[0m\u001b[0;34m.\u001b[0m\u001b[0mfindall\u001b[0m\u001b[0;34m(\u001b[0m\u001b[0;34mr'(.*) brought to you by.*'\u001b[0m\u001b[0;34m,\u001b[0m \u001b[0mdescription\u001b[0m\u001b[0;34m)\u001b[0m\u001b[0;34m:\u001b[0m\u001b[0;34m\u001b[0m\u001b[0m\n",
      "\u001b[0;32m//anaconda/lib/python2.7/site-packages/BeautifulSoup.pyc\u001b[0m in \u001b[0;36m__getitem__\u001b[0;34m(self, key)\u001b[0m\n\u001b[1;32m    611\u001b[0m         \"\"\"tag[key] returns the value of the 'key' attribute for the tag,\n\u001b[1;32m    612\u001b[0m         and throws an exception if it's not there.\"\"\"\n\u001b[0;32m--> 613\u001b[0;31m         \u001b[0;32mreturn\u001b[0m \u001b[0mself\u001b[0m\u001b[0;34m.\u001b[0m\u001b[0m_getAttrMap\u001b[0m\u001b[0;34m(\u001b[0m\u001b[0;34m)\u001b[0m\u001b[0;34m[\u001b[0m\u001b[0mkey\u001b[0m\u001b[0;34m]\u001b[0m\u001b[0;34m\u001b[0m\u001b[0m\n\u001b[0m\u001b[1;32m    614\u001b[0m \u001b[0;34m\u001b[0m\u001b[0m\n\u001b[1;32m    615\u001b[0m     \u001b[0;32mdef\u001b[0m \u001b[0m__iter__\u001b[0m\u001b[0;34m(\u001b[0m\u001b[0mself\u001b[0m\u001b[0;34m)\u001b[0m\u001b[0;34m:\u001b[0m\u001b[0;34m\u001b[0m\u001b[0m\n",
      "\u001b[0;31mKeyError\u001b[0m: 'description'"
     ]
    }
   ],
   "source": [
    "for e in episode_data:\n",
    "    description = e['description']\n",
    "    description = unidecode.unidecode(description)\n",
    "    description = description.replace('\\n', ' ')\n",
    "    if re.findall(r'(.*) brought to you by.*', description):\n",
    "       description = re.sub(r'brought to you by.*', '', description)\n",
    "    if re.search(r'(.*) sponsored by.*', description):\n",
    "       description = re.sub(r'sponsored by.*', '', description)\n",
    "    print description"
   ]
  },
  {
   "cell_type": "code",
   "execution_count": 14,
   "metadata": {
    "collapsed": false
   },
   "outputs": [
    {
     "data": {
      "text/plain": [
       "['268213039',\n",
       " '73329771',\n",
       " '294055449',\n",
       " '73330715',\n",
       " '216713308',\n",
       " '155974141',\n",
       " '124960485',\n",
       " '258723953',\n",
       " '278974813',\n",
       " '98746009']"
      ]
     },
     "execution_count": 14,
     "metadata": {},
     "output_type": "execute_result"
    }
   ],
   "source": [
    "also_subcribed_ids = re.findall(r'adam-id=\"(\\d+)\" aria-label=', t.contents)"
   ]
  }
 ],
 "metadata": {
  "kernelspec": {
   "display_name": "Python 2",
   "language": "python",
   "name": "python2"
  },
  "language_info": {
   "codemirror_mode": {
    "name": "ipython",
    "version": 2
   },
   "file_extension": ".py",
   "mimetype": "text/x-python",
   "name": "python",
   "nbconvert_exporter": "python",
   "pygments_lexer": "ipython2",
   "version": "2.7.10"
  }
 },
 "nbformat": 4,
 "nbformat_minor": 0
}
