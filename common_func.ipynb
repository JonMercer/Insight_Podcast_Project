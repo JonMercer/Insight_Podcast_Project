{
 "cells": [
  {
   "cell_type": "code",
   "execution_count": 1,
   "metadata": {
    "collapsed": true
   },
   "outputs": [],
   "source": [
    "def convert_unicode(input):\n",
    "    if isinstance(input, dict):\n",
    "        return {convert_unicode(key): convert_unicode(value) for key, value in input.iteritems()}\n",
    "    elif isinstance(input, list):\n",
    "        return [convert_unicode(element) for element in input]\n",
    "    elif isinstance(input, unicode):\n",
    "        return input.encode('utf-8')\n",
    "    else:\n",
    "        return input"
   ]
  },
  {
   "cell_type": "code",
   "execution_count": null,
   "metadata": {
    "collapsed": true
   },
   "outputs": [],
   "source": [
    "def check_url(url, num_tries, wait_secs):\n",
    "    \"\"\"Check whether a url is valid. Allows multiple checks with waiting in between.\"\"\"\n",
    "    import time\n",
    "    for x in range(0, num_tries):  \n",
    "        try:\n",
    "            urllib2.urlopen(url)\n",
    "            str_error = None\n",
    "        except urllib2.URLError as str_error:\n",
    "            pass\n",
    "\n",
    "        if str_error:\n",
    "            time.sleep(wait_secs)  \n",
    "        else:\n",
    "            break\n",
    "    return str_error"
   ]
  }
 ],
 "metadata": {
  "kernelspec": {
   "display_name": "Python 2",
   "language": "python",
   "name": "python2"
  },
  "language_info": {
   "codemirror_mode": {
    "name": "ipython",
    "version": 2
   },
   "file_extension": ".py",
   "mimetype": "text/x-python",
   "name": "python",
   "nbconvert_exporter": "python",
   "pygments_lexer": "ipython2",
   "version": "2.7.10"
  }
 },
 "nbformat": 4,
 "nbformat_minor": 0
}
