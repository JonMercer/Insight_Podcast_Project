{
 "cells": [
  {
   "cell_type": "code",
   "execution_count": 1,
   "metadata": {
    "collapsed": true
   },
   "outputs": [],
   "source": [
    "from gensim import utils, corpora, models, similarities\n",
    "from simserver import SessionServer\n",
    "import pandas as pd\n",
    "\n",
    "import logging\n",
    "logging.basicConfig(format='%(asctime)s : %(levelname)s : %(message)s', level=logging.INFO)"
   ]
  },
  {
   "cell_type": "code",
   "execution_count": 2,
   "metadata": {
    "collapsed": true
   },
   "outputs": [],
   "source": [
    "#server = SessionServer('/Users/lindsay/Documents/Data Science/Insight/Project/simserver')\n",
    "server = SessionServer('simserver/')"
   ]
  },
  {
   "cell_type": "code",
   "execution_count": 2,
   "metadata": {
    "collapsed": true
   },
   "outputs": [],
   "source": [
    "# load pre-processed text\n",
    "preproc_text = pd.read_pickle('gensim/preprocessed_text_v2.pkl')"
   ]
  },
  {
   "cell_type": "code",
   "execution_count": 3,
   "metadata": {
    "collapsed": false
   },
   "outputs": [
    {
     "data": {
      "text/html": [
       "<div>\n",
       "<table border=\"1\" class=\"dataframe\">\n",
       "  <thead>\n",
       "    <tr style=\"text-align: right;\">\n",
       "      <th></th>\n",
       "      <th>id</th>\n",
       "      <th>language</th>\n",
       "      <th>text</th>\n",
       "    </tr>\n",
       "  </thead>\n",
       "  <tbody>\n",
       "    <tr>\n",
       "      <th>0</th>\n",
       "      <td>16392</td>\n",
       "      <td>English</td>\n",
       "      <td>[host, review, favorit, favorit, classic, pro,...</td>\n",
       "    </tr>\n",
       "    <tr>\n",
       "      <th>0</th>\n",
       "      <td>18489</td>\n",
       "      <td>English</td>\n",
       "      <td>[everyon, need, hope, everyon, need, encourag,...</td>\n",
       "    </tr>\n",
       "    <tr>\n",
       "      <th>0</th>\n",
       "      <td>12350</td>\n",
       "      <td>English</td>\n",
       "      <td>[insur, news, interview, rate, announc, insur,...</td>\n",
       "    </tr>\n",
       "    <tr>\n",
       "      <th>0</th>\n",
       "      <td>12351</td>\n",
       "      <td>English</td>\n",
       "      <td>[amovetv, crew, talk, video, game, esport, lot...</td>\n",
       "    </tr>\n",
       "    <tr>\n",
       "      <th>0</th>\n",
       "      <td>12352</td>\n",
       "      <td>English</td>\n",
       "      <td>[pastor, greg, lauri, thirtyminut, daili, radi...</td>\n",
       "    </tr>\n",
       "  </tbody>\n",
       "</table>\n",
       "</div>"
      ],
      "text/plain": [
       "      id language                                               text\n",
       "0  16392  English  [host, review, favorit, favorit, classic, pro,...\n",
       "0  18489  English  [everyon, need, hope, everyon, need, encourag,...\n",
       "0  12350  English  [insur, news, interview, rate, announc, insur,...\n",
       "0  12351  English  [amovetv, crew, talk, video, game, esport, lot...\n",
       "0  12352  English  [pastor, greg, lauri, thirtyminut, daili, radi..."
      ]
     },
     "execution_count": 3,
     "metadata": {},
     "output_type": "execute_result"
    }
   ],
   "source": [
    "preproc_text.head()"
   ]
  },
  {
   "cell_type": "code",
   "execution_count": 4,
   "metadata": {
    "collapsed": false
   },
   "outputs": [],
   "source": [
    "corpus = [{'id' : int(x['id']),\n",
    "           'tokens' : x['text']}\n",
    "         for ind, x in preproc_text.iterrows()]"
   ]
  },
  {
   "cell_type": "code",
   "execution_count": 5,
   "metadata": {
    "collapsed": false
   },
   "outputs": [],
   "source": [
    "# upload corpus to server\n",
    "utils.upload_chunked(server, corpus, chunksize=1000)"
   ]
  },
  {
   "cell_type": "code",
   "execution_count": 6,
   "metadata": {
    "collapsed": false
   },
   "outputs": [
    {
     "name": "stderr",
     "output_type": "stream",
     "text": [
      "ERROR:sqlitedict:failed to delete /var/folders/hg/kw83c_j57xqd055hr739mhvm0000gn/T/sqldictaaaad\n",
      "Traceback (most recent call last):\n",
      "  File \"//anaconda/lib/python2.7/site-packages/sqlitedict.py\", line 283, in terminate\n",
      "    os.remove(self.filename)\n",
      "OSError: [Errno 2] No such file or directory: '/var/folders/hg/kw83c_j57xqd055hr739mhvm0000gn/T/sqldictaaaad'\n",
      "ERROR:sqlitedict:failed to delete /var/folders/hg/kw83c_j57xqd055hr739mhvm0000gn/T/sqldict27aa32\n",
      "Traceback (most recent call last):\n",
      "  File \"//anaconda/lib/python2.7/site-packages/sqlitedict.py\", line 283, in terminate\n",
      "    os.remove(self.filename)\n",
      "OSError: [Errno 2] No such file or directory: '/var/folders/hg/kw83c_j57xqd055hr739mhvm0000gn/T/sqldict27aa32'\n",
      "ERROR:sqlitedict:failed to delete /var/folders/hg/kw83c_j57xqd055hr739mhvm0000gn/T/sqldict9cf695\n",
      "Traceback (most recent call last):\n",
      "  File \"//anaconda/lib/python2.7/site-packages/sqlitedict.py\", line 283, in terminate\n",
      "    os.remove(self.filename)\n",
      "OSError: [Errno 2] No such file or directory: '/var/folders/hg/kw83c_j57xqd055hr739mhvm0000gn/T/sqldict9cf695'\n"
     ]
    }
   ],
   "source": [
    "# train server (uses LSI and default dimensionality of 400 over a TF-IDF representation)\n",
    "server.train(corpus, method='lsi')"
   ]
  },
  {
   "cell_type": "code",
   "execution_count": 7,
   "metadata": {
    "collapsed": false
   },
   "outputs": [
    {
     "name": "stderr",
     "output_type": "stream",
     "text": [
      "ERROR:sqlitedict:failed to delete /var/folders/hg/kw83c_j57xqd055hr739mhvm0000gn/T/sqldict3283db\n",
      "Traceback (most recent call last):\n",
      "  File \"//anaconda/lib/python2.7/site-packages/sqlitedict.py\", line 283, in terminate\n",
      "    os.remove(self.filename)\n",
      "OSError: [Errno 2] No such file or directory: '/var/folders/hg/kw83c_j57xqd055hr739mhvm0000gn/T/sqldict3283db'\n",
      "ERROR:sqlitedict:failed to delete /var/folders/hg/kw83c_j57xqd055hr739mhvm0000gn/T/sqldictec1b65\n",
      "Traceback (most recent call last):\n",
      "  File \"//anaconda/lib/python2.7/site-packages/sqlitedict.py\", line 283, in terminate\n",
      "    os.remove(self.filename)\n",
      "OSError: [Errno 2] No such file or directory: '/var/folders/hg/kw83c_j57xqd055hr739mhvm0000gn/T/sqldictec1b65'\n",
      "ERROR:sqlitedict:failed to delete /var/folders/hg/kw83c_j57xqd055hr739mhvm0000gn/T/sqldictcd8a95\n",
      "Traceback (most recent call last):\n",
      "  File \"//anaconda/lib/python2.7/site-packages/sqlitedict.py\", line 283, in terminate\n",
      "    os.remove(self.filename)\n",
      "OSError: [Errno 2] No such file or directory: '/var/folders/hg/kw83c_j57xqd055hr739mhvm0000gn/T/sqldictcd8a95'\n"
     ]
    }
   ],
   "source": [
    "# index documents we trained on\n",
    "server.index(corpus)"
   ]
  },
  {
   "cell_type": "code",
   "execution_count": 8,
   "metadata": {
    "collapsed": false
   },
   "outputs": [
    {
     "data": {
      "text/plain": [
       "[('18183', 1.0000001192092896, None),\n",
       " ('12691', 0.9298461675643921, None),\n",
       " ('18414', 0.8706507086753845, None),\n",
       " ('18412', 0.845548689365387, None),\n",
       " ('17351', 0.8358715176582336, None),\n",
       " ('16392', 0.8268610835075378, None),\n",
       " ('15734', 0.8127365708351135, None),\n",
       " ('13911', 0.8093626499176025, None),\n",
       " ('14625', 0.8076587915420532, None),\n",
       " ('18413', 0.8020862936973572, None),\n",
       " ('14913', 0.771027684211731, None),\n",
       " ('16789', 0.7585797309875488, None),\n",
       " ('17528', 0.740717351436615, None),\n",
       " ('16449', 0.7386183142662048, None),\n",
       " ('16766', 0.7303283214569092, None),\n",
       " ('17246', 0.7225890755653381, None),\n",
       " ('12600', 0.704534113407135, None),\n",
       " ('13309', 0.6827985644340515, None),\n",
       " ('17778', 0.5448945760726929, None),\n",
       " ('15052', 0.5416157841682434, None),\n",
       " ('17787', 0.5352489948272705, None),\n",
       " ('12897', 0.47698116302490234, None),\n",
       " ('18257', 0.4752431809902191, None),\n",
       " ('13440', 0.4672621488571167, None),\n",
       " ('12534', 0.45265477895736694, None)]"
      ]
     },
     "execution_count": 8,
     "metadata": {},
     "output_type": "execute_result"
    }
   ],
   "source": [
    "# query for similar documents\n",
    "sim_result = server.find_similar('18183', max_results=25)\n",
    "sim_result"
   ]
  },
  {
   "cell_type": "code",
   "execution_count": 31,
   "metadata": {
    "collapsed": false
   },
   "outputs": [],
   "source": [
    "# query for text not in corpus\n",
    "import preprocess_text\n",
    "doc = {'tokens': preprocess_text.preprocess_text('cats and recipes and politics')}\n",
    "sim_result = server.find_similar(doc)"
   ]
  },
  {
   "cell_type": "code",
   "execution_count": 32,
   "metadata": {
    "collapsed": true
   },
   "outputs": [],
   "source": [
    "ids = [x[0] for x in sim_result]"
   ]
  },
  {
   "cell_type": "code",
   "execution_count": 45,
   "metadata": {
    "collapsed": false
   },
   "outputs": [],
   "source": [
    "def pg_int_array(the_list):\n",
    "    return '(' + ','.join(the_list) + ')'"
   ]
  },
  {
   "cell_type": "code",
   "execution_count": 36,
   "metadata": {
    "collapsed": false
   },
   "outputs": [],
   "source": [
    "id_array = list_to_pg_arr(ids)"
   ]
  },
  {
   "cell_type": "code",
   "execution_count": 46,
   "metadata": {
    "collapsed": false
   },
   "outputs": [
    {
     "data": {
      "text/plain": [
       "[('A Way with Words',),\n",
       " ('AboutBeverages.com - Podcast',),\n",
       " ('Alive Again - Pet Reincarnation on Pet Life Radio (PetLifeRadio.com)',),\n",
       " ('All in the Industry',),\n",
       " (\"America's Test Kitchen Radio\",),\n",
       " ('Animal Instinct',),\n",
       " ('Animal Writes - Animal Writers and Best-selling Authors - Pets & Animals on Pet Life Radio (PetLifeRadio.com)',),\n",
       " ('Answer Me This!',),\n",
       " ('Awesome Advocates- For Dogs, Cats, & other Pets on Pet Life Radio (PetLifeRadio.com)',),\n",
       " ('Bark And Swagger - Pet Fashion on Pet Life Radio (PetLifeRadio.com)',),\n",
       " ('Bartender Journey - Cocktails. Spirits. Bartending Culture. Libations for your Ears.',),\n",
       " ('Bear Friend Tea Party',),\n",
       " ('itunes \\xe2\\x80\\x93 Big Cat Rescue',),\n",
       " ('Brains On',),\n",
       " ('Cat and Fox',),\n",
       " ('Cat Context Podcast',),\n",
       " (\"Chef's Story\",),\n",
       " ('Comedy Factory from CBC Radio',),\n",
       " ('comedy4cast - Comedy Podcast',),\n",
       " ('Cooking Issues',),\n",
       " ('Cooking on the Wildside Vodcast',),\n",
       " ('Cooking with Paula McIntyre',),\n",
       " ('Deep House Cat',),\n",
       " ('Doctor Who: Mostly Harmless Cutaway',),\n",
       " ('Earth Eats: Real Food, Green Living',),\n",
       " ('Eat Your Words',),\n",
       " ('Episodes of The Irrelevant Show from CBC Radio',),\n",
       " ('Favorite Foodies',),\n",
       " ('Flavor Living Radio',),\n",
       " ('Food Programme',),\n",
       " ('Food Talk with Mike Colameco',),\n",
       " ('Fork Report',),\n",
       " ('Fortnight on the Internets',),\n",
       " ('FOX News Radio',),\n",
       " ('Furballd',),\n",
       " ('Get Pawsitive Results on Pet Life Radio (PetLifeRadio.com)',),\n",
       " ('High Tea With the Pot Brownies',),\n",
       " ('Hillbilly Nerd Talk',),\n",
       " ('In The Weeds with Ben Randall',),\n",
       " ('Inside School Food',),\n",
       " (\"It's New Orleans: Louisiana Eats\",),\n",
       " ('Juke In The Back \\xc2\\xbb Podcast Feed',),\n",
       " ('Kevin and Ursula Eat Cheap',),\n",
       " ('KFC Radio',),\n",
       " ('Kitchen Chat With Margaret McSweeney',),\n",
       " ('KRCB-FM: Mouthful',),\n",
       " (\"Let's Drink About It\",),\n",
       " ('Mailtime: The Laziest Hour of Your Day',),\n",
       " ('Meowster Podcast',),\n",
       " ('Midnight Movie Knights',),\n",
       " ('Monkey Radio with Marc',),\n",
       " ('Monocle 24: The Menu',),\n",
       " ('Monster in a Glass',),\n",
       " ('MrJeff2000 Explains It All',),\n",
       " ('Murphys Law',),\n",
       " ('My Poor Liver',),\n",
       " ('My Welcome Table',),\n",
       " ('Namely Marly Podcast',),\n",
       " ('Nerds with Wine',),\n",
       " ('New Books in Food',),\n",
       " ('Ninjas vs. Podcast',),\n",
       " ('NLCast Network Master Feed',),\n",
       " ('North by Northwest from CBC Radio British Columbia (Highlights)',),\n",
       " ('2 Boomer Broads',),\n",
       " ('5 Minutes of Rum',),\n",
       " ('Oh Behave - Harmony in the household with your pets, & animal behavior - Pets & Animals on Pet Life Radio (PetLifeRadio.com)',),\n",
       " ('No Title',),\n",
       " ('Ontario SPCA',),\n",
       " ('Pets-A-Loud',),\n",
       " (\"Phoebe's Pure Food - 2 Weird Hungry Girls\",),\n",
       " ('Pleased To Meet You',),\n",
       " ('Plumluvfoods',),\n",
       " ('Podcast - Podocalypse',),\n",
       " ('Prefer Not To',),\n",
       " ('Radio Cherry Bombe',),\n",
       " ('Regular Features',),\n",
       " ('Root Simple Podcast',),\n",
       " ('RT\\xc3\\x89 - Marty Whelan at Midday Podcast',),\n",
       " ('Rum Doings',),\n",
       " ('Save The Cat! Podcast',),\n",
       " ('Seattle Kitchen',),\n",
       " ('Sharp & Hot',),\n",
       " ('Snacky Tunes',),\n",
       " ('Stories From Unknown Authors',),\n",
       " ('Storynory - Stories For Kids',),\n",
       " ('Tell The Bartender',),\n",
       " ('The Drabblecast Audio Fiction Podcast',),\n",
       " ('The Sporkful',),\n",
       " ('TheCurioso',),\n",
       " ('Top Heavy Podcast',),\n",
       " ('Tournamental',),\n",
       " ('WANHTPY',),\n",
       " ('Way Past Cool',),\n",
       " ('We Had a Good Life',),\n",
       " ('What Were You Thinking - All about exotic pets & animals you can keep as a pet - Pets & Animals on Pet Life Radio (PetLifeRadio',),\n",
       " ('WORD OF MOUTH with Leiti Hsu',),\n",
       " ('Working Like Dogs - Service Dogs and Working Dogs  - Pets & Animals on Pet Life Radio (PetLifeRadio.com)',),\n",
       " ('Xtreme Tasting League: ScotchXtreme Tasting League: Scotch',),\n",
       " ('Your Pets My Dogs - on Pet Life Radio (PetLifeRadio.com)',),\n",
       " ('Zen Tiki Lounge Podcast',)]"
      ]
     },
     "execution_count": 46,
     "metadata": {},
     "output_type": "execute_result"
    }
   ],
   "source": [
    "import psycopg2\n",
    "dbname = 'podcast'\n",
    "username = 'lindsay'\n",
    "con = psycopg2.connect(database = dbname, user = username)\n",
    "cursor = con.cursor()\n",
    "query = \"SELECT name FROM podcast WHERE id IN %s;\"\n",
    "cursor.execute(query % (list_to_pg_arr(ids)))\n",
    "cursor.fetchall()"
   ]
  },
  {
   "cell_type": "code",
   "execution_count": 51,
   "metadata": {
    "collapsed": false
   },
   "outputs": [],
   "source": [
    "podcast_id=15793"
   ]
  },
  {
   "cell_type": "code",
   "execution_count": 55,
   "metadata": {
    "collapsed": false
   },
   "outputs": [],
   "source": [
    "query = \"SELECT name FROM podcast WHERE id = '%s'\"\n",
    "cursor.execute(query % podcast_id)\n",
    "podcast_name = cursor.fetchall()"
   ]
  },
  {
   "cell_type": "code",
   "execution_count": 61,
   "metadata": {
    "collapsed": false
   },
   "outputs": [
    {
     "data": {
      "text/plain": [
       "u'Meowster Podcast'"
      ]
     },
     "execution_count": 61,
     "metadata": {},
     "output_type": "execute_result"
    }
   ],
   "source": [
    "podcast_name[0][0].decode('utf-8')"
   ]
  },
  {
   "cell_type": "code",
   "execution_count": null,
   "metadata": {
    "collapsed": true
   },
   "outputs": [],
   "source": []
  }
 ],
 "metadata": {
  "kernelspec": {
   "display_name": "Python 2",
   "language": "python",
   "name": "python2"
  },
  "language_info": {
   "codemirror_mode": {
    "name": "ipython",
    "version": 2
   },
   "file_extension": ".py",
   "mimetype": "text/x-python",
   "name": "python",
   "nbconvert_exporter": "python",
   "pygments_lexer": "ipython2",
   "version": "2.7.10"
  }
 },
 "nbformat": 4,
 "nbformat_minor": 0
}
